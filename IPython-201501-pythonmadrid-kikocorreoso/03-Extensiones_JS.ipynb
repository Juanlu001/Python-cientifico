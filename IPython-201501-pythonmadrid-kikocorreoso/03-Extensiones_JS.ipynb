{
 "metadata": {
  "name": "",
  "signature": "sha256:164f84e40d61b1915a7bd08c82774e35dd7b020c5f40c8be5e042865cf64e40f"
 },
 "nbformat": 3,
 "nbformat_minor": 0,
 "worksheets": [
  {
   "cells": [
    {
     "cell_type": "heading",
     "level": 1,
     "metadata": {},
     "source": [
      "Creando una extensi\u00f3n js simple"
     ]
    },
    {
     "cell_type": "markdown",
     "metadata": {},
     "source": [
      "<div class=\"alert alert-info\">\n",
      "La creaci\u00f3n de extensiones js no est\u00e1 bien cubierta en [los documentos oficiales de IPython](http://ipython.org/ipython-doc/dev/config/extensions/) (o quiz\u00e1 no he sido capaz de encontrar la informaci\u00f3n \u00fatil) y te toca navegar para encontrar informaci\u00f3n \u00fatil.\n",
      "</div>"
     ]
    },
    {
     "cell_type": "markdown",
     "metadata": {},
     "source": [
      "Vamos a crear una extensi\u00f3n que nos permitir\u00e1 hablarle al notebook de IPython y el texto se escribir\u00e1 en una celda del mismo. Ha sido probado con IPython 2.3.0 y 3.0.0.dev en chrome/chromium v40 (necesitar\u00e1s que la [web speech API funcione en tu navegador](https://dvcs.w3.org/hg/speech-api/raw-file/tip/speechapi.html))."
     ]
    },
    {
     "cell_type": "markdown",
     "metadata": {},
     "source": [
      "Para hacerlo funcionar debes crear la carpeta 'talk' en ***IPYTHONDIR/nbextensions*** y copiar los ficheros que se encuentran [aqu\u00ed](-------------------------------) en la carpeta 'talk' que acabas de crear. "
     ]
    },
    {
     "cell_type": "markdown",
     "metadata": {},
     "source": [
      "Ahora estamos listos para cargar la extensi\u00f3n:"
     ]
    },
    {
     "cell_type": "code",
     "collapsed": false,
     "input": [
      "%%javascript\n",
      "IPython.load_extensions('talk/talk');"
     ],
     "language": "python",
     "metadata": {},
     "outputs": [
      {
       "javascript": [
        "IPython.load_extensions('talk/talk');"
       ],
       "metadata": {},
       "output_type": "display_data",
       "text": [
        "<IPython.core.display.Javascript object>"
       ]
      }
     ],
     "prompt_number": 1
    },
    {
     "cell_type": "markdown",
     "metadata": {},
     "source": [
      "Deber\u00edas ver un nuevo bot\u00f3n en la barra de herramientas:\n",
      "\n",
      "<i class=\"fa fa-pencil-square-o\" style=\"font-size:30px;\"></i>"
     ]
    },
    {
     "cell_type": "markdown",
     "metadata": {},
     "source": [
      "Si pulsas sobre el bot\u00f3n el navegador te preguntar\u00e1 si le permites acceder al micr\u00f3fono (acepta) y se abrir\u00e1 una ventana de di\u00e1logo. Habla y cuando est\u00e9s listo pulsa en 'OK' en la ventana de di\u00e1logo. Tus comentarios se escribir\u00e1n en la celda que estaba activa en el momento en que pulsaste en el bot\u00f3n <i class=\"fa fa-pencil-square-o\"></i> as\u00ed que <span class=\"alert-danger\">tened cuidado no sobreescrib\u00e1is sobre alg\u00fan texto interesante!!!!</span>.\n",
      "\n",
      "Dejo la siguiente celda en blanco para que la puedas usar <i class=\"fa fa-smile-o\" style=\"font-size: 20px;\"></i>"
     ]
    },
    {
     "cell_type": "markdown",
     "metadata": {},
     "source": []
    },
    {
     "cell_type": "markdown",
     "metadata": {},
     "source": [
      "En la siguiente celda se puede ver el c\u00f3digo de ***talk.js***"
     ]
    },
    {
     "cell_type": "code",
     "collapsed": false,
     "input": [
      "/*\n",
      "* ----------------------------------------------------------------------------\n",
      "* Copyright (c) 2014 - Kiko Correoso\n",
      "*\n",
      "* Distributed under the terms of the MIT License.\n",
      "*\n",
      "* A little extension to talk with the IPython notebook and write the \n",
      "* conversation in a cell.\n",
      "*\n",
      "* Ths extension is based on previous work by Dami\u00e1n \u00c1vila and Min Ragan Kelley \n",
      "* see https://github.com/damianavila/mIPyex/tree/master/custom/spellchecker\n",
      "* see https://github.com/minrk/ipython_extensions\n",
      "* ----------------------------------------------------------------------------\n",
      "*/\n",
      "\n",
      "/*\n",
      "* ----------------------------------------------------------------------------\n",
      "* INSTALLATION\n",
      "* \n",
      "* Add this file and neighboring talk.css to $(ipython locate)/nbextensions/talk\n",
      "*\n",
      "* And load it with:\n",
      "*\n",
      "* %%javascript\n",
      "* IPython.load_extensions('talk/talk');\n",
      "* ----------------------------------------------------------------------------\n",
      "*/\n",
      "\n",
      "define([\"require\"], function (require) {\n",
      "  \"use strict\";\n",
      "  \n",
      "  // Test browser support\n",
      "  window.SpeechRecognition = window.SpeechRecognition        ||\n",
      "                             window.webkitSpeechRecognition  ||\n",
      "                             null;\n",
      "    \n",
      "  if (window.SpeechRecognition){    \n",
      "      \n",
      "    var recognizer = new window.SpeechRecognition();\n",
      "    recognizer.continuous = true; \n",
      "    recognizer.interimResults = true;\n",
      "    recognizer.lang = \"es-ES\"   \n",
      "    \n",
      "    var talk_func = function(){\n",
      "    \n",
      "      var textarea = $('<textarea/>')\n",
      "        .attr('rows','15')\n",
      "        .attr('cols','80')\n",
      "        .attr('name','source')\n",
      "        .attr('id', 'talkarea')\n",
      "        /*.attr('readonly', 'readonly')*/\n",
      "        .text('Text will be written here...');\n",
      "      \n",
      "      var dialogform = $('<div/>')\n",
      "        .append(\n",
      "          $('<form/>').append(\n",
      "            $('<fieldset/>').append(\n",
      "              $('<label/>')\n",
      "                .attr('for','source')\n",
      "                .text(\"Please, talk to a microphone and the words \" +\n",
      "                      \"will appear in the textarea below. \" +\n",
      "                      \"This extension shall work on Chrome and maybe in the \" +\n",
      "                      \"nightly builds of Firefox.\" +\n",
      "                      \"When the content is ready, press OK or Cancel if you \" +\n",
      "                      \"want to discard the text. \")\n",
      "            )\n",
      "            .append($('<br/>'))\n",
      "            .append(\n",
      "              textarea\n",
      "            )\n",
      "          )\n",
      "        );\n",
      "    \n",
      "      IPython.dialog.modal({\n",
      "        title: \"Please, talk and when ready click the button\",\n",
      "        body: dialogform,\n",
      "        buttons: {\n",
      "          \"OK\": { class : \"btn-primary\",\n",
      "                  click: function() {\n",
      "                           talkstop();\n",
      "                           var corr_input = $.trim($(textarea).val());\n",
      "                           console.log(corr_input);\n",
      "                           IPython.notebook.get_selected_cell().set_text(corr_input);\n",
      "                         }\n",
      "                },\n",
      "          Cancel: { click: function() {\n",
      "                               talkstop();\n",
      "                           }\n",
      "                  }\n",
      "        }\n",
      "      });\n",
      "      \n",
      "      var talkstart = function (){\n",
      "        console.log('entrostart');\n",
      "        // Start recognising\n",
      "        recognizer.onresult = function(event) {\n",
      "                                console.log('onresult');\n",
      "                                var transcription = $('#talkarea');\n",
      "                                transcription.val('');\n",
      "                                  for (var i = event.resultIndex; i < event.results.length; i++) {\n",
      "                                    if (event.results[i].isFinal) {\n",
      "                                      transcription.val(\n",
      "                                        transcription.val() + event.results[i][0].transcript + '\\n(Confidence: ' + event.results[i][0].confidence + ')'\n",
      "                                      );\n",
      "                                    } else {\n",
      "                                      transcription.val(\n",
      "                                        transcription.val() + event.results[i][0].transcript\n",
      "                                      );\n",
      "                                    };\n",
      "                                  };\n",
      "                              };\n",
      "        // Error on recognising\n",
      "        recognizer.onerror = function(event) {\n",
      "                               console.log('onerror')\n",
      "                               transcription.val('Recognition error: ' + event.message);\n",
      "                             };\n",
      "        // Start listening\n",
      "        recognizer.start();\n",
      "      };\n",
      "    \n",
      "      var talkstop = function () {\n",
      "        // Stop listening\n",
      "        console.log('entrostop')\n",
      "        recognizer.stop();\n",
      "      };\n",
      "      \n",
      "      talkstart();\n",
      "    \n",
      "    };\n",
      "    \n",
      "  } else {\n",
      "    \n",
      "    var talk_func = function(){\n",
      "      \n",
      "      var dialogupdate = $('<div/>')\n",
      "        .append(\n",
      "          $('<p/>')\n",
      "            .text(\"Sorry, it seems that your browser doesn't support this functionality\")\n",
      "        );\n",
      "      \n",
      "      IPython.dialog.modal({\n",
      "        title: \"Not recognised\",\n",
      "        body: dialogupdate,\n",
      "      });\n",
      "    \n",
      "    };  \n",
      "  \n",
      "  };\n",
      "    \n",
      "  var talk_button = function () {\n",
      "    if (!IPython.toolbar) {\n",
      "      $([IPython.events]).on(\"app_initialized.NotebookApp\", talk_button);\n",
      "      return;\n",
      "    }\n",
      "    if ($(\"#talk_button\").length === 0) {\n",
      "      IPython.toolbar.add_buttons_group([\n",
      "        {\n",
      "          'label'   : 'Talk to IPython',\n",
      "          'icon'    : 'fa-pencil-square-o',\n",
      "          'callback': toggle_talk,\n",
      "          'id'      : 'talk_button'\n",
      "        },\n",
      "      ]);\n",
      "    };\n",
      "  };\n",
      "  \n",
      "  var toggle_talk = function(){\n",
      "    talk_func()\n",
      "  };\n",
      "    \n",
      "  var load_css = function () {\n",
      "    var link = document.createElement(\"link\");\n",
      "    link.type = \"text/css\";\n",
      "    link.rel = \"stylesheet\";\n",
      "    link.href = require.toUrl(\"./talk.css\");\n",
      "    console.log(link);\n",
      "    document.getElementsByTagName(\"head\")[0].appendChild(link);\n",
      "  };\n",
      "  \n",
      "  var load_ipython_extension = function () {\n",
      "    load_css();\n",
      "    talk_button();\n",
      "  };\n",
      "\n",
      "  return {\n",
      "    load_ipython_extension : load_ipython_extension,\n",
      "    toggle_talk : toggle_talk,\n",
      "    talk_func : talk_func,\n",
      "    \n",
      "  };\n",
      "  \n",
      "});"
     ],
     "language": "python",
     "metadata": {},
     "outputs": []
    },
    {
     "cell_type": "markdown",
     "metadata": {},
     "source": [
      "Si deseas que la extensi\u00f3n est\u00e9 disponible siempre que abras un nuevo notebook deber\u00e1s a\u00f1adir algo de c\u00f3digo en ***custom.js*** del perfil de usuario que quieras usar. Por ejemplo, en los notebooks previos hemos creado el perfil pymad por lo que para incluirlo en el ***custom.js*** de ese perfil deberemos incluir el siguiente c\u00f3digo:"
     ]
    },
    {
     "cell_type": "markdown",
     "metadata": {},
     "source": [
      "    // we want strict javascript that fails\n",
      "    // on ambiguous syntax\n",
      "    \"using strict\";\n",
      "\n",
      "    $([IPython.events]).on('app_initialized.NotebookApp', function(){\n",
      "         require(['custom/talk/main'],function(talk){\n",
      "           talk.parameters('dummy');\n",
      "           console.log('Talk extension loaded correctly');\n",
      "         });\n",
      "    });"
     ]
    },
    {
     "cell_type": "heading",
     "level": 1,
     "metadata": {},
     "source": [
      "M\u00e1s info"
     ]
    },
    {
     "cell_type": "markdown",
     "metadata": {},
     "source": [
      "http://nbviewer.ipython.org/github/ipython-books/cookbook-code/blob/master/notebooks/chapter03_notebook/03_controls.ipynb\n",
      "\n",
      "https://github.com/ipython/ipython/wiki/Extensions-Index\n",
      "\n",
      "https://github.com/ipython-contrib/IPython-notebook-extensions\n",
      "\n",
      "http://www.damian.oquanta.info/posts/loader-and-writer-ipython-nbextensions-to-easily-edit-your-text.html\n",
      "\n",
      "http://www.damian.oquanta.info/posts/a-poor-man-spell-checker-for-the-ipython-notebook.html\n",
      "\n",
      "http://www.damian.oquanta.info/posts/tweet-me-said-an-ipython-notebook-cell-and-i-did-it.html\n",
      "\n",
      "https://github.com/minrk/ipython_extensions\n",
      "\n",
      "https://www.pfenninger.org/posts/ipython-notebook-extensions-to-ease-day-to-day-work/"
     ]
    }
   ],
   "metadata": {}
  }
 ]
}