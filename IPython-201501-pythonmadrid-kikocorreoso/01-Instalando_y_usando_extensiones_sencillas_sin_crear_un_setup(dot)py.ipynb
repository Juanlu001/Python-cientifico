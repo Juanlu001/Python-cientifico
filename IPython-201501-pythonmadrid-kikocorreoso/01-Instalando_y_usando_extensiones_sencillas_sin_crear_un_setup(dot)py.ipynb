{
 "metadata": {
  "name": "",
  "signature": "sha256:ad529ddcba7262346a69c3b6819ab6b953002c7893dac2a3ae02c27891ae18c3"
 },
 "nbformat": 3,
 "nbformat_minor": 0,
 "worksheets": [
  {
   "cells": [
    {
     "cell_type": "markdown",
     "metadata": {},
     "source": [
      "<div class=\"alert alert-success\">\n",
      "<p>(Esto es una continuaci\u00f3n de lo que pod\u00e9is encontrar en [este otro notebook](http://nbviewer.ipython.org/github/kikocorreoso/PyConES14_talk-Hacking_the_Notebook/blob/master/notebooks/03-Creating_your_own_magic_functions.ipynb))</p>\n",
      "</div>"
     ]
    },
    {
     "cell_type": "markdown",
     "metadata": {},
     "source": [
      "Como vimos en el anterior notebook, crear una nueva funci\u00f3n m\u00e1gica simple es relativamente sencillo. Vamos a convertirla en una extensi\u00f3n. Para ello vamos a usar el ejemplo de `%ddg` vista en el notebook enlazado m\u00e1s arriba."
     ]
    },
    {
     "cell_type": "code",
     "collapsed": false,
     "input": [
      "%%writefile ./ddg_magics_ext.py\n",
      "from IPython.display import IFrame\n",
      "from IPython.core.magic import register_line_magic\n",
      "\n",
      "@register_line_magic\n",
      "def ddg(arg):\n",
      "    phrase = arg.replace(' ', '+')\n",
      "    url = \"https://duckduckgo.com/?&q={0}\".format(phrase)\n",
      "    print(url)\n",
      "    return IFrame(url, \"100%\", 400)"
     ],
     "language": "python",
     "metadata": {},
     "outputs": [
      {
       "output_type": "stream",
       "stream": "stdout",
       "text": [
        "Writing ./ddg_magics_ext.py\n"
       ]
      }
     ],
     "prompt_number": 2
    },
    {
     "cell_type": "markdown",
     "metadata": {},
     "source": [
      "Ahora tenemos disponible una extensi\u00f3n, que no es m\u00e1s que un fichero Python que podemos instalar de la siguiente forma:"
     ]
    },
    {
     "cell_type": "code",
     "collapsed": false,
     "input": [
      "%install_ext ddg_magics_ext.py"
     ],
     "language": "python",
     "metadata": {},
     "outputs": [
      {
       "output_type": "stream",
       "stream": "stdout",
       "text": [
        "Installed ddg_magics_ext.py. To use it, type:\n",
        "  %load_ext ddg_magics_ext\n"
       ]
      }
     ],
     "prompt_number": 3
    },
    {
     "cell_type": "markdown",
     "metadata": {},
     "source": [
      "A partir de este momento estar\u00e1 siempre disponible para el perfil de usuario que estamos usando."
     ]
    },
    {
     "cell_type": "markdown",
     "metadata": {},
     "source": [
      "Cuando iniciamos nueva sesi\u00f3n con el mismo perfil podemos cargar la extensi\u00f3n usando:"
     ]
    },
    {
     "cell_type": "code",
     "collapsed": false,
     "input": [
      "%load_ext ddg_magics_ext"
     ],
     "language": "python",
     "metadata": {},
     "outputs": [
      {
       "output_type": "stream",
       "stream": "stdout",
       "text": [
        "The ddg_magics_ext module is not an IPython extension.\n"
       ]
      }
     ],
     "prompt_number": 6
    },
    {
     "cell_type": "code",
     "collapsed": false,
     "input": [
      "%ddg python madrid"
     ],
     "language": "python",
     "metadata": {},
     "outputs": [
      {
       "output_type": "stream",
       "stream": "stdout",
       "text": [
        "https://duckduckgo.com/?&q=python+madrid\n"
       ]
      },
      {
       "html": [
        "\n",
        "        <iframe\n",
        "            width=\"100%\"\n",
        "            height=\"400\"\n",
        "            src=\"https://duckduckgo.com/?&q=python+madrid\"\n",
        "            frameborder=\"0\"\n",
        "            allowfullscreen\n",
        "        ></iframe>\n",
        "        "
       ],
       "metadata": {},
       "output_type": "pyout",
       "prompt_number": 7,
       "text": [
        "<IPython.lib.display.IFrame at 0x7fdeec1499b0>"
       ]
      }
     ],
     "prompt_number": 7
    }
   ],
   "metadata": {}
  }
 ]
}