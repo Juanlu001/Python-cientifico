{
 "metadata": {
  "name": "",
  "signature": "sha256:0d4667541f44ec03ba786e4ab054d3f34e373a4bd8de1e45f87dac11d6aa9bfc"
 },
 "nbformat": 3,
 "nbformat_minor": 0,
 "worksheets": [
  {
   "cells": [
    {
     "cell_type": "markdown",
     "metadata": {},
     "source": [
      "# Taller Python Cient\u00edfico - PyConES 2014\n",
      "## Parte II: Introducci\u00f3n a SymPy (en 15 min)\n",
      "\n",
      "#### Juan Luis Cano, Kiko Correoso y \u00c1lex S\u00e1ez ([@Pybonacci](https://twitter.com/Pybonacci))\n",
      "#### Fran Navarro, Zuria Bauer y Daniel Domene ([@CAChemEorg](http://twitter.com/CAChemEorg))"
     ]
    },
    {
     "cell_type": "markdown",
     "metadata": {},
     "source": [
      "<a rel=\"license\" href=\"http://creativecommons.org/licenses/by/4.0/deed.es\"><img alt=\"Licencia Creative Commons\" style=\"border-width:0\" src=\"http://i.creativecommons.org/l/by/4.0/88x31.png\" /></a><br /><span xmlns:dct=\"http://purl.org/dc/terms/\" property=\"dct:title\">Taller de Python Cient\u00edfico</span> por <span xmlns:cc=\"http://creativecommons.org/ns#\" property=\"cc:attributionName\">Pybonacci y CAChemE</span>  que se distribuye bajo una <a rel=\"license\" href=\"http://creativecommons.org/licenses/by/4.0/deed.es\">Licencia Creative Commons Atribuci\u00f3n 4.0 Internacional</a>."
     ]
    },
    {
     "cell_type": "heading",
     "level": 1,
     "metadata": {},
     "source": [
      "Introducci\u00f3n al c\u00e1lculo simb\u00f3lico"
     ]
    },
    {
     "cell_type": "markdown",
     "metadata": {},
     "source": [
      "Con este documento vas a aprender a calcular derivadas, integrales, l\u00edmites... y resolver ecuaciones con Python de forma libre (\u00a1y gratuita!) tal y como trabajan Mathematica, Maple o Mupad.\n",
      "\n",
      "Hay dos sistemas de \u00e1lgebra computacional (CAS, computer algebraic system) a destacar para Python:\n",
      "\n",
      "* [SymPy](http://sympy.org/en/index.html) - Biblioteca o librer\u00eda de Python que se puede utilizar en cualquier programa de Python, o en una sesi\u00f3n de IPython y que proporciona poderosas funciones de CAS.\n",
      "* [Sage](http://www.sagemath.org/) - Sage es un entorno CAS completo y muy potente que tiene como objetivo proporcionar un sistema de c\u00f3digo abierto compitiendo con Mathematica y Maple. Sage no es una librer\u00eda de Python regular, sino m\u00e1s bien un entorno de CAS que utiliza Python como lenguaje de programaci\u00f3n.\n",
      "\n",
      "Sage es, en algunos aspectos, m\u00e1s poderoso que SymPy, pero ambos ofrecen una funcionalidad CAS muy completa. La ventaja de SymPy es que es una librer\u00eda m\u00e1s de Python y se puede usar directamente con c\u00f3digo o integrar en con el bloc de notas IPython. En esta lecci\u00f3n, por lo tanto, vamos a ver c\u00f3mo utilizar SymPy con Notebooks de IPython. "
     ]
    },
    {
     "cell_type": "markdown",
     "metadata": {},
     "source": [
      "![](http://sympy.org/static/images/logo.png)\n",
      "\n",
      "Hoy veremos c\u00f3mo:\n",
      "\n",
      "* Crear s\u00edmbolos y expresiones.\n",
      "* Manipular expresiones (simplificaci\u00f3n, expansi\u00f3n...)\n",
      "* Calcular derivadas e integrales.\n",
      "* L\u00edmites y desarrollos en serie.\n",
      "* Resoluci\u00f3n de ecuaciones.\n",
      "* Resolci\u00f3n de EDOs.\n",
      "* Matrices\n",
      "\n",
      "SymPy se puede usar directamente online sin registro alguno en [SymPy Live](http://live.sympy.org/), [Sympy Gamma](http://www.sympygamma.com/) o mediante Notebooks con registro gratuito en [Cloud Sage](https://cloud.sagemath.com/). Existen otras alternativas gratutias (pero comerciales) online como [Wakari](https://www.wakari.io/), adem\u00e1s el futuro de IPython pasa por [Jupyter](http://jupyter.org/) (notebooks colaborativos para Julia, Python y R). Si lo que quieres instal\u00e1rtelo en tu ordenador recomendamos [Anaconda de Continuum](http://nbviewer.ipython.org/github/AeroPython/Curso_AeroPython/blob/master/Notebooks/Clase0_Bienvenido.ipynb)."
     ]
    },
    {
     "cell_type": "heading",
     "level": 1,
     "metadata": {},
     "source": [
      "Empezando con SymPy"
     ]
    },
    {
     "cell_type": "heading",
     "level": 2,
     "metadata": {},
     "source": [
      "Creaci\u00f3n de s\u00edmbolos"
     ]
    },
    {
     "cell_type": "markdown",
     "metadata": {},
     "source": [
      "Lo primero, como siempre, es importar aquello que vayamos a necesitar. En SymPy hay un comando muy sencillo que nos facilita esta tarea:"
     ]
    },
    {
     "cell_type": "code",
     "collapsed": false,
     "input": [
      "from sympy import init_session"
     ],
     "language": "python",
     "metadata": {},
     "outputs": [],
     "prompt_number": 1
    },
    {
     "cell_type": "code",
     "collapsed": false,
     "input": [
      "init_session(use_latex=True)"
     ],
     "language": "python",
     "metadata": {},
     "outputs": [
      {
       "output_type": "stream",
       "stream": "stdout",
       "text": [
        "IPython console for SymPy 0.7.5 (Python 3.4.1-64-bit) (ground types: python)\n",
        "\n",
        "These commands were executed:\n",
        ">>> from __future__ import division\n",
        ">>> from sympy import *\n",
        ">>> x, y, z, t = symbols('x y z t')\n",
        ">>> k, m, n = symbols('k m n', integer=True)\n",
        ">>> f, g, h = symbols('f g h', cls=Function)\n",
        "\n",
        "Documentation can be found at http://www.sympy.org\n"
       ]
      },
      {
       "output_type": "stream",
       "stream": "stderr",
       "text": [
        "WARNING: Hook shutdown_hook is deprecated. Use the atexit module instead.\n"
       ]
      }
     ],
     "prompt_number": 2
    },
    {
     "cell_type": "markdown",
     "metadata": {},
     "source": [
      "Podemos ver el comando `init_session` ha llevado a cabo algunas acciones por nostros:\n",
      "\n",
      "* Gracias a `use_latex=True` obtenemos la salida en $\\LaTeX$.\n",
      "* __Ha creado una serie de variables__ para que podamos ponernos a trabajar en el momento."
     ]
    },
    {
     "cell_type": "markdown",
     "metadata": {},
     "source": [
      "<div class=\"alert warning-info\"><strong>Nota:</strong> \n",
      "En Python, no se declaran las variables, sin embargo, no puedes usar una hasta que no le hayas asignado un valor. Si ahora intentamos crear una variable `a` que sea `a = 2 * b`, veamos qu\u00e9 ocurre:\n",
      "</div>"
     ]
    },
    {
     "cell_type": "code",
     "collapsed": false,
     "input": [
      "a = 2 * b"
     ],
     "language": "python",
     "metadata": {},
     "outputs": [
      {
       "ename": "NameError",
       "evalue": "name 'b' is not defined",
       "output_type": "pyerr",
       "traceback": [
        "\u001b[1;31m---------------------------------------------------------------------------\u001b[0m\n\u001b[1;31mNameError\u001b[0m                                 Traceback (most recent call last)",
        "\u001b[1;32m<ipython-input-3-d57516069ecc>\u001b[0m in \u001b[0;36m<module>\u001b[1;34m()\u001b[0m\n\u001b[1;32m----> 1\u001b[1;33m \u001b[0ma\u001b[0m \u001b[1;33m=\u001b[0m \u001b[1;36m2\u001b[0m \u001b[1;33m*\u001b[0m \u001b[0mb\u001b[0m\u001b[1;33m\u001b[0m\u001b[0m\n\u001b[0m",
        "\u001b[1;31mNameError\u001b[0m: name 'b' is not defined"
       ]
      }
     ],
     "prompt_number": 3
    },
    {
     "cell_type": "markdown",
     "metadata": {},
     "source": [
      "Como en `b` no hab\u00eda sido creada, Python no sabe qu\u00e9 es `b`. Esto mismo nos ocurre con los s\u00edmbolos de SymPy. __Antes de usar una variable, debo decir que es un s\u00edmbolo y asign\u00e1rselo:__"
     ]
    },
    {
     "cell_type": "markdown",
     "metadata": {},
     "source": [
      "## \u00bfVariables simb\u00f3licas?\n",
      "\n",
      "A diferencia de lo que estamos acostumbrados, las variables en SymPy son inc\u00f3gnitas. Podemos crear un nuevo s\u00edmbolo con la instancia de clase `Symbol`:"
     ]
    },
    {
     "cell_type": "code",
     "collapsed": false,
     "input": [
      "#creamos la variable/inc\u00f3ginta/s\u00edmbolo 'x'\n",
      "x = Symbol('x')\n",
      "x**2"
     ],
     "language": "python",
     "metadata": {},
     "outputs": [
      {
       "latex": [
        "$$x^{2}$$"
       ],
       "metadata": {},
       "output_type": "pyout",
       "png": "[encoded data removed]",
       "prompt_number": 4,
       "text": [
        " 2\n",
        "x "
       ]
      }
     ],
     "prompt_number": 4
    },
    {
     "cell_type": "markdown",
     "metadata": {},
     "source": [
      "\u00bfQu\u00e9 ha pasado aqu\u00ed arriba? En primer lugar creamos el s\u00edmbolo con la variable $x$ y despu\u00e9s vimos su valor. Si te has fijado, a diferencia de c\u00f3digo normal en Python (o MATLAB), $x^2$ no devuelve ning\u00fan valor (n\u00famero, texto, verdadero o falso) simplemente devuelve esa inc\u00f3gnita al cuadrado en el que a priori no sabemos que contiene. "
     ]
    },
    {
     "cell_type": "markdown",
     "metadata": {},
     "source": [
      "As\u00ed, escribiendo una expresi\u00f3n con esta variable no habr\u00e1 evaluaci\u00f3n num\u00e9rica:"
     ]
    },
    {
     "cell_type": "code",
     "collapsed": false,
     "input": [
      "(x + pi)**2"
     ],
     "language": "python",
     "metadata": {},
     "outputs": [
      {
       "latex": [
        "$$\\left(x + \\pi\\right)^{2}$$"
       ],
       "metadata": {},
       "output_type": "pyout",
       "png": "[encoded data removed]",
       "prompt_number": 5,
       "text": [
        "       2\n",
        "(x + \u03c0) "
       ]
      }
     ],
     "prompt_number": 5
    },
    {
     "cell_type": "markdown",
     "metadata": {},
     "source": [
      "Igual que con Python, se pueden definir simbolos de forma alternativa y m\u00e1s compacta de la siguiente forma:"
     ]
    },
    {
     "cell_type": "code",
     "collapsed": false,
     "input": [
      "x, y, z, t = symbols('x y z t')"
     ],
     "language": "python",
     "metadata": {},
     "outputs": [],
     "prompt_number": 6
    },
    {
     "cell_type": "markdown",
     "metadata": {},
     "source": [
      "Para ver qu\u00e9 tipo de variable es $x$:"
     ]
    },
    {
     "cell_type": "code",
     "collapsed": false,
     "input": [
      "type(x)"
     ],
     "language": "python",
     "metadata": {},
     "outputs": [
      {
       "metadata": {},
       "output_type": "pyout",
       "prompt_number": 7,
       "text": [
        "sympy.core.symbol.Symbol"
       ]
      }
     ],
     "prompt_number": 7
    },
    {
     "cell_type": "markdown",
     "metadata": {},
     "source": [
      "Recuerda que seguimos trabajando con Python, por lo que si vuelvo a asignar un valor nuevo a $x$:"
     ]
    },
    {
     "cell_type": "code",
     "collapsed": false,
     "input": [
      "x = 3\n",
      "x**2"
     ],
     "language": "python",
     "metadata": {},
     "outputs": [
      {
       "latex": [
        "$$9$$"
       ],
       "metadata": {},
       "output_type": "pyout",
       "png": "[encoded data removed]",
       "prompt_number": 8,
       "text": [
        "9"
       ]
      }
     ],
     "prompt_number": 8
    },
    {
     "cell_type": "markdown",
     "metadata": {},
     "source": [
      "---\n",
      "__Las conclusiones son:__\n",
      "\n",
      "* __Si quiero usar una variable como s\u00edmbolo debo crearla previamente.__\n",
      "* Las operaciones con s\u00edmbolos devuelven s\u00edmbolos.\n",
      "* Si una variable que almacenaba un s\u00edmbolo recibe otra asignaci\u00f3n, cambia de tipo.\n",
      "\n",
      "---"
     ]
    },
    {
     "cell_type": "markdown",
     "metadata": {},
     "source": [
      "<div class=\"alert warning-info\"><strong>Nota:</strong> Por defecto, SymPy entiende que los s\u00edmbolos son n\u00fameros complejos. Esto puede producir resultados inesperados ante determinadas operaciones como, por ejemplo, lo logaritmos. __Podemos indicar que la variable es real, entera... en el momento de la creaci\u00f3n__:<div>"
     ]
    },
    {
     "cell_type": "code",
     "collapsed": false,
     "input": [
      "#creamos s\u00edmbolos reales\n",
      "x, y, z, t = symbols('x y z t', real=True)"
     ],
     "language": "python",
     "metadata": {},
     "outputs": [],
     "prompt_number": 9
    },
    {
     "cell_type": "code",
     "collapsed": false,
     "input": [
      "#preguntamos si son reales\n",
      "x.is_integer is None"
     ],
     "language": "python",
     "metadata": {},
     "outputs": [
      {
       "metadata": {},
       "output_type": "pyout",
       "prompt_number": 10,
       "text": [
        "True"
       ]
      }
     ],
     "prompt_number": 10
    },
    {
     "cell_type": "markdown",
     "metadata": {},
     "source": [
      "<div class=\"alert alert-info\">__Las variables de tipo `Symbol` act\u00faan como contenedores en los que no sabemos qu\u00e9 hay (un real, un complejo, una lista...), imag\u00ednatelas como inc\u00f3gnitas__.</div>"
     ]
    },
    {
     "cell_type": "heading",
     "level": 2,
     "metadata": {},
     "source": [
      "Expresiones y manipulaciones algebraicas"
     ]
    },
    {
     "cell_type": "markdown",
     "metadata": {},
     "source": [
      "Comencemos por crear una expresi\u00f3n como: $\\cos(x)^2+\\sin(x)^2$"
     ]
    },
    {
     "cell_type": "code",
     "collapsed": false,
     "input": [
      "expresion = cos(x)**2 + sin(x)**2\n",
      "expresion"
     ],
     "language": "python",
     "metadata": {},
     "outputs": [
      {
       "latex": [
        "$$\\sin^{2}{\\left (x \\right )} + \\cos^{2}{\\left (x \\right )}$$"
       ],
       "metadata": {},
       "output_type": "pyout",
       "png": "[encoded data removed]",
       "prompt_number": 11,
       "text": [
        "   2         2   \n",
        "sin (x) + cos (x)"
       ]
      }
     ],
     "prompt_number": 11
    },
    {
     "cell_type": "markdown",
     "metadata": {},
     "source": [
      "\u00bfQu\u00e9 est\u00e1 ocurriendo? Python detecta que a es una variable de tipo `Symbol` y al operar con ella nos devuelve otra variable de Sympy."
     ]
    },
    {
     "cell_type": "markdown",
     "metadata": {},
     "source": [
      "<div class=\"alert warning-info\"><strong>Nota:</strong> \n",
      "No debes olvidar en ning\u00fan momento que est\u00e1s utilizando Python, por lo tanto __el operador `=` est\u00e1 realizando una asignaci\u00f3n__. La variable `expr` pasa a contener `cos(x)**2 + sin(x)**2`, pero esto no es una ecuaci\u00f3n, m\u00e1s adelante veremos c\u00f3mo definirlas.\n",
      "</div>"
     ]
    },
    {
     "cell_type": "heading",
     "level": 3,
     "metadata": {},
     "source": [
      "`simplify()`"
     ]
    },
    {
     "cell_type": "markdown",
     "metadata": {},
     "source": [
      "Podemos pedirle que simplifique la expresi\u00f3n anterior:"
     ]
    },
    {
     "cell_type": "code",
     "collapsed": false,
     "input": [
      "simplify(expresion)"
     ],
     "language": "python",
     "metadata": {},
     "outputs": [
      {
       "latex": [
        "$$1$$"
       ],
       "metadata": {},
       "output_type": "pyout",
       "png": "[encoded data removed]",
       "prompt_number": 12,
       "text": [
        "1"
       ]
      }
     ],
     "prompt_number": 12
    },
    {
     "cell_type": "markdown",
     "metadata": {},
     "source": [
      "En este caso parece estar claro, lo que quiere decir m\u00e1s simple, pero como en cualquier _CAS_ el comando `simplify` puede no devolvernos la expresi\u00f3n que nosotros queremos. Cuando esto ocurra necesitaremos usar otras instrucciones."
     ]
    },
    {
     "cell_type": "heading",
     "level": 3,
     "metadata": {},
     "source": [
      "`evalf()`"
     ]
    },
    {
     "cell_type": "markdown",
     "metadata": {},
     "source": [
      "__Podemos obtener el valor num\u00e9rico haciendo uso del m\u00e9todo `.evalf()`__"
     ]
    },
    {
     "cell_type": "code",
     "collapsed": false,
     "input": [
      "#ver pi con 25 decimales\n",
      "pi.evalf(25)"
     ],
     "language": "python",
     "metadata": {},
     "outputs": [
      {
       "latex": [
        "$$3.141592653589793238462643$$"
       ],
       "metadata": {},
       "output_type": "pyout",
       "png": "[encoded data removed]",
       "prompt_number": 13,
       "text": [
        "3.141592653589793238462643"
       ]
      }
     ],
     "prompt_number": 13
    },
    {
     "cell_type": "code",
     "collapsed": false,
     "input": [
      "#el mismo resultado se obtiene ocn la funci\u00f3n N()\n",
      "N(pi,25)"
     ],
     "language": "python",
     "metadata": {},
     "outputs": [
      {
       "latex": [
        "$$3.141592653589793238462643$$"
       ],
       "metadata": {},
       "output_type": "pyout",
       "png": "[encoded data removed]",
       "prompt_number": 14,
       "text": [
        "3.141592653589793238462643"
       ]
      }
     ],
     "prompt_number": 14
    },
    {
     "cell_type": "heading",
     "level": 3,
     "metadata": {},
     "source": [
      "subs()"
     ]
    },
    {
     "cell_type": "markdown",
     "metadata": {},
     "source": [
      "El m\u00e9todo `subs`  tambi\u00e9n puede utilizarse para sustituir los s\u00edmbolos en expresiones:"
     ]
    },
    {
     "cell_type": "code",
     "collapsed": false,
     "input": [
      "expresion = (sin(x) + 3 * x)\n",
      "expresion.subs(x, pi)"
     ],
     "language": "python",
     "metadata": {},
     "outputs": [
      {
       "latex": [
        "$$3 \\pi$$"
       ],
       "metadata": {},
       "output_type": "pyout",
       "png": "[encoded data removed]",
       "prompt_number": 15,
       "text": [
        "3\u22c5\u03c0"
       ]
      }
     ],
     "prompt_number": 15
    },
    {
     "cell_type": "markdown",
     "metadata": {},
     "source": [
      "Si queremos representar estas expresiones podemos hacerlo con la funci\u00f3n `plot`. Para ello, cargamos las librer\u00edas necesarias mediante el siguiente c\u00f3digo:"
     ]
    },
    {
     "cell_type": "code",
     "collapsed": false,
     "input": [
      "from sympy.plotting import plot\n",
      "\n",
      "# Representa las figuras en l\u00ednea con el documento (no en una ventana emergente)\n",
      "%matplotlib inline"
     ],
     "language": "python",
     "metadata": {},
     "outputs": [],
     "prompt_number": 16
    },
    {
     "cell_type": "markdown",
     "metadata": {},
     "source": [
      "Representamos $f(x) = x^2$ $\\forall \\: x \\in [-5,5]$"
     ]
    },
    {
     "cell_type": "code",
     "collapsed": false,
     "input": [
      "plot(x**2, (x, -5, 5))"
     ],
     "language": "python",
     "metadata": {},
     "outputs": [
      {
       "metadata": {},
       "output_type": "display_data",
       "png": "[encoded data removed]",
       "text": [
        "<matplotlib.figure.Figure at 0x8094780>"
       ]
      },
      {
       "metadata": {},
       "output_type": "pyout",
       "prompt_number": 17,
       "text": [
        "<sympy.plotting.plot.Plot at 0x80947f0>"
       ]
      }
     ],
     "prompt_number": 17
    },
    {
     "cell_type": "markdown",
     "metadata": {},
     "source": [
      "Podemos adem\u00e1s representar funciones en 3D de forma an\u00e1loga:"
     ]
    },
    {
     "cell_type": "code",
     "collapsed": false,
     "input": [
      "from sympy.plotting import plot3d\n",
      "\n",
      "plot3d(x*y, (x, -5, 5), (y, -5, 5))"
     ],
     "language": "python",
     "metadata": {},
     "outputs": [
      {
       "metadata": {},
       "output_type": "display_data",
       "png": "[encoded data removed]",
       "text": [
        "<matplotlib.figure.Figure at 0x83e85f8>"
       ]
      },
      {
       "metadata": {},
       "output_type": "pyout",
       "prompt_number": 18,
       "text": [
        "<sympy.plotting.plot.Plot at 0x83e8c50>"
       ]
      }
     ],
     "prompt_number": 18
    },
    {
     "cell_type": "markdown",
     "metadata": {},
     "source": [
      "## C\u00e1lculo"
     ]
    },
    {
     "cell_type": "markdown",
     "metadata": {},
     "source": [
      "Adem\u00e1s de las manipulaciones algebraicas, el otro uso principal de CAS es hacer el c\u00e1lculo, como derivadas, integrales o l\u00edmites..."
     ]
    },
    {
     "cell_type": "markdown",
     "metadata": {},
     "source": [
      "### Derivadas"
     ]
    },
    {
     "cell_type": "markdown",
     "metadata": {},
     "source": [
      "Puedes derivar una expresion usando el m\u00e9todo `.diff()` y la funci\u00f3n `dif()`"
     ]
    },
    {
     "cell_type": "code",
     "collapsed": false,
     "input": [
      "#creamos una expresi\u00f3n\n",
      "expresion = cos(x)\n",
      "\n",
      "#obtenemos la derivada primera con funcion\n",
      "diff(expresion, x)"
     ],
     "language": "python",
     "metadata": {},
     "outputs": [
      {
       "latex": [
        "$$- \\sin{\\left (x \\right )}$$"
       ],
       "metadata": {},
       "output_type": "pyout",
       "png": "[encoded data removed]",
       "prompt_number": 19,
       "text": [
        "-sin(x)"
       ]
      }
     ],
     "prompt_number": 19
    },
    {
     "cell_type": "code",
     "collapsed": false,
     "input": [
      "#utilizando m\u00e9todo\n",
      "expresion.diff(x)"
     ],
     "language": "python",
     "metadata": {},
     "outputs": [
      {
       "latex": [
        "$$- \\sin{\\left (x \\right )}$$"
       ],
       "metadata": {},
       "output_type": "pyout",
       "png": "[encoded data removed]",
       "prompt_number": 20,
       "text": [
        "-sin(x)"
       ]
      }
     ],
     "prompt_number": 20
    },
    {
     "cell_type": "markdown",
     "metadata": {},
     "source": [
      "__\u00bfvarias variables?__"
     ]
    },
    {
     "cell_type": "code",
     "collapsed": false,
     "input": [
      "expr_xy = y**3 *sin(x)**2 + x**2 * cos(y)\n",
      "expr_xy"
     ],
     "language": "python",
     "metadata": {},
     "outputs": [
      {
       "latex": [
        "$$x^{2} \\cos{\\left (y \\right )} + y^{3} \\sin^{2}{\\left (x \\right )}$$"
       ],
       "metadata": {},
       "output_type": "pyout",
       "png": "[encoded data removed]",
       "prompt_number": 21,
       "text": [
        " 2           3    2   \n",
        "x \u22c5cos(y) + y \u22c5sin (x)"
       ]
      }
     ],
     "prompt_number": 21
    },
    {
     "cell_type": "code",
     "collapsed": false,
     "input": [
      "diff(expr_xy,x,2,y,2)"
     ],
     "language": "python",
     "metadata": {},
     "outputs": [
      {
       "latex": [
        "$$2 \\left(- 6 y \\sin^{2}{\\left (x \\right )} + 6 y \\cos^{2}{\\left (x \\right )} - \\cos{\\left (y \\right )}\\right)$$"
       ],
       "metadata": {},
       "output_type": "pyout",
       "png": "[encoded data removed]",
       "prompt_number": 22,
       "text": [
        "  \u239b         2             2            \u239e\n",
        "2\u22c5\u239d- 6\u22c5y\u22c5sin (x) + 6\u22c5y\u22c5cos (x) - cos(y)\u23a0"
       ]
      }
     ],
     "prompt_number": 22
    },
    {
     "cell_type": "markdown",
     "metadata": {},
     "source": [
      "__Si queremos que la deje indicada__, usamos `Derivative()`"
     ]
    },
    {
     "cell_type": "code",
     "collapsed": false,
     "input": [
      "Derivative(expr_xy, x,2,y)"
     ],
     "language": "python",
     "metadata": {},
     "outputs": [
      {
       "latex": [
        "$$\\frac{\\partial^{3}}{\\partial x^{2}\\partial y} \\left(x^{2} \\cos{\\left (y \\right )} + y^{3} \\sin^{2}{\\left (x \\right )}\\right)$$"
       ],
       "metadata": {},
       "output_type": "pyout",
       "png": "[encoded data removed]",
       "prompt_number": 23,
       "text": [
        "   3                          \n",
        "  \u2202   \u239b 2           3    2   \u239e\n",
        "\u2500\u2500\u2500\u2500\u2500\u2500\u239dx \u22c5cos(y) + y \u22c5sin (x)\u23a0\n",
        "     2                        \n",
        "\u2202y \u2202x                         "
       ]
      }
     ],
     "prompt_number": 23
    },
    {
     "cell_type": "markdown",
     "metadata": {},
     "source": [
      "### Integraci\u00f3n\n",
      "\n",
      "La integraci\u00f3n de expresiones se realiza de una manera similar:"
     ]
    },
    {
     "cell_type": "code",
     "collapsed": false,
     "input": [
      "expresion = x**2\n",
      "integrate(expresion, x)"
     ],
     "language": "python",
     "metadata": {},
     "outputs": [
      {
       "latex": [
        "$$\\frac{x^{3}}{3}$$"
       ],
       "metadata": {},
       "output_type": "pyout",
       "png": "[encoded data removed]",
       "prompt_number": 24,
       "text": [
        " 3\n",
        "x \n",
        "\u2500\u2500\n",
        "3 "
       ]
      }
     ],
     "prompt_number": 24
    },
    {
     "cell_type": "markdown",
     "metadata": {},
     "source": [
      "Al proporcionar l\u00edmites para la variable de integraci\u00f3n podemos evaluar integrales definidas:"
     ]
    },
    {
     "cell_type": "code",
     "collapsed": false,
     "input": [
      "expresion = x**3 - x**2 + x - 1\n",
      "\n",
      "integrate(expresion, (x, -1, 1))"
     ],
     "language": "python",
     "metadata": {},
     "outputs": [
      {
       "latex": [
        "$$- \\frac{8}{3}$$"
       ],
       "metadata": {},
       "output_type": "pyout",
       "png": "[encoded data removed]",
       "prompt_number": 25,
       "text": [
        "-8/3"
       ]
      }
     ],
     "prompt_number": 25
    },
    {
     "cell_type": "markdown",
     "metadata": {},
     "source": [
      "as\u00ed como integrales impropias:"
     ]
    },
    {
     "cell_type": "code",
     "collapsed": false,
     "input": [
      "integrate(exp(-x**2), (x, -oo, oo))"
     ],
     "language": "python",
     "metadata": {},
     "outputs": [
      {
       "latex": [
        "$$\\sqrt{\\pi}$$"
       ],
       "metadata": {},
       "output_type": "pyout",
       "png": "[encoded data removed]",
       "prompt_number": 26,
       "text": [
        "  ___\n",
        "\u2572\u2571 \u03c0 "
       ]
      }
     ],
     "prompt_number": 26
    },
    {
     "cell_type": "markdown",
     "metadata": {},
     "source": [
      "<div class=\"alert alert-info\">En SimPy, `oo` se utiliza como notaci\u00f3n para indicar el infinito.</div>"
     ]
    },
    {
     "cell_type": "heading",
     "level": 3,
     "metadata": {},
     "source": [
      "Series"
     ]
    },
    {
     "cell_type": "markdown",
     "metadata": {},
     "source": [
      "La expansi\u00f3n de la serie es tambi\u00e9n una de las caracter\u00edsticas m\u00e1s \u00fatiles de un CAS. En SymPy podemos realizar un desarrollo en serie de una expresi\u00f3n mediante el m\u00e9todo `.series()` o la funci\u00f3n `series()`"
     ]
    },
    {
     "cell_type": "code",
     "collapsed": false,
     "input": [
      "#creamos la expresi\u00f3n\n",
      "expr = exp(x)\n",
      "expr"
     ],
     "language": "python",
     "metadata": {},
     "outputs": [
      {
       "latex": [
        "$$e^{x}$$"
       ],
       "metadata": {},
       "output_type": "pyout",
       "png": "[encoded data removed]",
       "prompt_number": 27,
       "text": [
        " x\n",
        "\u212f "
       ]
      }
     ],
     "prompt_number": 27
    },
    {
     "cell_type": "code",
     "collapsed": false,
     "input": [
      "#la desarrollamos en serie\n",
      "series(expr)"
     ],
     "language": "python",
     "metadata": {},
     "outputs": [
      {
       "latex": [
        "$$1 + x + \\frac{x^{2}}{2} + \\frac{x^{3}}{6} + \\frac{x^{4}}{24} + \\frac{x^{5}}{120} + \\mathcal{O}\\left(x^{6}\\right)$$"
       ],
       "metadata": {},
       "output_type": "pyout",
       "png": "[encoded data removed]",
       "prompt_number": 28,
       "text": [
        "         2    3    4     5        \n",
        "        x    x    x     x     \u239b 6\u239e\n",
        "1 + x + \u2500\u2500 + \u2500\u2500 + \u2500\u2500 + \u2500\u2500\u2500 + O\u239dx \u23a0\n",
        "        2    6    24   120        "
       ]
      }
     ],
     "prompt_number": 28
    },
    {
     "cell_type": "markdown",
     "metadata": {},
     "source": [
      "Se puede especificar el n\u00famero de t\u00e9rminos pas\u00e1ndole un argumento `n=...`. El n\u00famero que le pasemos ser\u00e1 el primer t\u00e9rmino que desprecie."
     ]
    },
    {
     "cell_type": "code",
     "collapsed": false,
     "input": [
      "series(expr, n=10)"
     ],
     "language": "python",
     "metadata": {},
     "outputs": [
      {
       "latex": [
        "$$1 + x + \\frac{x^{2}}{2} + \\frac{x^{3}}{6} + \\frac{x^{4}}{24} + \\frac{x^{5}}{120} + \\frac{x^{6}}{720} + \\frac{x^{7}}{5040} + \\frac{x^{8}}{40320} + \\frac{x^{9}}{362880} + \\mathcal{O}\\left(x^{10}\\right)$$"
       ],
       "metadata": {},
       "output_type": "pyout",
       "png": "[encoded data removed]",
       "prompt_number": 29,
       "text": [
        "         2    3    4     5     6     7       8       9           \n",
        "        x    x    x     x     x     x       x       x       \u239b 10\u239e\n",
        "1 + x + \u2500\u2500 + \u2500\u2500 + \u2500\u2500 + \u2500\u2500\u2500 + \u2500\u2500\u2500 + \u2500\u2500\u2500\u2500 + \u2500\u2500\u2500\u2500\u2500 + \u2500\u2500\u2500\u2500\u2500\u2500 + O\u239dx  \u23a0\n",
        "        2    6    24   120   720   5040   40320   362880         "
       ]
      }
     ],
     "prompt_number": 29
    },
    {
     "cell_type": "markdown",
     "metadata": {},
     "source": [
      "Si nos molesta el $\\mathcal{O}(x^{10})$ lo podemos quitar con `removeO()`:"
     ]
    },
    {
     "cell_type": "code",
     "collapsed": false,
     "input": [
      "series(expr, n=10).removeO()"
     ],
     "language": "python",
     "metadata": {},
     "outputs": [
      {
       "latex": [
        "$$\\frac{x^{9}}{362880} + \\frac{x^{8}}{40320} + \\frac{x^{7}}{5040} + \\frac{x^{6}}{720} + \\frac{x^{5}}{120} + \\frac{x^{4}}{24} + \\frac{x^{3}}{6} + \\frac{x^{2}}{2} + x + 1$$"
       ],
       "metadata": {},
       "output_type": "pyout",
       "png": "[encoded data removed]",
       "prompt_number": 30,
       "text": [
        "   9        8      7      6     5    4    3    2        \n",
        "  x        x      x      x     x    x    x    x         \n",
        "\u2500\u2500\u2500\u2500\u2500\u2500 + \u2500\u2500\u2500\u2500\u2500 + \u2500\u2500\u2500\u2500 + \u2500\u2500\u2500 + \u2500\u2500\u2500 + \u2500\u2500 + \u2500\u2500 + \u2500\u2500 + x + 1\n",
        "362880   40320   5040   720   120   24   6    2         "
       ]
      }
     ],
     "prompt_number": 30
    },
    {
     "cell_type": "heading",
     "level": 3,
     "metadata": {},
     "source": [
      "Ejercicio."
     ]
    },
    {
     "cell_type": "markdown",
     "metadata": {},
     "source": [
      "Como est\u00e1s viendo, Python dispone de muchas librer\u00edas cient\u00edficas. Vamos a comrpobar lo bien que se llevan los [widgets de IPython Notebook 2.0](http://nbviewer.ipython.org/github/ipython/ipython/blob/2.x/examples/Interactive%20Widgets/Index.ipynb) y SymPy."
     ]
    },
    {
     "cell_type": "code",
     "collapsed": false,
     "input": [
      "# Cargamos widgets interactivos de IPython Notebook\n",
      "\n",
      "from IPython.html.widgets import interact\n",
      "from IPython.display import display\n"
     ],
     "language": "python",
     "metadata": {},
     "outputs": [],
     "prompt_number": 41
    },
    {
     "cell_type": "markdown",
     "metadata": {},
     "source": [
      "Obt\u00e9n el desarrollo del $e^x$ y representa el resultado con la funci\u00f3n real."
     ]
    },
    {
     "cell_type": "code",
     "collapsed": false,
     "input": [
      "def taylor_graf(n):\n",
      "    \n",
      "    expresion = #completar#\n",
      "    \n",
      "    #calculamos la expansion elimnando el termino del error\n",
      "    expresion_aprox = series(expresion, x, n=n+1).removeO()\n",
      "    \n",
      "    p1 = plot(expresion, (x, -3, 3),\n",
      "              show=False, line_color='b')\n",
      "    \n",
      "    p2 = plot(expresion_aprox, (x, -3, 3),\n",
      "              show=False, line_color='r')\n",
      "    \n",
      "    # Haz la segunda funci\u00f3n parte de la primera\n",
      "    p1.extend(p2)\n",
      "    # Nota: Este c\u00f3digo se debe a que representar dos funciones\n",
      "    # juntas con diferentes colores a\u00fan no est\u00e1 implementado\n",
      "    # http://stackoverflow.com/questions/21429866/change-color-implicit-plot-sympy\n",
      "    \n",
      "    p1.show()"
     ],
     "language": "python",
     "metadata": {},
     "outputs": [],
     "prompt_number": 49
    },
    {
     "cell_type": "markdown",
     "metadata": {},
     "source": [
      "Funci\u00f3n exponencial $e^x$ (en azul) y la suma de los primeros n+1 t\u00e9rminos de su serie de Taylor en torno a cero (en rojo)."
     ]
    },
    {
     "cell_type": "code",
     "collapsed": false,
     "input": [
      "interact(taylor_graf, n=(0,10));"
     ],
     "language": "python",
     "metadata": {},
     "outputs": [
      {
       "metadata": {},
       "output_type": "display_data",
       "png": "[encoded data removed]",
       "text": [
        "<matplotlib.figure.Figure at 0xb17e898>"
       ]
      }
     ],
     "prompt_number": 50
    },
    {
     "cell_type": "markdown",
     "metadata": {},
     "source": [
      "Si est\u00e1s viendo este IPython Notebook \"offline\", este es el resultado interactivo:\n",
      "![](taylor-exp.gif)"
     ]
    },
    {
     "cell_type": "markdown",
     "metadata": {},
     "source": [
      "---"
     ]
    },
    {
     "cell_type": "heading",
     "level": 1,
     "metadata": {},
     "source": [
      "Matrices"
     ]
    },
    {
     "cell_type": "code",
     "collapsed": false,
     "input": [
      "#creamos una matriz llena de s\u00edmbolos\n",
      "a, b, c, d = symbols('a b c d')\n",
      "A = Matrix([[a, b],\n",
      "            [c, d]])\n",
      "A"
     ],
     "language": "python",
     "metadata": {},
     "outputs": [
      {
       "latex": [
        "$$\\left[\\begin{matrix}a & b\\\\c & d\\end{matrix}\\right]$$"
       ],
       "metadata": {},
       "output_type": "pyout",
       "png": "[encoded data removed]",
       "prompt_number": 51,
       "text": [
        "\u23a1a  b\u23a4\n",
        "\u23a2    \u23a5\n",
        "\u23a3c  d\u23a6"
       ]
      }
     ],
     "prompt_number": 51
    },
    {
     "cell_type": "code",
     "collapsed": false,
     "input": [
      "#sacamos autovalores\n",
      "A.eigenvals()"
     ],
     "language": "python",
     "metadata": {},
     "outputs": [
      {
       "latex": [
        "$$\\begin{Bmatrix}\\frac{a}{2} + \\frac{d}{2} - \\frac{1}{2} \\sqrt{a^{2} - 2 a d + 4 b c + d^{2}} : 1, & \\frac{a}{2} + \\frac{d}{2} + \\frac{1}{2} \\sqrt{a^{2} - 2 a d + 4 b c + d^{2}} : 1\\end{Bmatrix}$$"
       ],
       "metadata": {},
       "output_type": "pyout",
       "png": "[encoded data removed]",
       "prompt_number": 52,
       "text": [
        "\u23a7           _________________________                _________________________\n",
        "\u23aa          \u2571  2                    2                \u2571  2                    2 \n",
        "\u23a8a   d   \u2572\u2571  a  - 2\u22c5a\u22c5d + 4\u22c5b\u22c5c + d       a   d   \u2572\u2571  a  - 2\u22c5a\u22c5d + 4\u22c5b\u22c5c + d  \n",
        "\u23aa\u2500 + \u2500 - \u2500\u2500\u2500\u2500\u2500\u2500\u2500\u2500\u2500\u2500\u2500\u2500\u2500\u2500\u2500\u2500\u2500\u2500\u2500\u2500\u2500\u2500\u2500\u2500\u2500\u2500\u2500\u2500: 1, \u2500 + \u2500 + \u2500\u2500\u2500\u2500\u2500\u2500\u2500\u2500\u2500\u2500\u2500\u2500\u2500\u2500\u2500\u2500\u2500\u2500\u2500\u2500\u2500\u2500\u2500\u2500\u2500\u2500\u2500\u2500\n",
        "\u23a92   2                2                   2   2                2              \n",
        "\n",
        "   \u23ab\n",
        "   \u23aa\n",
        "   \u23ac\n",
        ": 1\u23aa\n",
        "   \u23ad"
       ]
      }
     ],
     "prompt_number": 52
    },
    {
     "cell_type": "code",
     "collapsed": false,
     "input": [
      "#inversa\n",
      "A.inv()"
     ],
     "language": "python",
     "metadata": {},
     "outputs": [
      {
       "latex": [
        "$$\\left[\\begin{matrix}\\frac{1}{a} + \\frac{b c}{a^{2} \\left(d - \\frac{b c}{a}\\right)} & - \\frac{b}{a \\left(d - \\frac{b c}{a}\\right)}\\\\- \\frac{c}{a \\left(d - \\frac{b c}{a}\\right)} & \\frac{1}{d - \\frac{b c}{a}}\\end{matrix}\\right]$$"
       ],
       "metadata": {},
       "output_type": "pyout",
       "png": "[encoded data removed]",
       "prompt_number": 53,
       "text": [
        "\u23a11       b\u22c5c           -b     \u23a4\n",
        "\u23a2\u2500 + \u2500\u2500\u2500\u2500\u2500\u2500\u2500\u2500\u2500\u2500\u2500\u2500  \u2500\u2500\u2500\u2500\u2500\u2500\u2500\u2500\u2500\u2500\u2500\u23a5\n",
        "\u23a2a    2 \u239b    b\u22c5c\u239e    \u239b    b\u22c5c\u239e\u23a5\n",
        "\u23a2    a \u22c5\u239cd - \u2500\u2500\u2500\u239f  a\u22c5\u239cd - \u2500\u2500\u2500\u239f\u23a5\n",
        "\u23a2       \u239d     a \u23a0    \u239d     a \u23a0\u23a5\n",
        "\u23a2                             \u23a5\n",
        "\u23a2      -c               1     \u23a5\n",
        "\u23a2  \u2500\u2500\u2500\u2500\u2500\u2500\u2500\u2500\u2500\u2500\u2500       \u2500\u2500\u2500\u2500\u2500\u2500\u2500  \u23a5\n",
        "\u23a2    \u239b    b\u22c5c\u239e           b\u22c5c  \u23a5\n",
        "\u23a2  a\u22c5\u239cd - \u2500\u2500\u2500\u239f       d - \u2500\u2500\u2500  \u23a5\n",
        "\u23a3    \u239d     a \u23a0            a   \u23a6"
       ]
      }
     ],
     "prompt_number": 53
    },
    {
     "cell_type": "heading",
     "level": 1,
     "metadata": {},
     "source": [
      "Esto es s\u00f3lo la punta del iceberg"
     ]
    },
    {
     "cell_type": "markdown",
     "metadata": {},
     "source": [
      "SymPy es una herramienta con posibilidades infinitas, aqu\u00ed hemos visto sus funcionalidades m\u00e1s b\u00e1sicas. Hay muchas, muchas cosas que se pueden hacer. Si buscas material en espa\u00f1ol: "
     ]
    },
    {
     "cell_type": "markdown",
     "metadata": {},
     "source": [
      "* [Python y matem\u00e1ticas, por Jose Luis Tabara [formato v\u00eddeo]](https://www.youtube.com/playlist?list=PLilnwC7Bci67FKx1GUkF9PlvR2r_La2vN)\n",
      "* [Introducci\u00f3n a SymPy - AeroPython - Pybonacci](http://nbviewer.ipython.org/github/AeroPython/Curso_AeroPython/blob/master/Notebooks/Clase5a_SymPy.ipynb) (versi\u00f3n de este Notebook, pero m\u00e1s completa)\n",
      "* [Mec\u00e1nica con SymPy](http://nbviewer.ipython.org/github/AeroPython/Curso_AeroPython/blob/master/Notebooks/Clase5b_Mecanica-SymPy.ipynb)\n"
     ]
    }
   ],
   "metadata": {}
  }
 ]
}