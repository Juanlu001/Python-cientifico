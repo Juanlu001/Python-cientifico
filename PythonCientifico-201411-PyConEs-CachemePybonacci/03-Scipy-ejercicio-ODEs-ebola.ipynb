{
 "metadata": {
  "name": "",
  "signature": "sha256:64b634b7a05edf61b8d0d74bb55dcbf7ccfc2da04ac1424c09093cbb249a8c2a"
 },
 "nbformat": 3,
 "nbformat_minor": 0,
 "worksheets": [
  {
   "cells": [
    {
     "cell_type": "markdown",
     "metadata": {},
     "source": [
      "# Taller Python Cient\u00edfico - PyConES 2014\n",
      "## Parte III: Ejericio aplicado para la resoluci\u00f3n de EDOs con SciPy\n",
      "\n",
      "#### Juan Luis Cano, Kiko Correoso y \u00c1lex S\u00e1ez ([@Pybonacci](https://twitter.com/Pybonacci))\n",
      "#### Fran Navarro, Zuria Bauer y Daniel Domene ([@CAChemEorg](http://twitter.com/CAChemE))"
     ]
    },
    {
     "cell_type": "heading",
     "level": 1,
     "metadata": {},
     "source": [
      "\u00bfC\u00f3mo podr\u00edan afectar los recortes a la propagaci\u00f3n del virus del \u00c9bola?"
     ]
    },
    {
     "cell_type": "heading",
     "level": 2,
     "metadata": {},
     "source": [
      "Una simulaci\u00f3n epidemiol\u00f3gica (simple) del virus del \u00c9bola"
     ]
    },
    {
     "cell_type": "markdown",
     "metadata": {},
     "source": [
      "*Original por [Charles Hill, No painers blog](http://nopaniers.calepin.co/a-simple-model-of-the-ebola-virus.html)*"
     ]
    },
    {
     "cell_type": "markdown",
     "metadata": {},
     "source": [
      "La propagaci\u00f3n del virus del \u00e9bola en el \u00c1frica occidental sigue, por el momento, imparable. Los modelos epidemiol\u00f3gicos tratan de representar este comportamiento mediante f\u00f3rmulas mat\u00e9maticas. Este documento intenta ejemplificar con un modelo muy simple, y por tanto aproximado, del impacto de variables como la facilidad de contagio y mortalidad del mismo. "
     ]
    },
    {
     "cell_type": "markdown",
     "metadata": {},
     "source": [
      "## Disclaimer"
     ]
    },
    {
     "cell_type": "markdown",
     "metadata": {},
     "source": [
      "Nuestra formaci\u00f3n no es en el \u00e1mbito de la medicina ni estad\u00edstica y los resultados aqu\u00ed mostrados son un ejercicio aplicado de m\u00e9todos num\u00e9ricos de integraci\u00f3n con Python. Por ello, cualquier mejora en el modelo es bienvenida :)"
     ]
    },
    {
     "cell_type": "heading",
     "level": 1,
     "metadata": {},
     "source": [
      "El virus"
     ]
    },
    {
     "cell_type": "markdown",
     "metadata": {},
     "source": [
      "Los datos que podemos consultar del \u00c9bola en el \u00c1frica occidental son desesperanzadores:"
     ]
    },
    {
     "cell_type": "markdown",
     "metadata": {},
     "source": [
      "![The total (cumulative) number of cases and deaths due to Ebola in West Africa.](http://dl.dropboxusercontent.com/u/77767081/casesdeaths.png)\n",
      "\n",
      "*Fuente: [Charles Hill, No painers blog](http://nopaniers.calepin.co/a-simple-model-of-the-ebola-virus.html) - Datos m\u00e1s actualizados (a octubre de 2014) se pueden consultar en la [BBC](http://www.bbc.com/news/world-africa-28755033) y [Forbes](http://www.forbes.com/sites/jvchamary/2014/10/13/ebola-trends/).*"
     ]
    },
    {
     "cell_type": "markdown",
     "metadata": {},
     "source": [
      "Este gr\u00e1fico representa la cantidad total (acumulada) de los casos y muertes producidos por el virus en el \u00c1frica occidental. El eje vertical es logar\u00edtmico y, por tanto, la tendencia lineal que aparece a partir de junio indica que los n\u00fameros est\u00e1n creciendo exponencialmente.\n",
      "\n",
      "> Ateniendo al gr\u00e1fico, el n\u00famero de casos y defunciones por \u00c9bola se duplica cada mes. \n",
      "\n",
      "Siendo m\u00e1s precisos, el n\u00ba de casos se se duplica cada 29 d\u00edas. Si se mantuviera esa velocidad de propagaci\u00f3n, en nueve meses tendr\u00edamos un mill\u00f3n de casos, y en dos a\u00f1os una fracci\u00f3n significativa de la poblaci\u00f3n mudnial habr\u00e1 tenido la enfermedad. Obviamente necesitamos un modelo mejor ya que el crecimiento exponencial no puede ser ilimitado y esto es s\u00f3lo un primer intento."
     ]
    },
    {
     "cell_type": "markdown",
     "metadata": {},
     "source": [
      "## El modelo\n",
      "\n",
      "Existen cuatro variables / categor\u00edas de personas en este modelo:\n",
      "\n",
      "$S$ son personas susceptibles que no han contra\u00eddo el virus todav\u00eda. Si entran en contacto con alguien que es infeccioso, podr\u00edan contraer el virus. \n",
      "\n",
      "$E$ son personas expuestas que tienen el virus , pero que a\u00fan no presentan los s\u00edntomas y no son infecciosos. \n",
      "\n",
      "$I$ son personas que han sido contagiados por \u00c9bola, han pasado el tiempo de incubaci\u00f3n y son infecciosas. Su cuerpo se encuentra en plena batalla contra el virus y sus s\u00edntomas.\n",
      "\n",
      "$R$ son personas que han ganado la batalla y se han recuperado. Ellos ahora son inmunes al virus. \n",
      "\n",
      "![SEIR compartment model (epidemiology) for article on models, diagram by Viki Male (Wikipedia)](http://upload.wikimedia.org/wikipedia/commons/3/3d/SEIR.PNG)\n",
      "\n",
      "Si te fijas, el n\u00famero total de personas a\u00fan con vida $N$ corresponde con la suma de todos ellos.\n",
      "\n",
      "As\u00ed el modelo epidemiol\u00f3gico a seguir se llama [SEIR](http://en.wikipedia.org/wiki/Compartmental_models_in_epidemiology#The_SEIR_model) y puede ser definido por el siguiente sistema de [ecuaciones diferenciales](http://es.wikipedia.org/wiki/Ecuaci%C3%B3n_diferencial):\n",
      "\n",
      "\n",
      "\\begin{align}\n",
      "\\frac{dS} {dt} &= -\\beta \\frac{S}{N} I \\\\\\\\\n",
      "\\frac{dE}{dt}  &= +\\beta \\frac{S}{N} I -\\sigma E \\\\\\\\\n",
      "\\frac{dI}{dt} &= +\\sigma E - \\gamma I \\\\\\\\\n",
      "\\frac{dR}{dt} &= (1-f) \\gamma I\n",
      "\\end{align}\n",
      "\n",
      "Para nuestro caso, consideraremos que hay una persona afectada \u00fanicamente ($E = 1$)"
     ]
    },
    {
     "cell_type": "markdown",
     "metadata": {},
     "source": [
      "## Explicaci\u00f3n del modelo:"
     ]
    },
    {
     "cell_type": "markdown",
     "metadata": {},
     "source": [
      "En esta secci\u00f3n se da una explicaci\u00f3n del modelo SEIR y los par\u00e1metros que se han elegido. Si quieres, puedes ir directamente a los resultados:\n",
      "\n",
      "La disminuci\u00f3n del n\u00famero de personas sanas con el tiempo ser\u00e1 proporcional a las personas infecciosas (I) y la cantidad (proporcional) de las mismas $S/N$. Adem\u00e1s, definimos una factor de probabilidad por d\u00eda, que llamaremos $\\beta$, de infectar a otra persona.  La variaci\u00f3n del n\u00ba personas expuestas ($E$), seguir\u00e1 la misma relaci\u00f3n pero aumentando su n\u00famero (signo positivo). Esto, matem\u00e1ticamente queda expresado como:\n",
      "\n",
      "\\begin{align}\n",
      "\\frac{dS} {dt} &= -\\beta \\frac{S}{N} I \\\\\\\\\n",
      "\\frac{dE}{dt}  &= +\\beta \\frac{S}{N} I \\\\\\\\\n",
      "\\end{align}\n",
      "\n",
      "Una vez que una persona est\u00e1 infectada ($E$), es necesario un tiempo para mostrar los s\u00edntomas y llegar a ser infecciosa ($I$). Este tiempo depende de cada caso, pero en los brotes anteriores de Ebola, se estim\u00f3 que se necesita alrededor de 9 d\u00edas para ello. Vamos a modelar esto con una *velocidad* de pasar de $E$ a $I$ de $\\sigma = 1/9$ por d\u00eda:\n",
      "\n",
      "$$\n",
      "\\begin{align}\n",
      "\\frac{dE}{dt} = -\\sigma E \\\\\\\\\n",
      "\\frac{dI}{dt} = +\\sigma E \n",
      "\\end{align}\n",
      "$$\n",
      "\n",
      "En este punto, la persona enferma puede recuperarse o fallecer. Una vez m\u00e1s, vamos a modelar esto con una *velocidad*, que se puede encontrar con los brotes anteriores, de $ \\gamma =  1 / 8.5$ por d\u00eda. La probabilidad de fallecer estimada por la OMS en estos momentos es del 50% ([Fuente: OMS](http://www.who.int/mediacentre/factsheets/fs103/en/)). Sin embargo, vamos a ser optimistas y considerar que esta tasa puede reducirse hasta un 40% ($f = 0.4$) si los recursos de los centros hospitalarios no se ven comprometidos y los s\u00edntomas del virus se tratan a tiempo. As\u00ed, la fracci\u00f3n de personas sobreviven es de $1-f = 0.6$ (personas que sobreviven). F\u00edjate, que el resto de la fraci\u00f3n ser\u00eda en n\u00ba de fallecidos.\n",
      "\n",
      "$$\n",
      "\\begin{align}\n",
      "\\frac{dI}{dt} &= - \\gamma I \\\\\\\\ \n",
      "\\frac{dR}{dt} &= (1-f) \\gamma I\n",
      "\\end{align}\n",
      "$$\n",
      "\n",
      "A\u00fan no se ha definido el valor de $\\beta$, el cual indica la velocidad de personas que se infectan. Para ello haremos uso de un par\u00e1metro importante: el n\u00famero medio de personas que un paciente con \u00e9bola podr\u00eda llegar a infectar $R_0$.\n",
      "\n",
      "$$R_0 = \\frac{\\beta}{\\gamma}$$\n",
      "\n",
      "En brotes anteriores, estimaron $R_0$ estar entre 1.3 y 2.7, es decir, un paciente con \u00e9bola llega a infectar de 1 a 3 personas. Este par\u00e1metro difiere entre pa\u00edses y factores como:\n",
      "* Costumbres locales/religiosas\n",
      "* Comportamiento del paciente infectado en fase contagiosa\n",
      "* Equipamiento de los hospitales y medidas de protecci\u00f3n\n",
      "* Formaci\u00f3n adecuada del personal sanitario\n",
      "* Cumplimiento de protocolos de seguridad\n",
      "\n",
      "Para ver la importancia que tiene disminuir este factor $R_0$, vamos a interactuar con el modelo y considerar que a mayor n\u00ba de recortes en sanidad mayor es el n\u00ba de contagios que un paciente con \u00e9bola puede llegar a realizar antes de estar controlado, as\u00ed  $ R_0 = recortes \\: sanidad $."
     ]
    },
    {
     "cell_type": "markdown",
     "metadata": {},
     "source": [
      "## Resultados\n",
      "\n",
      "El [\u00e1rt\u00edculo original](http://nopaniers.calepin.co/a-simple-model-of-the-ebola-virus.html) en el que se basa este trabajo resolvi\u00f3 el sistema de ecuaciones diferenciale num\u00e9ricamente con par\u00e1metros similares obteniendo una aproximaci\u00f3n entre su modelo y los datos reales. \n",
      "\n",
      "![Model predictions (shown as solid lines) against the actual numbers reported, shown as points](http://dl.dropboxusercontent.com/u/77767081/earlyprediction.png)\n",
      "\n",
      "Como se puede ver, el modelo no coincide bien al principio (antes de mayo), pero una vez que la fase de crecimiento exponencial comienza, la simulaci\u00f3n obtiene resultados similares. Definitivamente, el modelo captura la velocidad de aumento, la relaci\u00f3n entre los casos y los fallecimientos. \n",
      "\n",
      "Entonces, \u00bfqu\u00e9 impacto tienen los recortes en la velocidad de propagaci\u00f3n del \u00e9bola? Ve\u00e1moslo en este gr\u00e1fico obtenido con Python.\n",
      "\n",
      "![Predicciones del modelo SEIR para el caso del virus \u00c9bola y variaci\u00f3n del par\u00e1metro R_0](https://dl.dropboxusercontent.com/s/63c7hdvxeg63tv4/ebola-simulacion-CAChemE.gif)\n",
      "\n",
      "En Espa\u00f1a seguimos a la espera de comprobar cuantas personas llegaron a contagiarse, por lo que hemos variado el valor de $R_0 = recortes \\: sanidad$ entre 1 y 2. A la vista de los resultados, no es de extra\u00f1ar que expertos y personal sanitario est\u00e9n pidiendo m\u00e1s medios y formaci\u00f3n para evitar contagios durante el tratamiento de pacientes con \u00e9bola en hospitales."
     ]
    },
    {
     "cell_type": "markdown",
     "metadata": {},
     "source": [
      "## C\u00f3digo"
     ]
    },
    {
     "cell_type": "markdown",
     "metadata": {},
     "source": [
      "Para interactuar con este documento de [IPython Notebook](http://ipython.org/)/[JuPyter](http://jupyter.org/), puedes descargar e instalar [Anaconda de Continuum](http://continuum.io/downloads) ([ver instalaci\u00f3n](https://www.youtube.com/watch?v=kLuwGhvWJzE&index=16&list=PLGBbVX_WvN7bMwYe7wWV5TZt1a58jTggB)) u optar por distribuciones portables de Python como [Pyzo](http://www.pyzo.org/index.html#)."
     ]
    },
    {
     "cell_type": "markdown",
     "metadata": {},
     "source": [
      "En primer lugar cargamos nuestras librer\u00edas favoritas:"
     ]
    },
    {
     "cell_type": "code",
     "collapsed": false,
     "input": [
      "import numpy as np\n",
      "%matplotlib inline\n",
      "import matplotlib.pyplot as plt\n",
      "from scipy import integrate"
     ],
     "language": "python",
     "metadata": {},
     "outputs": [],
     "prompt_number": 1
    },
    {
     "cell_type": "markdown",
     "metadata": {},
     "source": [
      "Lo siguiente que debemos hacer es definir nuestro sistema de ec. diferenciales:"
     ]
    },
    {
     "cell_type": "code",
     "collapsed": false,
     "input": [
      "def DiffEqs(y, t):\n",
      "    \"\"\" Modelo simple epidemiol\u00f3gico para la\n",
      "    propagacion del virus del \u00c9bola\"\"\"\n",
      "    \n",
      "    # Recuperamos las variables dependientes de entrada\n",
      "    S, E, I, R, D = y\n",
      "    \n",
      "    Nn = S + E + I + R # Total de personas vivas\n",
      "    \n",
      "    #--------------------------\n",
      "    # Par\u00e1metros del modelo\n",
      "    #---------------------------\n",
      "\n",
      "    sigma = 1./9  #  Velocidad convertirse en contagioso una vez expuesto\n",
      "    gamma = 1./8.5 # Velocidad de recuperaci\u00f3n o fallecimiento\n",
      "    f = 0.4 # Fracci\u00f3n de gente que no supera la enfermedad (40%)\n",
      "\n",
      "    # N\u00ba de personas contagiadas por infectado\n",
      "    R_0 = 2\n",
      "\n",
      "    beta = R_0*gamma # Velocidad con la que se propaga la infecci\u00f3n\n",
      "\n",
      "    # Definimos las ecuaciones diferenciales\n",
      "    dSdt = -beta*(S/Nn)*I\n",
      "    dEdt = +beta*(S/Nn)*I - sigma*E\n",
      "    dIdt = sigma*E - gamma*I\n",
      "    dRdt = (1.0 - f)*gamma*I\n",
      "    dDdt = f*gamma*I\n",
      "    \n",
      "    return [dSdt, dEdt, dIdt, dRdt, dDdt]"
     ],
     "language": "python",
     "metadata": {},
     "outputs": [],
     "prompt_number": 2
    },
    {
     "cell_type": "markdown",
     "metadata": {},
     "source": [
      "Una vez hecho esto, podemos resolver el sistema:"
     ]
    },
    {
     "cell_type": "code",
     "collapsed": false,
     "input": [
      "tiempo_simulacion = 350 # d\u00edas\n",
      "t  = np.linspace(0., tiempo_simulacion, 1000)\n",
      "\n",
      "# Condiciones iniciales\n",
      "\n",
      "N = 100 # Poblaci\u00f3n total\n",
      "\n",
      "y0 = [N, 1, 0, 0, 0] # [S, E, I, R, D]\n",
      "\n",
      "# Llamamos al ode para resolver las eq. diferenciales   \n",
      "\n",
      "solution = integrate.odeint(DiffEqs, y0, t)\n",
      "\n",
      "S = solution[:,0] #  S es el n\u00ba de personas sin infectar\n",
      "E = solution[:,1] #  E es el n\u00ba de portadores del virus no contagiosos (a\u00fan)\n",
      "I = solution[:,2] #  I es el n\u00ba de personas sintom\u00e1ticas e infecciosas\n",
      "R = solution[:,3] #  R es el n\u00ba de personas recuperadas\n",
      "Ds = solution[:,4] #  D es el n\u00ba de personas fallecidas\n",
      "\n"
     ],
     "language": "python",
     "metadata": {},
     "outputs": [],
     "prompt_number": 3
    },
    {
     "cell_type": "markdown",
     "metadata": {},
     "source": [
      "Ya podemos representar los resultados obtenidos"
     ]
    },
    {
     "cell_type": "code",
     "collapsed": false,
     "input": [
      "# Creamos la figura para representar los resultados\n",
      "\n",
      "fig = plt.figure(figsize=(10, 5))\n",
      "\n",
      "# Representamos las curvas de evoluci\u00f3n con respecto al tiempo\n",
      "plt.plot(t, (E + I))\n",
      "plt.plot(t, I)\n",
      "plt.plot(t, R)\n",
      "plt.plot(t, Ds)\n",
      "plt.plot(t, S)\n",
      "\n",
      "# A\u00f1adimos leyenda a los datos\n",
      "plt.legend([\"n\u00ba infectados\",\n",
      "        \"n\u00ba infectados contagiosos\", \n",
      "        \"n\u00ba recuperados\", \n",
      "        \"n\u00ba fallecidos\",\n",
      "        u\"n\u00ba poblaci\u00f3n sana \"], loc=1)\n",
      "\n",
      "plt.suptitle(u'Simulaci\u00f3n de un brote epid\u00e9mico del virus del \u00c9bola',\n",
      "             fontsize=14,\n",
      "             fontweight='bold')\n",
      "\n",
      "plt.xlabel(u\"tiempo / d\u00edas\")\n",
      "plt.ylabel(u\"Poblaci\u00f3n / personas\")\n",
      "\n",
      "plt.show()"
     ],
     "language": "python",
     "metadata": {},
     "outputs": [
      {
       "metadata": {},
       "output_type": "display_data",
       "png": "[encoded data removed]",
       "text": [
        "<matplotlib.figure.Figure at 0x7f72f28>"
       ]
      }
     ],
     "prompt_number": 7
    },
    {
     "cell_type": "heading",
     "level": 2,
     "metadata": {},
     "source": [
      "Ejercicio:"
     ]
    },
    {
     "cell_type": "markdown",
     "metadata": {},
     "source": [
      "Si queremos ver el efecto de los \"recortes\", debemos de modificar el c\u00f3digo para poder interactuar con el param\u00e9tro $R_0$. Consulta la [documentaci\u00f3n de `odeint`](http://docs.scipy.org/doc/scipy-0.14.0/reference/generated/scipy.integrate.odeint.html) y busca c\u00f3mo a\u00f1adir argumentos extra a la funci\u00f3n diferencial.\n",
      "\n",
      "Nota:\n",
      "<div class=\"alert info\">El c\u00f3digo que tienes a continuaci\u00f3n est\u00e1 casi resuelto, busca `#completar#` y termina de resolver el ejercicio.</div>"
     ]
    },
    {
     "cell_type": "markdown",
     "metadata": {},
     "source": [
      "En primer lugar, cargamos los widgets interactivos:"
     ]
    },
    {
     "cell_type": "code",
     "collapsed": false,
     "input": [
      "from IPython.html.widgets import interact, interactive, fixed\n",
      "from IPython.html import widgets"
     ],
     "language": "python",
     "metadata": {},
     "outputs": [],
     "prompt_number": 5
    },
    {
     "cell_type": "code",
     "collapsed": false,
     "input": [
      "def #completar#(y, t, sigma, gamma, f, beta):\n",
      "    \"\"\" Modelo simple epidemiol\u00f3gico para la\n",
      "    propagacion del virus del \u00c9bola\"\"\"\n",
      "    \n",
      "    # Recuperamos las variables dependientes de entrada\n",
      "    S, E, I, R, D = y\n",
      "    \n",
      "    Nn = S + E + I + R # Total de personas vivas\n",
      "    \n",
      "    # F\u00edjate que par\u00e1metros de las ecuaciones diferenciales \n",
      "    # son son argumentos extra de la funci\u00f3n en esta ocasi\u00f3n\n",
      "    \n",
      "    # Definimos las ecuaciones diferenciales\n",
      "    dSdt = -beta*(S/Nn)*I\n",
      "    dEdt = +beta*(S/Nn)*I - sigma*E\n",
      "    dIdt = sigma*E - gamma*I\n",
      "    dRdt = (1.0 - f)*gamma*I\n",
      "    dDdt = f*gamma*I\n",
      "       \n",
      "    return [#completar]\n",
      "\n",
      "def ebola(tiempo, recortes_sanidad=2):\n",
      "    \"\"\" Solve the model and plot a basic graph of the results \"\"\"\n",
      "    \n",
      "    tiempo_simulacion = tiempo # d\u00edas\n",
      "    t  = np.linspace(0., tiempo_simulacion, 1000)\n",
      "\n",
      "    #--------------------------\n",
      "    # Par\u00e1metros del modelo\n",
      "    #--------------------------\n",
      "    \n",
      "    sigma = 1./9  #  Velocidad convertirse en contagioso una vez expuesto\n",
      "    gamma = 1./8.5 # Velocidad de recuperaci\u00f3n o fallecimiento\n",
      "    f = 0.4 # Fracci\u00f3n de gente que no supera la enfermedad (40%)\n",
      "    \n",
      "    # A mayor n\u00ba de recortes, mayor n\u00ba de personas contagiadas por infectado\n",
      "    R_0 = #completar#\n",
      "    \n",
      "    beta = R_0*gamma # Velocidad con la que se propaga la infecci\u00f3n\n",
      "    \n",
      "    # Condiciones iniciales\n",
      "\n",
      "    N = 350 # Poblaci\u00f3n total\n",
      "    \n",
      "    y0 = [N, 1, 0, 0, 0] # [S, E, I, R, D]\n",
      "    \n",
      "    # Llamamos al ode para resolver las eq. diferenciales   \n",
      "\n",
      "    solution = integrate.odeint(#completar#)\n",
      "\n",
      "    S = solution[:,0] #  S es el n\u00ba de personas sin infectar\n",
      "    E = solution[:,1] #  E es el n\u00ba de portadores del virus no contagiosos (a\u00fan)\n",
      "    I = solution[:,2] #  I es el n\u00ba de personas sintom\u00e1ticas e infecciosas\n",
      "    R = solution[:,3] #  R es el n\u00ba de personas recuperadas\n",
      "    Ds = solution[:,4] #  D es el n\u00ba de personas fallecidas\n",
      "    \n",
      "    # Creamos la figura para representar los resultados\n",
      "    \n",
      "    fig = plt.figure(figsize=(10, 5))\n",
      "    \n",
      "    # Representamos las curvas de evoluci\u00f3n con respecto al tiempo\n",
      "    plt.plot(t, (E + I)/N*100 )\n",
      "    plt.plot(t, I/N*100)\n",
      "    plt.plot(t, R/N*100)\n",
      "    plt.plot(t, Ds/N*100)\n",
      "    plt.plot(t, S/N*100)\n",
      "\n",
      "    # A\u00f1adimos leyenda a los datos\n",
      "    plt.legend([\"% infectados\",\n",
      "            \"% infectados contagiosos\", \n",
      "            \"% recuperados\", \n",
      "            \"% fallecidos\",\n",
      "            u\"% poblaci\u00f3n sana \"], loc=1)\n",
      "\n",
      "    #T\u00edtulo y anotaciones al gr\u00e1fico    \n",
      "    plt.suptitle(u'Variaci\u00f3n de la velocidad de propagaci\u00f3n del virus del \u00c9bola:',\n",
      "                 fontsize=14,\n",
      "                 fontweight='bold')\n",
      "    \n",
      "    plt.title(u\"Impacto de los recortes en el sistema sanitario.\",\n",
      "              fontsize = 12)\n",
      "    \n",
      "    plt.text(10, 50, u\"A mayor n\u00ba de recortes, mayor \\n n\u00ba de contagios (accidentales) \\n y mayor velocidad de propagaci\u00f3n.\",\n",
      "             style='italic',\n",
      "             bbox={'facecolor':'red', 'alpha':0.5, 'pad':10})\n",
      "        \n",
      "    plt.xlabel(u\"tiempo / d\u00edas\")\n",
      "    plt.ylabel(u\"porcentaje de poblaci\u00f3n\")\n",
      "\n",
      "    plt.show()"
     ],
     "language": "python",
     "metadata": {},
     "outputs": [
      {
       "ename": "SyntaxError",
       "evalue": "invalid syntax (<ipython-input-6-c4ed2cda9e79>, line 1)",
       "output_type": "pyerr",
       "traceback": [
        "\u001b[1;36m  File \u001b[1;32m\"<ipython-input-6-c4ed2cda9e79>\"\u001b[1;36m, line \u001b[1;32m1\u001b[0m\n\u001b[1;33m    def #completar#(y, t, sigma, gamma, f, beta):\u001b[0m\n\u001b[1;37m                                                 ^\u001b[0m\n\u001b[1;31mSyntaxError\u001b[0m\u001b[1;31m:\u001b[0m invalid syntax\n"
       ]
      }
     ],
     "prompt_number": 6
    },
    {
     "cell_type": "code",
     "collapsed": false,
     "input": [
      "interact(ebola, tiempo=(100,600), recortes_sanidad=(1,3,0.01))"
     ],
     "language": "python",
     "metadata": {},
     "outputs": []
    }
   ],
   "metadata": {}
  }
 ]
}