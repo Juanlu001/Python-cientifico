{
 "metadata": {
  "name": "",
  "signature": "sha256:094970f3f7600aed9df619d84bc2f95367efd522cc3e4420116ffa9ce2e167c1"
 },
 "nbformat": 3,
 "nbformat_minor": 0,
 "worksheets": [
  {
   "cells": [
    {
     "cell_type": "heading",
     "level": 1,
     "metadata": {},
     "source": [
      "PyLadies Mola"
     ]
    },
    {
     "cell_type": "markdown",
     "metadata": {},
     "source": [
      "![pyladies](http://static.ow.ly/photos/normal/7qKyP.jpg)"
     ]
    },
    {
     "cell_type": "heading",
     "level": 1,
     "metadata": {},
     "source": [
      "Bueno, a lo que vamos, PANDAS..."
     ]
    },
    {
     "cell_type": "code",
     "collapsed": false,
     "input": [
      "import pandas as pd\n",
      "import sys\n",
      "import datetime as dt\n",
      "import numpy as np\n",
      "import matplotlib.pyplot as plt\n",
      "import matplotlib\n",
      "\n",
      "%matplotlib inline\n",
      "\n",
      "print(\"Versi\u00f3n de Python:     \", sys.version)\n",
      "print(\"Versi\u00f3n de Pandas:     \", pd.version.short_version)\n",
      "print(\"Versi\u00f3n de Numpy:      \", np.version.short_version)\n",
      "print(\"Versi\u00f3n de Matplotlib: \", matplotlib.__version__)"
     ],
     "language": "python",
     "metadata": {},
     "outputs": [
      {
       "output_type": "stream",
       "stream": "stdout",
       "text": [
        "Versi\u00f3n de Python:      3.4.1 |Continuum Analytics, Inc.| (default, Jun 11 2014, 17:29:32) [MSC v.1600 32 bit (Intel)]\n",
        "Versi\u00f3n de Pandas:      0.14.1\n",
        "Versi\u00f3n de Numpy:       1.9.0\n",
        "Versi\u00f3n de Matplotlib:  1.4.0\n"
       ]
      }
     ],
     "prompt_number": 1
    },
    {
     "cell_type": "heading",
     "level": 1,
     "metadata": {},
     "source": [
      "\u00bfQu\u00e9 es Pandas?"
     ]
    },
    {
     "cell_type": "markdown",
     "metadata": {},
     "source": [
      "Pandas es una librer\u00eda que proporciona estructuras de datos flexibles y permite trabajar con la informaci\u00f3n de forma eficiente (gran parte de Pandas est\u00e1 implementado usando C/Cython para obtener un buen rendimiento).\n",
      "\n",
      "Funciona muy bien cuando nos toca trabajar con:\n",
      "\n",
      "* Datos heterog\u00e9neos que pueden distribuirse de forma tabular.\n",
      "* Series temporales\n",
      "* Matrices\n",
      "* ..."
     ]
    },
    {
     "cell_type": "code",
     "collapsed": false,
     "input": [
      "from IPython.display import HTML\n",
      "HTML(\"<iframe src=http://pandas.pydata.org width=800 height=350></iframe>\")"
     ],
     "language": "python",
     "metadata": {},
     "outputs": [
      {
       "html": [
        "<iframe src=http://pandas.pydata.org width=800 height=350></iframe>"
       ],
       "metadata": {},
       "output_type": "pyout",
       "prompt_number": 3,
       "text": [
        "<IPython.core.display.HTML object>"
       ]
      }
     ],
     "prompt_number": 3
    },
    {
     "cell_type": "heading",
     "level": 1,
     "metadata": {},
     "source": [
      "Estructuras de datos"
     ]
    },
    {
     "cell_type": "markdown",
     "metadata": {},
     "source": [
      "Pandas ofrece varias estructuras de datos que nos resultar\u00e1n de mucha utilidad y que vamos a ir viendo poco a poco. Todas las posibles estructuras de datos que ofrece a d\u00eda de hoy son:\n",
      "\n",
      " * Series (y TimeSeries)\n",
      "\n",
      " * DataFrame\n",
      "\n",
      " * Panel\n",
      "\n",
      " * Panel4D\n",
      "\n",
      " * PanelND"
     ]
    },
    {
     "cell_type": "heading",
     "level": 2,
     "metadata": {},
     "source": [
      "[Series](http://pandas.pydata.org/pandas-docs/version/0.15.0/cookbook.html#timeseries)"
     ]
    },
    {
     "cell_type": "markdown",
     "metadata": {},
     "source": [
      "En una instancia de la clase `Series` podremos almacenar *arrays* o vectores con \u00edndice o etiqueta. Si no usamos \u00edndice o etiqueta nos lo numerar\u00e1 con un \u00edndice de forma interna. La forma b\u00e1sica de crear una `Series` ser\u00eda:\n",
      "\n",
      "    >>> s = Series(data, index=index)\n",
      "\n",
      "donde data es el vector de datos e index (opcional) es el vector de \u00edndices que usar\u00e1 la serie. Si los \u00edndices son datos de fechas directamente se crear\u00e1 una instancia de una `TimeSeries` en lugar de una instacia de `Series`. \n",
      "\n",
      "Veamos un ejemplo de como crear este tipo de contenedor de datos. Primero vamos a crear una serie y **pandas** nos crear\u00e1 \u00edndices autom\u00e1ticamente, segundo vamos a crear una serie donde nosotros le vamos a decir los \u00edndices que queremos usar y, tercero, vamos a crear una serie temporal usando \u00edndices que son fechas."
     ]
    },
    {
     "cell_type": "code",
     "collapsed": false,
     "input": [
      "# serie con \u00edndices autom\u00e1ticos\n",
      "serie = pd.Series(np.random.randn(10))\n",
      "print(u'Serie con \u00edndices autom\u00e1ticos \\n{} \\n'.format(serie))\n",
      "print(type(serie))"
     ],
     "language": "python",
     "metadata": {},
     "outputs": [
      {
       "output_type": "stream",
       "stream": "stdout",
       "text": [
        "Serie con \u00edndices autom\u00e1ticos \n",
        "0   -1.731792\n",
        "1    0.492089\n",
        "2    0.190005\n",
        "3    0.498570\n",
        "4   -0.129411\n",
        "5    0.496611\n",
        "6   -0.561550\n",
        "7   -0.981822\n",
        "8   -0.471803\n",
        "9   -0.255938\n",
        "dtype: float64 \n",
        "\n",
        "<class 'pandas.core.series.Series'>\n"
       ]
      }
     ],
     "prompt_number": 3
    },
    {
     "cell_type": "code",
     "collapsed": false,
     "input": [
      "# serie con \u00edndices definidos por mi\n",
      "serie = pd.Series(np.random.randn(4), index = ['itzi','kikolas','dieguete','nicolasete'])\n",
      "print(u'Serie con \u00edndices definidos \\n{} \\n'.format(serie))\n",
      "print(type(serie))"
     ],
     "language": "python",
     "metadata": {},
     "outputs": [
      {
       "output_type": "stream",
       "stream": "stdout",
       "text": [
        "Serie con \u00edndices definidos \n",
        "itzi          0.130432\n",
        "kikolas      -2.378303\n",
        "dieguete      0.951302\n",
        "nicolasete    1.846942\n",
        "dtype: float64 \n",
        "\n",
        "<class 'pandas.core.series.Series'>\n"
       ]
      }
     ],
     "prompt_number": 4
    },
    {
     "cell_type": "code",
     "collapsed": false,
     "input": [
      "# serie(serie temporal) con \u00edndices que son fechas\n",
      "serie = pd.Series(np.random.randn(31), index = pd.date_range('2013/01/01', periods = 31))\n",
      "print(u'Serie temporal con \u00edndices de fechas \\n{} \\n'.format(serie))\n",
      "print(type(serie))"
     ],
     "language": "python",
     "metadata": {},
     "outputs": [
      {
       "output_type": "stream",
       "stream": "stdout",
       "text": [
        "Serie temporal con \u00edndices de fechas \n",
        "2013-01-01    0.086782\n",
        "2013-01-02   -0.274399\n",
        "2013-01-03   -0.919958\n",
        "2013-01-04    0.749879\n",
        "2013-01-05   -1.739752\n",
        "2013-01-06    0.861299\n",
        "2013-01-07   -0.797413\n",
        "2013-01-08   -0.650584\n",
        "2013-01-09    0.880755\n",
        "2013-01-10   -0.235406\n",
        "2013-01-11    0.134650\n",
        "2013-01-12   -0.255786\n",
        "2013-01-13   -0.068295\n",
        "2013-01-14    0.010727\n",
        "2013-01-15    0.259768\n",
        "2013-01-16    2.449214\n",
        "2013-01-17   -1.452189\n",
        "2013-01-18   -0.846709\n",
        "2013-01-19   -0.835064\n",
        "2013-01-20   -0.073190\n",
        "2013-01-21    0.853177\n",
        "2013-01-22   -0.239683\n",
        "2013-01-23    0.149482\n",
        "2013-01-24   -0.233044\n",
        "2013-01-25    0.073302\n",
        "2013-01-26   -1.769805\n",
        "2013-01-27   -1.016134\n",
        "2013-01-28    0.378350\n",
        "2013-01-29    0.190374\n",
        "2013-01-30   -1.566578\n",
        "2013-01-31    1.601782\n",
        "Freq: D, dtype: float64 \n",
        "\n",
        "<class 'pandas.core.series.Series'>\n"
       ]
      }
     ],
     "prompt_number": 5
    },
    {
     "cell_type": "markdown",
     "metadata": {},
     "source": [
      "En los ejemplos anteriores hemos creado las series a partir de un *numpy* *array* pero las podemos crear a partir de muchas otras cosas: listas, diccionarios, *numpy arrays*,... Veamos ejemplos:"
     ]
    },
    {
     "cell_type": "code",
     "collapsed": false,
     "input": [
      "serie_lista = pd.Series([i*i for i in range(10)])\n",
      "print('Serie a partir de una lista \\n{} \\n'.format(serie_lista))\n",
      "\n",
      "dicc = {'cuadrado de {}'.format(i) : i*i for i in range(10)}\n",
      "serie_dicc = pd.Series(dicc)\n",
      "print('Serie a partir de un diccionario \\n{} \\n'.format(serie_dicc))\n",
      "\n",
      "serie_serie = pd.Series(serie_dicc.values)\n",
      "print('Serie a partir de los valores de otra (pandas)serie \\n{} \\n'.format(serie_serie))\n",
      "\n",
      "serie_cte = pd.Series(-999, index = np.arange(10))\n",
      "print('Serie a partir de un valor constante \\n{} \\n'.format(serie_cte))\n",
      "\n",
      "#..."
     ],
     "language": "python",
     "metadata": {},
     "outputs": [
      {
       "output_type": "stream",
       "stream": "stdout",
       "text": [
        "Serie a partir de una lista \n",
        "0     0\n",
        "1     1\n",
        "2     4\n",
        "3     9\n",
        "4    16\n",
        "5    25\n",
        "6    36\n",
        "7    49\n",
        "8    64\n",
        "9    81\n",
        "dtype: int64 \n",
        "\n",
        "Serie a partir de un diccionario \n",
        "cuadrado de 0     0\n",
        "cuadrado de 1     1\n",
        "cuadrado de 2     4\n",
        "cuadrado de 3     9\n",
        "cuadrado de 4    16\n",
        "cuadrado de 5    25\n",
        "cuadrado de 6    36\n",
        "cuadrado de 7    49\n",
        "cuadrado de 8    64\n",
        "cuadrado de 9    81\n",
        "dtype: int64 \n",
        "\n",
        "Serie a partir de los valores de otra (pandas)serie \n",
        "0     0\n",
        "1     1\n",
        "2     4\n",
        "3     9\n",
        "4    16\n",
        "5    25\n",
        "6    36\n",
        "7    49\n",
        "8    64\n",
        "9    81\n",
        "dtype: int64 \n",
        "\n",
        "Serie a partir de un valor constante \n",
        "0   -999\n",
        "1   -999\n",
        "2   -999\n",
        "3   -999\n",
        "4   -999\n",
        "5   -999\n",
        "6   -999\n",
        "7   -999\n",
        "8   -999\n",
        "9   -999\n",
        "dtype: int64 \n",
        "\n"
       ]
      }
     ],
     "prompt_number": 4
    },
    {
     "cell_type": "markdown",
     "metadata": {},
     "source": [
      "Una serie (`Series` o `TimeSeries`) se puede manejar igual que si tuvi\u00e9ramos un *numpy array* de una dimensi\u00f3n o igual que si tuvi\u00e9ramos un diccionario. Vemos ejemplos de esto:"
     ]
    },
    {
     "cell_type": "code",
     "collapsed": false,
     "input": [
      "serie = pd.Series(np.random.randn(10), index = ['a','b','c','d','e','f','g','h','i','j'])\n",
      "print('Serie que vamos a usar en este ejemplo: \\n{}\\n\\n'.format(serie))\n",
      "\n",
      "# Ejemplos de comportamiento como numpy array\n",
      "print('Se comporta como un numpy array:')\n",
      "print('================================')\n",
      "print('>>> serie.max()\\n{}'.format(serie.max()))\n",
      "print('>>> serie.sum()\\n{}'.format(serie.sum()))\n",
      "print('>>> serie.abs()\\n{}'.format(serie.abs()))\n",
      "print('>>> serie[serie > 0]\\n{}'.format(serie[serie > 0]))\n",
      "#...\n",
      "\n",
      "print('\\n')\n",
      "\n",
      "# Ejemplos de comportamiento como diccionario\n",
      "print(\"Se comporta como un diccionario:\")\n",
      "print(\"================================\")\n",
      "print(\">>> serie['a']\\n{}\".format(serie['a']))\n",
      "print(\">>> 'a' in serie\\n{}\".format('a' in serie))\n",
      "print(\">>> 'z' in serie\\n{}\".format('z' in serie))"
     ],
     "language": "python",
     "metadata": {},
     "outputs": [
      {
       "output_type": "stream",
       "stream": "stdout",
       "text": [
        "Serie que vamos a usar en este ejemplo: \n",
        "a   -0.391483\n",
        "b   -0.791497\n",
        "c   -0.393253\n",
        "d    1.541392\n",
        "e   -0.427196\n",
        "f    0.075259\n",
        "g   -0.473327\n",
        "h   -0.341977\n",
        "i    0.955735\n",
        "j    0.087599\n",
        "dtype: float64\n",
        "\n",
        "\n",
        "Se comporta como un numpy array:\n",
        "================================\n",
        ">>> serie.max()\n",
        "1.541392030043323\n",
        ">>> serie.sum()\n",
        "-0.1587485293714984\n",
        ">>> serie.abs()\n",
        "a    0.391483\n",
        "b    0.791497\n",
        "c    0.393253\n",
        "d    1.541392\n",
        "e    0.427196\n",
        "f    0.075259\n",
        "g    0.473327\n",
        "h    0.341977\n",
        "i    0.955735\n",
        "j    0.087599\n",
        "dtype: float64\n",
        ">>> serie[serie > 0]\n",
        "d    1.541392\n",
        "f    0.075259\n",
        "i    0.955735\n",
        "j    0.087599\n",
        "dtype: float64\n",
        "\n",
        "\n",
        "Se comporta como un diccionario:\n",
        "================================\n",
        ">>> serie['a']\n",
        "-0.39148310784072204\n",
        ">>> 'a' in serie\n",
        "True\n",
        ">>> 'z' in serie\n",
        "False\n"
       ]
      }
     ],
     "prompt_number": 5
    },
    {
     "cell_type": "markdown",
     "metadata": {},
     "source": [
      "Las operaciones est\u00e1n 'vectorizadas' y se hacen elemento a elemento con los elementos alineados en funci\u00f3n del \u00edndice. Si se hace, por ejemplo, una suma de dos series, si en una de las dos series no existe un elemento, i.e. el \u00edndice no existe en la serie, el resultado para ese \u00edndice ser\u00e1 `nan`. En resumen, estamos haciendo una __uni\u00f3n__ de los \u00edndices y funciona diferente a los `numpy` arrays. Se puede ver el esquema en el siguiente ejemplo:"
     ]
    },
    {
     "cell_type": "code",
     "collapsed": false,
     "input": [
      "s1 = serie[1:]\n",
      "s2 = serie[:-1]\n",
      "suma = s1 + s2\n",
      "print('       s1                      s2                  s1 + s2')\n",
      "print('------------------     ------------------     ------------------')\n",
      "for clave in sorted(set(list(s1.keys()) + list(s2.keys()))):\n",
      "    print('{0:1}  {1:20}  +  {0:1}  {2:20}  =  {0:1}  {3:20}'.format(clave, \n",
      "                                                                     s1.get(clave), \n",
      "                                                                     s2.get(clave), \n",
      "                                                                     suma.get(clave)))\n",
      "# En la anterior l\u00ednea de c\u00f3digo uso el m\u00e9todo get para no obtener un KeyError \n",
      "# como s\u00ed obtendr\u00eda si uso, p.e., s1['a']"
     ],
     "language": "python",
     "metadata": {},
     "outputs": [
      {
       "output_type": "stream",
       "stream": "stdout",
       "text": [
        "       s1                      s2                  s1 + s2\n",
        "------------------     ------------------     ------------------\n",
        "a  None                  +  a    -0.663462354872233  =  a                   nan\n",
        "b    0.8932105297090326  +  b    0.8932105297090326  =  b    1.7864210594180652\n",
        "c  -0.31206215624310224  +  c  -0.31206215624310224  =  c   -0.6241243124862045\n",
        "d   -1.1960537478238258  +  d   -1.1960537478238258  =  d   -2.3921074956476516\n",
        "e    1.6085289802454341  +  e    1.6085289802454341  =  e    3.2170579604908682\n",
        "f   -0.0454943963901047  +  f   -0.0454943963901047  =  f   -0.0909887927802094\n",
        "g  -0.19286571253906507  +  g  -0.19286571253906507  =  g  -0.38573142507813013\n",
        "h    1.6813703206498873  +  h    1.6813703206498873  =  h    3.3627406412997747\n",
        "i    -0.503150771440017  +  i    -0.503150771440017  =  i    -1.006301542880034\n",
        "j  -0.07836208480562608  +  j  None                  =  j                   nan\n"
       ]
      }
     ],
     "prompt_number": 8
    },
    {
     "cell_type": "heading",
     "level": 2,
     "metadata": {},
     "source": [
      "[DataFrame](http://pandas.pydata.org/pandas-docs/version/0.15.0/cookbook.html#dataframes)"
     ]
    },
    {
     "cell_type": "markdown",
     "metadata": {},
     "source": [
      "Un DataFrame se puede ver como si fuera una tabla con \u00edndices para las filas y las columnas. Es algo similar a lo que tenemos en una hoja de c\u00e1lculo, una tabla de una BBDD __SQL__ o un diccionario de `series` Pandas. Esta ser\u00e1 la estructura de datos m\u00e1s habitual a usar. El `DataFrame` se puede crear a partir de muchas otras estructuras de datos:\n",
      "\n",
      " * A partir de un diccionario de `numpy` arrays de 1D, diccionarios de listas, diccionarios de diccionarios o diccionarios de Series.\n",
      " * A partir de un `numpy` array de 2D\n",
      " * A partir de un `numpy` array estructurado ([*structured ndarray* o *record ndarray*](http://docs.scipy.org/doc/numpy/user/basics.rec.html))\n",
      " * A partir de una `Series` de Pandas\n",
      " * A partir de otro `DataFrame`de Pandas\n",
      "\n",
      "Adem\u00e1s de los datos, podemos definir los \u00edndices (las etiquetas para las filas) o las columnas (etiquetas para las mismas). Si no se define nada al crear el `DataFrame` se usar\u00e1n normas del sentido com\u00fan para nombrar los \u00edndices de filas y columnas.\n",
      "\n",
      "Veamos un poco de c\u00f3digo para ver esto:"
     ]
    },
    {
     "cell_type": "code",
     "collapsed": false,
     "input": [
      "df_lista = pd.DataFrame({'a': [11,12,13], 'b': [21,22,23]})\n",
      "print('DataFrame a partir de un diccionario de listas \\n{} \\n'.format(df_lista))\n",
      "\n",
      "df_np1D = pd.DataFrame({'a': np.arange(3)**2, 'b': np.random.randn(3)})\n",
      "print('DataFrame a partir de un diccionario de 1D ndarrays \\n{} \\n'.format(df_np1D))\n",
      "\n",
      "df_np2D = pd.DataFrame(np.empty((5,3)), \n",
      "                       index = ['primero','segundo','tercero','cuarto','quinto'], \n",
      "                       columns = ['velocidad', 'temperatura','presion'])\n",
      "print('DataFrame a partir de un 2D ndarray \\n{} \\n'.format(df_np2D))\n",
      "\n",
      "df_df = pd.DataFrame(df_np2D, index = ['primero','segundo','tercero'])\n",
      "df_df.index = ['first','second','third']\n",
      "print('DataFrame a partir de los valores de otro (pandas)DataFrame \\n{} \\n'.format(df_df))\n",
      "\n",
      "#..."
     ],
     "language": "python",
     "metadata": {},
     "outputs": [
      {
       "output_type": "stream",
       "stream": "stdout",
       "text": [
        "DataFrame a partir de un diccionario de listas \n",
        "    a   b\n",
        "0  11  21\n",
        "1  12  22\n",
        "2  13  23\n",
        "\n",
        "[3 rows x 2 columns] \n",
        "\n",
        "DataFrame a partir de un diccionario de 1D ndarrays \n",
        "   a         b\n",
        "0  0 -0.818739\n",
        "1  1 -1.473575\n",
        "2  4 -0.014659\n",
        "\n",
        "[3 rows x 2 columns] \n",
        "\n",
        "DataFrame a partir de un 2D ndarray \n",
        "             velocidad    temperatura        presion\n",
        "primero  1.397157e-306  4.311076e-314   0.000000e+00\n",
        "segundo  1.670358e-179  -1.238962e-65  -2.110672e-44\n",
        "tercero  -3.645480e-42   0.000000e+00  -1.561315e-65\n",
        "cuarto   -2.623582e-42   0.000000e+00  1.519743e-314\n",
        "quinto   -2.578083e-42   0.000000e+00  2.413050e-312\n",
        "\n",
        "[5 rows x 3 columns] \n",
        "\n",
        "DataFrame a partir de los valores de otro (pandas)DataFrame \n",
        "            velocidad    temperatura       presion\n",
        "first   1.397157e-306  4.311076e-314  0.000000e+00\n",
        "second  1.670358e-179  -1.238962e-65 -2.110672e-44\n",
        "third   -3.645480e-42   0.000000e+00 -1.561315e-65\n",
        "\n",
        "[3 rows x 3 columns] \n",
        "\n"
       ]
      }
     ],
     "prompt_number": 9
    },
    {
     "cell_type": "markdown",
     "metadata": {},
     "source": [
      "Podemos construir un `DataFrame` a partir de [constructores alternativos](http://pandas.pydata.org/pandas-docs/stable/dsintro.html#alternate-constructors) como `pd.DataFrame.from_dict`, `pd.DataFrame.from_records` o `pd.DataFrame.from_items`."
     ]
    },
    {
     "cell_type": "heading",
     "level": 2,
     "metadata": {},
     "source": [
      "[Panel, Panel4D, PanelND](http://pandas.pydata.org/pandas-docs/version/0.15.0/cookbook.html#panels)"
     ]
    },
    {
     "cell_type": "markdown",
     "metadata": {},
     "source": [
      "En general, los paneles son para tipos de datos de m\u00e1s de dos dimensiones. No los vamos a cubrir ya que se consideran un pel\u00edn m\u00e1s complejos, de uso menos habitual y/o se encuentran en estado experimental con lo que pueden cambiar bastante en el corto/medio plazo. Se puede consultar la documentaci\u00f3n oficial pulsando sobre:\n",
      "\n",
      " * [Panel](http://pandas.pydata.org/pandas-docs/stable/dsintro.html#panel)\n",
      " * [Panel4D](http://pandas.pydata.org/pandas-docs/stable/dsintro.html#panel4d-experimental)\n",
      " * [PanelND](http://pandas.pydata.org/pandas-docs/stable/dsintro.html#panelnd-experimental)"
     ]
    },
    {
     "cell_type": "heading",
     "level": 1,
     "metadata": {},
     "source": [
      "[Leyendo y escribiendo datos (IO)](http://pandas.pydata.org/pandas-docs/version/0.15.0/cookbook.html#data-in-out)"
     ]
    },
    {
     "cell_type": "markdown",
     "metadata": {},
     "source": [
      "Una de las cosas que m\u00e1s me gusta de Pandas es la potencia que aporta a lo hora de leer y/o escribir ficheros de datos. Pandas es capaz de leer datos de ficheros csv, excel, HDF5, sql, json, html,...\n",
      "\n",
      "Si trabaj\u00e1is con datos de terceros, que pueden provenir de muy diversas fuentes, una de las partes m\u00e1s tediosas del trabajo ser\u00e1 tener los datos listos para empezar a trabajar. Limpiar huecos, poner fechas en formato usable, saltarse cabeceros,...\n",
      "\n",
      "Sin duda, una de las [funciones que usar\u00e9is m\u00e1s ser\u00e1](http://pandas.pydata.org/pandas-docs/stable/io.html#csv-text-files) `read_csv()` que permite una gran flexibilidad a la hora de leer un fichero de texto plano.\n",
      "\n",
      "Veamos la documentaci\u00f3n:"
     ]
    },
    {
     "cell_type": "markdown",
     "metadata": {},
     "source": [
      "    Docstring:\n",
      "    Read CSV (comma-separated) file into DataFrame\n",
      "\n",
      "    Also supports optionally iterating or breaking of the file\n",
      "    into chunks.\n",
      "\n",
      "    Parameters\n",
      "    ----------\n",
      "    filepath_or_buffer : string or file handle / StringIO. The string could be\n",
      "        a URL. Valid URL schemes include http, ftp, s3, and file. For file URLs, a\n",
      "        host is expected. For instance, a local file could be\n",
      "        file ://localhost/path/to/table.csv\n",
      "    sep : string, default ','\n",
      "        Delimiter to use. If sep is None, will try to automatically determine\n",
      "        this. Regular expressions are accepted.\n",
      "\n",
      "    lineterminator : string (length 1), default None\n",
      "        Character to break file into lines. Only valid with C parser\n",
      "    quotechar : string (length 1)\n",
      "        The character used to denote the start and end of a quoted item. Quoted\n",
      "        items can include the delimiter and it will be ignored.\n",
      "    quoting : int or csv.QUOTE_* instance, default None\n",
      "        Control field quoting behavior per ``csv.QUOTE_*`` constants. Use one of\n",
      "        QUOTE_MINIMAL (0), QUOTE_ALL (1), QUOTE_NONNUMERIC (2) or QUOTE_NONE (3).\n",
      "        Default (None) results in QUOTE_MINIMAL behavior.\n",
      "    skipinitialspace : boolean, default False\n",
      "        Skip spaces after delimiter\n",
      "    escapechar : string\n",
      "    dtype : Type name or dict of column -> type\n",
      "        Data type for data or columns. E.g. {'a': np.float64, 'b': np.int32}\n",
      "    compression : {'gzip', 'bz2', None}, default None\n",
      "        For on-the-fly decompression of on-disk data\n",
      "    dialect : string or csv.Dialect instance, default None\n",
      "        If None defaults to Excel dialect. Ignored if sep longer than 1 char\n",
      "        See csv.Dialect documentation for more details\n",
      "    header : int row number(s) to use as the column names, and the start of the\n",
      "        data.  Defaults to 0 if no ``names`` passed, otherwise ``None``. Explicitly\n",
      "        pass ``header=0`` to be able to replace existing names. The header can be\n",
      "        a list of integers that specify row locations for a multi-index on the\n",
      "        columns E.g. [0,1,3]. Intervening rows that are not specified will be\n",
      "        skipped. (E.g. 2 in this example are skipped)\n",
      "    skiprows : list-like or integer\n",
      "        Row numbers to skip (0-indexed) or number of rows to skip (int)\n",
      "        at the start of the file\n",
      "    index_col : int or sequence or False, default None\n",
      "        Column to use as the row labels of the DataFrame. If a sequence is given, a\n",
      "        MultiIndex is used. If you have a malformed file with delimiters at the end\n",
      "        of each line, you might consider index_col=False to force pandas to _not_\n",
      "        use the first column as the index (row names)\n",
      "    names : array-like\n",
      "        List of column names to use. If file contains no header row, then you\n",
      "        should explicitly pass header=None\n",
      "    prefix : string or None (default)\n",
      "        Prefix to add to column numbers when no header, e.g 'X' for X0, X1, ...\n",
      "    na_values : list-like or dict, default None\n",
      "        Additional strings to recognize as NA/NaN. If dict passed, specific\n",
      "        per-column NA values\n",
      "    true_values : list\n",
      "        Values to consider as True\n",
      "    false_values : list\n",
      "        Values to consider as False\n",
      "    keep_default_na : bool, default True\n",
      "        If na_values are specified and keep_default_na is False the default NaN\n",
      "        values are overridden, otherwise they're appended to\n",
      "    parse_dates : boolean, list of ints or names, list of lists, or dict\n",
      "        If True -> try parsing the index.\n",
      "        If [1, 2, 3] -> try parsing columns 1, 2, 3 each as a separate date column.\n",
      "        If [[1, 3]] -> combine columns 1 and 3 and parse as a single date column.\n",
      "        {'foo' : [1, 3]} -> parse columns 1, 3 as date and call result 'foo'\n",
      "        A fast-path exists for iso8601-formatted dates.\n",
      "    keep_date_col : boolean, default False\n",
      "        If True and parse_dates specifies combining multiple columns then\n",
      "        keep the original columns.\n",
      "    date_parser : function\n",
      "        Function to use for converting a sequence of string columns to an\n",
      "        array of datetime instances. The default uses dateutil.parser.parser\n",
      "        to do the conversion.\n",
      "    dayfirst : boolean, default False\n",
      "        DD/MM format dates, international and European format\n",
      "    thousands : str, default None\n",
      "        Thousands separator\n",
      "    comment : str, default None\n",
      "        Indicates remainder of line should not be parsed\n",
      "        Does not support line commenting (will return empty line)\n",
      "    decimal : str, default '.'\n",
      "        Character to recognize as decimal point. E.g. use ',' for European data\n",
      "    nrows : int, default None\n",
      "        Number of rows of file to read. Useful for reading pieces of large files\n",
      "    iterator : boolean, default False\n",
      "        Return TextFileReader object\n",
      "    chunksize : int, default None\n",
      "        Return TextFileReader object for iteration\n",
      "    skipfooter : int, default 0\n",
      "        Number of line at bottom of file to skip\n",
      "    converters : dict. optional\n",
      "        Dict of functions for converting values in certain columns. Keys can either\n",
      "        be integers or column labels\n",
      "    verbose : boolean, default False\n",
      "        Indicate number of NA values placed in non-numeric columns\n",
      "    delimiter : string, default None\n",
      "        Alternative argument name for sep. Regular expressions are accepted.\n",
      "    encoding : string, default None\n",
      "        Encoding to use for UTF when reading/writing (ex. 'utf-8')\n",
      "    squeeze : boolean, default False\n",
      "        If the parsed data only contains one column then return a Series\n",
      "    na_filter: boolean, default True\n",
      "        Detect missing value markers (empty strings and the value of na_values). In\n",
      "        data without any NAs, passing na_filter=False can improve the performance\n",
      "        of reading a large file\n",
      "    usecols : array-like\n",
      "        Return a subset of the columns.\n",
      "        Results in much faster parsing time and lower memory usage.\n",
      "    mangle_dupe_cols: boolean, default True\n",
      "        Duplicate columns will be specified as 'X.0'...'X.N', rather than 'X'...'X'\n",
      "    tupleize_cols: boolean, default False\n",
      "        Leave a list of tuples on columns as is (default is to convert to\n",
      "        a Multi Index on the columns)\n",
      "    error_bad_lines: boolean, default True\n",
      "        Lines with too many fields (e.g. a csv line with too many commas) will by\n",
      "        default cause an exception to be raised, and no DataFrame will be returned.\n",
      "        If False, then these \"bad lines\" will dropped from the DataFrame that is\n",
      "        returned. (Only valid with C parser).\n",
      "    warn_bad_lines: boolean, default True\n",
      "        If error_bad_lines is False, and warn_bad_lines is True, a warning for each\n",
      "        \"bad line\" will be output. (Only valid with C parser).\n",
      "    infer_datetime_format : boolean, default False\n",
      "        If True and parse_dates is enabled for a column, attempt to infer\n",
      "        the datetime format to speed up the processing\n",
      "\n",
      "    Returns\n",
      "    -------\n",
      "    result : DataFrame or TextParser"
     ]
    },
    {
     "cell_type": "markdown",
     "metadata": {},
     "source": [
      "Vamos a inventarnos un fichero de datos..."
     ]
    },
    {
     "cell_type": "code",
     "collapsed": false,
     "input": [
      "%%writefile dummy.data\n",
      "cabecero est\u00fapido\n",
      "901001 0000  7.54 -11.67  1.07  4.27\n",
      "901001 0600 19.61 -2.74 27.87 -8.96\n",
      "901001 1200 -4.34  0.73 -6.58  0.17\n",
      "901001 1800 -4.99  3.24 10.62 -6.13\n",
      "901002 0000 -3.54 10.39 -12.05 -13.35\n",
      "901002 0600 12.55  3.80  4.92 -8.18\n",
      "901002 1200 1.06 23.75 -8.03 -8.67\n",
      "901002 1800 -1.12  1.82  7.09 -6.06\n",
      "901003 0600 -5.90  2.38 19.33  6.84\n",
      "901003 1200 -9.51 -2.72 -7.13 -0.35\n",
      "901003 1800  6.49 -12.01 -13.62 -0.93"
     ],
     "language": "python",
     "metadata": {},
     "outputs": [
      {
       "output_type": "stream",
       "stream": "stdout",
       "text": [
        "Overwriting dummy.data\n"
       ]
      }
     ],
     "prompt_number": 9
    },
    {
     "cell_type": "code",
     "collapsed": false,
     "input": [
      "data = pd.read_csv('dummy.data', sep = '\\s*', \n",
      "                   names = ['fecha', 'hora', 'rec1', 'rec2', 'rec3', 'rec4'],\n",
      "                   skiprows = 1, parse_dates = [[0, 1]], index_col = 0)"
     ],
     "language": "python",
     "metadata": {},
     "outputs": [],
     "prompt_number": 10
    },
    {
     "cell_type": "code",
     "collapsed": false,
     "input": [
      "print(data)"
     ],
     "language": "python",
     "metadata": {},
     "outputs": [
      {
       "output_type": "stream",
       "stream": "stdout",
       "text": [
        "                      rec1   rec2   rec3   rec4\n",
        "fecha_hora                                     \n",
        "1990-10-01 00:00:00   7.54 -11.67   1.07   4.27\n",
        "1990-10-01 06:00:00  19.61  -2.74  27.87  -8.96\n",
        "1990-10-01 12:00:00  -4.34   0.73  -6.58   0.17\n",
        "1990-10-01 18:00:00  -4.99   3.24  10.62  -6.13\n",
        "1990-10-02 00:00:00  -3.54  10.39 -12.05 -13.35\n",
        "1990-10-02 06:00:00  12.55   3.80   4.92  -8.18\n",
        "1990-10-02 12:00:00   1.06  23.75  -8.03  -8.67\n",
        "1990-10-02 18:00:00  -1.12   1.82   7.09  -6.06\n",
        "1990-10-03 06:00:00  -5.90   2.38  19.33   6.84\n",
        "1990-10-03 12:00:00  -9.51  -2.72  -7.13  -0.35\n",
        "1990-10-03 18:00:00   6.49 -12.01 -13.62  -0.93\n"
       ]
      }
     ],
     "prompt_number": 11
    },
    {
     "cell_type": "code",
     "collapsed": false,
     "input": [
      "data.index"
     ],
     "language": "python",
     "metadata": {},
     "outputs": [
      {
       "metadata": {},
       "output_type": "pyout",
       "prompt_number": 12,
       "text": [
        "<class 'pandas.tseries.index.DatetimeIndex'>\n",
        "[1990-10-01 00:00:00, ..., 1990-10-03 18:00:00]\n",
        "Length: 11, Freq: None, Timezone: None"
       ]
      }
     ],
     "prompt_number": 12
    },
    {
     "cell_type": "code",
     "collapsed": false,
     "input": [
      "data.columns"
     ],
     "language": "python",
     "metadata": {},
     "outputs": [
      {
       "metadata": {},
       "output_type": "pyout",
       "prompt_number": 13,
       "text": [
        "Index(['rec1', 'rec2', 'rec3', 'rec4'], dtype='object')"
       ]
      }
     ],
     "prompt_number": 13
    },
    {
     "cell_type": "markdown",
     "metadata": {},
     "source": [
      "**[Inciso]** Si no usamos `print`, el output del `DataFrame` se ver\u00e1 como una tabla HTML gracias a la magia de IPython notebook y de Pandas. En general, intentaremos usar `print` como en las anteriores piezas de c\u00f3digo y de aqu\u00ed en adelante para que se vea igual que si se usa algo distinto al notebook. En la pieza de c\u00f3digo siguiente no uso `print` para qu\u00e9 se vea de lo que hablo ;-)"
     ]
    },
    {
     "cell_type": "code",
     "collapsed": false,
     "input": [
      "#data[data.index >= dt.datetime(1990, 10, 2)]\n",
      "data[data.index >= \"1990-10-02\"]"
     ],
     "language": "python",
     "metadata": {},
     "outputs": [
      {
       "html": [
        "<div style=\"max-height:1000px;max-width:1500px;overflow:auto;\">\n",
        "<table border=\"1\" class=\"dataframe\">\n",
        "  <thead>\n",
        "    <tr style=\"text-align: right;\">\n",
        "      <th></th>\n",
        "      <th>rec1</th>\n",
        "      <th>rec2</th>\n",
        "      <th>rec3</th>\n",
        "      <th>rec4</th>\n",
        "    </tr>\n",
        "    <tr>\n",
        "      <th>fecha_hora</th>\n",
        "      <th></th>\n",
        "      <th></th>\n",
        "      <th></th>\n",
        "      <th></th>\n",
        "    </tr>\n",
        "  </thead>\n",
        "  <tbody>\n",
        "    <tr>\n",
        "      <th>1990-10-02 00:00:00</th>\n",
        "      <td> -3.54</td>\n",
        "      <td> 10.39</td>\n",
        "      <td>-12.05</td>\n",
        "      <td>-13.35</td>\n",
        "    </tr>\n",
        "    <tr>\n",
        "      <th>1990-10-02 06:00:00</th>\n",
        "      <td> 12.55</td>\n",
        "      <td>  3.80</td>\n",
        "      <td>  4.92</td>\n",
        "      <td> -8.18</td>\n",
        "    </tr>\n",
        "    <tr>\n",
        "      <th>1990-10-02 12:00:00</th>\n",
        "      <td>  1.06</td>\n",
        "      <td> 23.75</td>\n",
        "      <td> -8.03</td>\n",
        "      <td> -8.67</td>\n",
        "    </tr>\n",
        "    <tr>\n",
        "      <th>1990-10-02 18:00:00</th>\n",
        "      <td> -1.12</td>\n",
        "      <td>  1.82</td>\n",
        "      <td>  7.09</td>\n",
        "      <td> -6.06</td>\n",
        "    </tr>\n",
        "    <tr>\n",
        "      <th>1990-10-03 06:00:00</th>\n",
        "      <td> -5.90</td>\n",
        "      <td>  2.38</td>\n",
        "      <td> 19.33</td>\n",
        "      <td>  6.84</td>\n",
        "    </tr>\n",
        "    <tr>\n",
        "      <th>1990-10-03 12:00:00</th>\n",
        "      <td> -9.51</td>\n",
        "      <td> -2.72</td>\n",
        "      <td> -7.13</td>\n",
        "      <td> -0.35</td>\n",
        "    </tr>\n",
        "    <tr>\n",
        "      <th>1990-10-03 18:00:00</th>\n",
        "      <td>  6.49</td>\n",
        "      <td>-12.01</td>\n",
        "      <td>-13.62</td>\n",
        "      <td> -0.93</td>\n",
        "    </tr>\n",
        "  </tbody>\n",
        "</table>\n",
        "</div>"
       ],
       "metadata": {},
       "output_type": "pyout",
       "prompt_number": 14,
       "text": [
        "                      rec1   rec2   rec3   rec4\n",
        "fecha_hora                                     \n",
        "1990-10-02 00:00:00  -3.54  10.39 -12.05 -13.35\n",
        "1990-10-02 06:00:00  12.55   3.80   4.92  -8.18\n",
        "1990-10-02 12:00:00   1.06  23.75  -8.03  -8.67\n",
        "1990-10-02 18:00:00  -1.12   1.82   7.09  -6.06\n",
        "1990-10-03 06:00:00  -5.90   2.38  19.33   6.84\n",
        "1990-10-03 12:00:00  -9.51  -2.72  -7.13  -0.35\n",
        "1990-10-03 18:00:00   6.49 -12.01 -13.62  -0.93"
       ]
      }
     ],
     "prompt_number": 14
    },
    {
     "cell_type": "markdown",
     "metadata": {},
     "source": [
      "Escribir el resultado final en un fichero csv, por ejemplo, es algo tan sencillo como:"
     ]
    },
    {
     "cell_type": "code",
     "collapsed": false,
     "input": [
      "data.to_csv('dummy.csv')"
     ],
     "language": "python",
     "metadata": {},
     "outputs": [],
     "prompt_number": 15
    },
    {
     "cell_type": "code",
     "collapsed": false,
     "input": [
      "%load dummy.csv"
     ],
     "language": "python",
     "metadata": {},
     "outputs": [],
     "prompt_number": 16
    },
    {
     "cell_type": "code",
     "collapsed": true,
     "input": [
      "fecha_hora,rec1,rec2,rec3,rec4\n",
      "1990-10-01 00:00:00,7.54,-11.67,1.07,4.27\n",
      "1990-10-01 06:00:00,19.61,-2.74,27.87,-8.96\n",
      "1990-10-01 12:00:00,-4.34,0.73,-6.58,0.17\n",
      "1990-10-01 18:00:00,-4.99,3.24,10.62,-6.13\n",
      "1990-10-02 00:00:00,-3.54,10.39,-12.05,-13.35\n",
      "1990-10-02 06:00:00,12.55,3.8,4.92,-8.18\n",
      "1990-10-02 12:00:00,1.06,23.75,-8.03,-8.67\n",
      "1990-10-02 18:00:00,-1.12,1.82,7.09,-6.06\n",
      "1990-10-03 06:00:00,-5.9,2.38,19.33,6.84\n",
      "1990-10-03 12:00:00,-9.51,-2.72,-7.13,-0.35\n",
      "1990-10-03 18:00:00,6.49,-12.01,-13.62,-0.93"
     ],
     "language": "python",
     "metadata": {},
     "outputs": []
    },
    {
     "cell_type": "markdown",
     "metadata": {},
     "source": [
      "Otra tarea que se realiza habitualmente ser\u00eda la de trabajar con informaci\u00f3n de una base de datos SQL. No lo vamos a ver aqu\u00ed pero pod\u00e9is ver [este notebook donde se explica como leer y/o escribir datos de una BBDD SQL](http://nbviewer.ipython.org/github/jvns/pandas-cookbook/blob/master/cookbook/Chapter%209%20-%20Loading%20data%20from%20SQL%20databases.ipynb) (SQLite, PostgreSQL o MySQL). Una vez que se han le\u00eddo, el tratamiento es el mismo que si los hubi\u00e9semos le\u00eddo de otro origen."
     ]
    },
    {
     "cell_type": "heading",
     "level": 1,
     "metadata": {},
     "source": [
      "[Trabajando con datos, indexaci\u00f3n, selecci\u00f3n,...](http://pandas.pydata.org/pandas-docs/version/0.15.0/cookbook.html#selection)"
     ]
    },
    {
     "cell_type": "markdown",
     "metadata": {},
     "source": [
      "\u00bfC\u00f3mo podemos seleccionar, a\u00f1adir, eliminar, mover,..., columnas, filas,...? \n",
      "\n",
      "Para seleccionar una columna solo hemos de usar el nombre de la columna y pasarlo como si fuera un diccionario (o un atributo). \n",
      "\n",
      "Para a\u00f1adir una columna simplemente hemos de usar un nombre de columna no existente y pasarle los valores para esa columna. \n",
      "\n",
      "Para eliminar una columna podemos usar `del` o el m\u00e9todo `pop`. \n",
      "\n",
      "Para mover una columna podemos usar una combinaci\u00f3n de las metodolog\u00edas anteriores."
     ]
    },
    {
     "cell_type": "markdown",
     "metadata": {},
     "source": [
      "Por ejemplo, vemos a seleccionar los valores de una columna:"
     ]
    },
    {
     "cell_type": "code",
     "collapsed": false,
     "input": [
      "df = pd.DataFrame(np.random.randn(5,3), \n",
      "                       index = ['primero','segundo','tercero','cuarto','quinto'], \n",
      "                       columns = ['velocidad', 'temperatura','presion'])\n",
      "df['velocidad']"
     ],
     "language": "python",
     "metadata": {},
     "outputs": [
      {
       "metadata": {},
       "output_type": "pyout",
       "prompt_number": 17,
       "text": [
        "primero    0.116147\n",
        "segundo   -0.031326\n",
        "tercero   -2.036800\n",
        "cuarto    -0.432879\n",
        "quinto    -0.944108\n",
        "Name: velocidad, dtype: float64"
       ]
      }
     ],
     "prompt_number": 17
    },
    {
     "cell_type": "code",
     "collapsed": false,
     "input": [
      "# Forma alternativa\n",
      "df.velocidad"
     ],
     "language": "python",
     "metadata": {},
     "outputs": [
      {
       "metadata": {},
       "output_type": "pyout",
       "prompt_number": 18,
       "text": [
        "primero    0.116147\n",
        "segundo   -0.031326\n",
        "tercero   -2.036800\n",
        "cuarto    -0.432879\n",
        "quinto    -0.944108\n",
        "Name: velocidad, dtype: float64"
       ]
      }
     ],
     "prompt_number": 18
    },
    {
     "cell_type": "markdown",
     "metadata": {},
     "source": [
      "Vamos a a\u00f1adir una columna nueva al `DataFrame`:"
     ]
    },
    {
     "cell_type": "code",
     "collapsed": false,
     "input": [
      "df['velocidad_maxima'] = np.random.randn(df.shape[0])\n",
      "print(df)"
     ],
     "language": "python",
     "metadata": {},
     "outputs": [
      {
       "output_type": "stream",
       "stream": "stdout",
       "text": [
        "         velocidad  temperatura   presion  velocidad_maxima\n",
        "primero   0.116147     1.429746 -0.937557         -0.316761\n",
        "segundo  -0.031326    -0.036688 -1.214472         -0.518240\n",
        "tercero  -2.036800     1.403272  1.338877         -0.311148\n",
        "cuarto   -0.432879    -0.163595 -1.475231         -0.911488\n",
        "quinto   -0.944108    -1.066021  0.007308         -0.510045\n"
       ]
      }
     ],
     "prompt_number": 19
    },
    {
     "cell_type": "markdown",
     "metadata": {},
     "source": [
      "Pero qu\u00e9 pasa si quiero a\u00f1adir la columna en un lugar espec\u00edfico. Para ello podemos usar el m\u00e9todo `insert` (y de paso vemos como podemos borrar una columna):"
     ]
    },
    {
     "cell_type": "code",
     "collapsed": false,
     "input": [
      "# forma 1 (borramos la columna 'velocidad_maxima' que est\u00e1 al final del df usando del)\n",
      "#         (Colocamos la columna eliminada en la posici\u00f3n que especifiquemos)\n",
      "print(df)\n",
      "columna = df['velocidad_maxima']\n",
      "del df['velocidad_maxima']\n",
      "print(df)\n",
      "print(columna)\n",
      "df.insert(1, 'velocidad_maxima', columna)\n",
      "print(df)"
     ],
     "language": "python",
     "metadata": {},
     "outputs": [
      {
       "output_type": "stream",
       "stream": "stdout",
       "text": [
        "         velocidad  temperatura   presion  velocidad_maxima\n",
        "primero   0.116147     1.429746 -0.937557         -0.316761\n",
        "segundo  -0.031326    -0.036688 -1.214472         -0.518240\n",
        "tercero  -2.036800     1.403272  1.338877         -0.311148\n",
        "cuarto   -0.432879    -0.163595 -1.475231         -0.911488\n",
        "quinto   -0.944108    -1.066021  0.007308         -0.510045\n",
        "         velocidad  temperatura   presion\n",
        "primero   0.116147     1.429746 -0.937557\n",
        "segundo  -0.031326    -0.036688 -1.214472\n",
        "tercero  -2.036800     1.403272  1.338877\n",
        "cuarto   -0.432879    -0.163595 -1.475231\n",
        "quinto   -0.944108    -1.066021  0.007308\n",
        "primero   -0.316761\n",
        "segundo   -0.518240\n",
        "tercero   -0.311148\n",
        "cuarto    -0.911488\n",
        "quinto    -0.510045\n",
        "Name: velocidad_maxima, dtype: float64\n",
        "         velocidad  velocidad_maxima  temperatura   presion\n",
        "primero   0.116147         -0.316761     1.429746 -0.937557\n",
        "segundo  -0.031326         -0.518240    -0.036688 -1.214472\n",
        "tercero  -2.036800         -0.311148     1.403272  1.338877\n",
        "cuarto   -0.432879         -0.911488    -0.163595 -1.475231\n",
        "quinto   -0.944108         -0.510045    -1.066021  0.007308\n"
       ]
      }
     ],
     "prompt_number": 20
    },
    {
     "cell_type": "code",
     "collapsed": false,
     "input": [
      "# forma 2 (borramos usando el m\u00e9todo pop y a\u00f1adimos la columna borrada en la \u00faltima posici\u00f3n de nuevo)\n",
      "print(df)\n",
      "columna = df.pop('velocidad_maxima')\n",
      "print(df)\n",
      "print(columna)\n",
      "df.insert(3, 'velocidad_maxima', columna)\n",
      "print(df)"
     ],
     "language": "python",
     "metadata": {},
     "outputs": [
      {
       "output_type": "stream",
       "stream": "stdout",
       "text": [
        "         velocidad  velocidad_maxima  temperatura   presion\n",
        "primero   0.116147         -0.316761     1.429746 -0.937557\n",
        "segundo  -0.031326         -0.518240    -0.036688 -1.214472\n",
        "tercero  -2.036800         -0.311148     1.403272  1.338877\n",
        "cuarto   -0.432879         -0.911488    -0.163595 -1.475231\n",
        "quinto   -0.944108         -0.510045    -1.066021  0.007308\n",
        "         velocidad  temperatura   presion\n",
        "primero   0.116147     1.429746 -0.937557\n",
        "segundo  -0.031326    -0.036688 -1.214472\n",
        "tercero  -2.036800     1.403272  1.338877\n",
        "cuarto   -0.432879    -0.163595 -1.475231\n",
        "quinto   -0.944108    -1.066021  0.007308\n",
        "primero   -0.316761\n",
        "segundo   -0.518240\n",
        "tercero   -0.311148\n",
        "cuarto    -0.911488\n",
        "quinto    -0.510045\n",
        "Name: velocidad_maxima, dtype: float64\n",
        "         velocidad  temperatura   presion  velocidad_maxima\n",
        "primero   0.116147     1.429746 -0.937557         -0.316761\n",
        "segundo  -0.031326    -0.036688 -1.214472         -0.518240\n",
        "tercero  -2.036800     1.403272  1.338877         -0.311148\n",
        "cuarto   -0.432879    -0.163595 -1.475231         -0.911488\n",
        "quinto   -0.944108    -1.066021  0.007308         -0.510045\n"
       ]
      }
     ],
     "prompt_number": 21
    },
    {
     "cell_type": "markdown",
     "metadata": {},
     "source": [
      "Para seleccionar datos concretos de un `DataFrame` podemos usar el \u00edndice, una rebanada, valores booleanos, la columna,..."
     ]
    },
    {
     "cell_type": "code",
     "collapsed": false,
     "input": [
      "print('Seleccionamos la columna de velocidades')\n",
      "print(df['velocidad'])"
     ],
     "language": "python",
     "metadata": {},
     "outputs": [
      {
       "output_type": "stream",
       "stream": "stdout",
       "text": [
        "Seleccionamos la columna de velocidades\n",
        "primero    0.175374\n",
        "segundo   -0.133466\n",
        "tercero   -0.418224\n",
        "cuarto    -0.320517\n",
        "quinto     0.955521\n",
        "Name: velocidad, dtype: float64\n"
       ]
      }
     ],
     "prompt_number": 22
    },
    {
     "cell_type": "code",
     "collapsed": false,
     "input": [
      "print(u'Seleccionamos todas las columnas cuyo \u00edndice es igual a tercero')\n",
      "print(df.xs('tercero'))"
     ],
     "language": "python",
     "metadata": {},
     "outputs": [
      {
       "output_type": "stream",
       "stream": "stdout",
       "text": [
        "Seleccionamos todas las columnas cuyo \u00edndice es igual a tercero\n",
        "velocidad          -0.418224\n",
        "temperatura         0.603431\n",
        "presion             0.128822\n",
        "velocidad_maxima    1.545612\n",
        "Name: tercero, dtype: float64\n"
       ]
      }
     ],
     "prompt_number": 23
    },
    {
     "cell_type": "code",
     "collapsed": false,
     "input": [
      "print(u'Seleccionamos todas las columnas cuyo \u00edndice est\u00e1 entre tercero y quinto')\n",
      "print(u'Daos cuenta que en este caso los \u00edndices son inclusivos')\n",
      "print(df.ix['tercero':'quinto'])"
     ],
     "language": "python",
     "metadata": {},
     "outputs": [
      {
       "output_type": "stream",
       "stream": "stdout",
       "text": [
        "Seleccionamos todas las columnas cuyo \u00edndice est\u00e1 entre tercero y quinto\n",
        "Daos cuenta que en este caso los \u00edndices son inclusivos\n",
        "         velocidad  temperatura   presion  velocidad_maxima\n",
        "tercero  -0.418224     0.603431  0.128822          1.545612\n",
        "cuarto   -0.320517    -0.643183  0.319838          0.634203\n",
        "quinto    0.955521    -0.295541 -1.277743          2.389485\n",
        "\n",
        "[3 rows x 4 columns]\n"
       ]
      }
     ],
     "prompt_number": 24
    },
    {
     "cell_type": "code",
     "collapsed": false,
     "input": [
      "print(u'Seleccionamos todos los valores de velocidad donde la temperatura > 0')\n",
      "print(df[df['temperatura'] > 0]['velocidad'])"
     ],
     "language": "python",
     "metadata": {},
     "outputs": [
      {
       "output_type": "stream",
       "stream": "stdout",
       "text": [
        "Seleccionamos todos los valores de velocidad donde la temperatura > 0\n",
        "primero    0.175374\n",
        "segundo   -0.133466\n",
        "tercero   -0.418224\n",
        "Name: velocidad, dtype: float64\n"
       ]
      }
     ],
     "prompt_number": 25
    },
    {
     "cell_type": "code",
     "collapsed": false,
     "input": [
      "print('Seleccionamos todos los valores de una columna por \u00edndice usando una')\n",
      "print('rebanada (slice) de enteros')\n",
      "print('Daos cuenta que en este caso el l\u00edmite superior de la rebanada no se')\n",
      "print('incluye (Python tradicional)')\n",
      "print(df.ix[1:3])"
     ],
     "language": "python",
     "metadata": {},
     "outputs": [
      {
       "output_type": "stream",
       "stream": "stdout",
       "text": [
        "Seleccionamos todos los valores de una columna por \u00edndice usando una\n",
        "rebanada (slice) de enteros\n",
        "Daos cuenta que en este caso el l\u00edmite superior de la rebanada no se\n",
        "incluye (Python tradicional)\n",
        "         velocidad  temperatura   presion  velocidad_maxima\n",
        "segundo  -0.133466     0.987833  0.305844         -0.746577\n",
        "tercero  -0.418224     0.603431  0.128822          1.545612\n",
        "\n",
        "[2 rows x 4 columns]\n"
       ]
      }
     ],
     "prompt_number": 26
    },
    {
     "cell_type": "code",
     "collapsed": false,
     "input": [
      "print(u'Seleccionamos filas y columnas')\n",
      "print(df.ix[1:3, ['velocidad', 'presion']])"
     ],
     "language": "python",
     "metadata": {},
     "outputs": [
      {
       "output_type": "stream",
       "stream": "stdout",
       "text": [
        "Seleccionamos filas y columnas\n",
        "         velocidad   presion\n",
        "segundo  -0.133466  0.305844\n",
        "tercero  -0.418224  0.128822\n",
        "\n",
        "[2 rows x 2 columns]\n"
       ]
      }
     ],
     "prompt_number": 28
    },
    {
     "cell_type": "code",
     "collapsed": false,
     "input": [
      "# Algunas de las cosas anteriores se pueden realizar sin usar los m\u00e9todos .ix() o .xs()\n",
      "print(df['velocidad'][1:3])"
     ],
     "language": "python",
     "metadata": {},
     "outputs": [
      {
       "output_type": "stream",
       "stream": "stdout",
       "text": [
        "segundo   -0.133466\n",
        "tercero   -0.418224\n",
        "Name: velocidad, dtype: float64\n"
       ]
      }
     ],
     "prompt_number": 29
    },
    {
     "cell_type": "code",
     "collapsed": false,
     "input": [
      "# Da igual si colocamos el slice primero y despu\u00e9s las columnas:\n",
      "df['velocidad'][1:3] == df[1:3]['velocidad']"
     ],
     "language": "python",
     "metadata": {},
     "outputs": [
      {
       "metadata": {},
       "output_type": "pyout",
       "prompt_number": 30,
       "text": [
        "segundo    True\n",
        "tercero    True\n",
        "Name: velocidad, dtype: bool"
       ]
      }
     ],
     "prompt_number": 30
    },
    {
     "cell_type": "markdown",
     "metadata": {},
     "source": [
      "En lo anterior he estado usando los m\u00e9todos `.ix()`, `.xs()` para obtener [partes del DataFrame](http://pandas.pydata.org/pandas-docs/stable/indexing.html#indexing-advanced). Son [herramientas muy flexibles que nos permiten acceder a los datos de forma muy personalizada](http://pandas.pydata.org/pandas-docs/stable/indexing.html#different-choices-for-indexing-loc-iloc-and-ix). Otras opciones ser\u00eda usar los m\u00e9todos `.loc()`, `.iloc()`, [`.select()`](http://pandas.pydata.org/pandas-docs/stable/indexing.html#the-select-method)."
     ]
    },
    {
     "cell_type": "markdown",
     "metadata": {},
     "source": [
      "Es importante tener en cuenta que las series devueltas cuando se indexa un `DataFrame` son solo vistas y no una copia de los propios datos. Por tanto, debes ser precavido cuando manipulas los datos (al igual que sucede con los `numpy` arrays y otros tipos de datos). Lo siguiente (hecho con `numpy` arrays) es equivalente para las estructuras de datos de Pandas."
     ]
    },
    {
     "cell_type": "code",
     "collapsed": false,
     "input": [
      "# Vista, \u00a1Cuidado!\n",
      "a = np.random.rand(5)\n",
      "data = a[0:2]\n",
      "data[:] = -999\n",
      "print(a)\n",
      "\n",
      "# Copias\n",
      "a = np.random.rand(5)\n",
      "data = a[0:2].copy()\n",
      "data[:] = -999\n",
      "print(a)\n",
      "\n",
      "a = np.random.rand(5)\n",
      "data = 1 * a[0:2]\n",
      "data[:] = -999\n",
      "print(a)\n",
      "\n",
      "a = np.random.rand(5)\n",
      "np.copyto(data, a[0:2]) # En este caso, data tiene que existir\n",
      "data[:] = -999\n",
      "print(a)\n",
      "\n",
      "a = np.random.rand(5)\n",
      "data = np.array(a[0:2])\n",
      "data[:] = -999\n",
      "print(a)"
     ],
     "language": "python",
     "metadata": {},
     "outputs": [
      {
       "output_type": "stream",
       "stream": "stdout",
       "text": [
        "[ -9.99000000e+02  -9.99000000e+02   7.18723608e-01   5.30962716e-01\n",
        "   3.43706883e-01]\n",
        "[ 0.20812195  0.36386055  0.17570252  0.31071035  0.38838464]\n",
        "[ 0.37175682  0.36962863  0.14481144  0.80786818  0.82803089]\n",
        "[ 0.89958739  0.00190588  0.14769624  0.3378831   0.74536315]\n",
        "[ 0.19285654  0.51489647  0.19612007  0.52342758  0.2006809 ]\n"
       ]
      }
     ],
     "prompt_number": 31
    },
    {
     "cell_type": "markdown",
     "metadata": {},
     "source": [
      "Para acceder a los valores de los \u00edndices podemos usar `.index`."
     ]
    },
    {
     "cell_type": "code",
     "collapsed": false,
     "input": [
      "df.index"
     ],
     "language": "python",
     "metadata": {},
     "outputs": [
      {
       "metadata": {},
       "output_type": "pyout",
       "prompt_number": 32,
       "text": [
        "Index(['primero', 'segundo', 'tercero', 'cuarto', 'quinto'], dtype='object')"
       ]
      }
     ],
     "prompt_number": 32
    },
    {
     "cell_type": "markdown",
     "metadata": {},
     "source": [
      "Para acceder a los valores de las columnas podemos usar `.columns`."
     ]
    },
    {
     "cell_type": "code",
     "collapsed": false,
     "input": [
      "df.columns"
     ],
     "language": "python",
     "metadata": {},
     "outputs": [
      {
       "metadata": {},
       "output_type": "pyout",
       "prompt_number": 33,
       "text": [
        "Index(['velocidad', 'temperatura', 'presion', 'velocidad_maxima'], dtype='object')"
       ]
      }
     ],
     "prompt_number": 33
    },
    {
     "cell_type": "heading",
     "level": 1,
     "metadata": {},
     "source": [
      "[Concatenando (concatenate) y uniendo (merge/join) datos](http://pandas.pydata.org/pandas-docs/version/0.15.0/cookbook.html#merge)"
     ]
    },
    {
     "cell_type": "heading",
     "level": 2,
     "metadata": {},
     "source": [
      "Concatenar"
     ]
    },
    {
     "cell_type": "markdown",
     "metadata": {},
     "source": [
      "Para concatenar ficheros se usa la funci\u00f3n `pd.concat` ([documentaci\u00f3n oficial](http://pandas.pydata.org/pandas-docs/stable/generated/pandas.tools.merge.concat.html#pandas.tools.merge.concat)]. Un ejemplo r\u00e1pido ser\u00eda el siguiente:"
     ]
    },
    {
     "cell_type": "code",
     "collapsed": false,
     "input": [
      "datos1 = pd.DataFrame(np.random.randn(5,3))\n",
      "datos2 = pd.DataFrame(np.random.randn(5,3))\n",
      "piezas = [datos1, datos2]\n",
      "datos_concatenados_a = pd.concat(piezas)\n",
      "print('datos1\\n {}'.format(datos1))\n",
      "print('datos2\\n {}'.format(datos2))\n",
      "print('datos_concatenados\\n {}'.format(datos_concatenados_a))"
     ],
     "language": "python",
     "metadata": {},
     "outputs": [
      {
       "output_type": "stream",
       "stream": "stdout",
       "text": [
        "datos1\n",
        "           0         1         2\n",
        "0 -1.691985 -1.181241 -0.714437\n",
        "1  0.955094 -0.238498  1.137918\n",
        "2 -0.533739 -0.285976 -0.990184\n",
        "3 -0.626446  0.664830  0.278803\n",
        "4 -0.183818 -0.013190  0.505786\n",
        "\n",
        "[5 rows x 3 columns]\n",
        "datos2\n",
        "           0         1         2\n",
        "0 -2.063044  2.328388  0.043275\n",
        "1 -1.720170 -0.039871  0.954244\n",
        "2 -0.173751  0.047003 -0.979577\n",
        "3 -0.293044  1.928332 -1.323554\n",
        "4  0.705127  3.711652 -0.535096\n",
        "\n",
        "[5 rows x 3 columns]\n",
        "datos_concatenados\n",
        "           0         1         2\n",
        "0 -1.691985 -1.181241 -0.714437\n",
        "1  0.955094 -0.238498  1.137918\n",
        "2 -0.533739 -0.285976 -0.990184\n",
        "3 -0.626446  0.664830  0.278803\n",
        "4 -0.183818 -0.013190  0.505786\n",
        "0 -2.063044  2.328388  0.043275\n",
        "1 -1.720170 -0.039871  0.954244\n",
        "2 -0.173751  0.047003 -0.979577\n",
        "3 -0.293044  1.928332 -1.323554\n",
        "4  0.705127  3.711652 -0.535096\n",
        "\n",
        "[10 rows x 3 columns]\n"
       ]
      }
     ],
     "prompt_number": 34
    },
    {
     "cell_type": "markdown",
     "metadata": {},
     "source": [
      "Interesante, r\u00e1pido y limpio, como me gusta. Pero, si nos fijamos, tenemos un problema con los \u00edndices ya que algunos est\u00e1n repetidos. Si accedemos al \u00edndice *0*, por ejemplo, obtendr\u00edamos dos filas de valores en lugar de una."
     ]
    },
    {
     "cell_type": "code",
     "collapsed": false,
     "input": [
      "datos_concatenados_a.ix[0]"
     ],
     "language": "python",
     "metadata": {},
     "outputs": [
      {
       "html": [
        "<div style=\"max-height:1000px;max-width:1500px;overflow:auto;\">\n",
        "<table border=\"1\" class=\"dataframe\">\n",
        "  <thead>\n",
        "    <tr style=\"text-align: right;\">\n",
        "      <th></th>\n",
        "      <th>0</th>\n",
        "      <th>1</th>\n",
        "      <th>2</th>\n",
        "    </tr>\n",
        "  </thead>\n",
        "  <tbody>\n",
        "    <tr>\n",
        "      <th>0</th>\n",
        "      <td>-1.691985</td>\n",
        "      <td>-1.181241</td>\n",
        "      <td>-0.714437</td>\n",
        "    </tr>\n",
        "    <tr>\n",
        "      <th>0</th>\n",
        "      <td>-2.063044</td>\n",
        "      <td> 2.328388</td>\n",
        "      <td> 0.043275</td>\n",
        "    </tr>\n",
        "  </tbody>\n",
        "</table>\n",
        "<p>2 rows \u00d7 3 columns</p>\n",
        "</div>"
       ],
       "metadata": {},
       "output_type": "pyout",
       "prompt_number": 35,
       "text": [
        "          0         1         2\n",
        "0 -1.691985 -1.181241 -0.714437\n",
        "0 -2.063044  2.328388  0.043275\n",
        "\n",
        "[2 rows x 3 columns]"
       ]
      }
     ],
     "prompt_number": 35
    },
    {
     "cell_type": "markdown",
     "metadata": {},
     "source": [
      "Lo anterior podr\u00eda llevar a equ\u00edvocos. Esto lo podemos solventar de varias formas. Una ser\u00eda reescribiendo la columna de \u00edndices para que no haya malentendidos al hacer cualquier operaci\u00f3n. Por ejemplo:"
     ]
    },
    {
     "cell_type": "code",
     "collapsed": false,
     "input": [
      "datos_concatenados_aa = datos_concatenados_a\n",
      "datos_concatenados_aa.index = range(datos_concatenados_aa.shape[0])\n",
      "print('datos_concatenados\\n {}'.format(datos_concatenados_aa))"
     ],
     "language": "python",
     "metadata": {},
     "outputs": [
      {
       "output_type": "stream",
       "stream": "stdout",
       "text": [
        "datos_concatenados\n",
        "           0         1         2\n",
        "0 -1.691985 -1.181241 -0.714437\n",
        "1  0.955094 -0.238498  1.137918\n",
        "2 -0.533739 -0.285976 -0.990184\n",
        "3 -0.626446  0.664830  0.278803\n",
        "4 -0.183818 -0.013190  0.505786\n",
        "5 -2.063044  2.328388  0.043275\n",
        "6 -1.720170 -0.039871  0.954244\n",
        "7 -0.173751  0.047003 -0.979577\n",
        "8 -0.293044  1.928332 -1.323554\n",
        "9  0.705127  3.711652 -0.535096\n",
        "\n",
        "[10 rows x 3 columns]\n"
       ]
      }
     ],
     "prompt_number": 36
    },
    {
     "cell_type": "markdown",
     "metadata": {},
     "source": [
      "O usando la palabra clave `ignore_index` pas\u00e1ndole el valor `True` al crear la concatenaci\u00f3n. Por ejemplo:"
     ]
    },
    {
     "cell_type": "code",
     "collapsed": false,
     "input": [
      "datos_concatenados_aa = pd.concat(piezas, ignore_index = True)\n",
      "print(datos_concatenados_aa)"
     ],
     "language": "python",
     "metadata": {},
     "outputs": [
      {
       "output_type": "stream",
       "stream": "stdout",
       "text": [
        "          0         1         2\n",
        "0 -1.691985 -1.181241 -0.714437\n",
        "1  0.955094 -0.238498  1.137918\n",
        "2 -0.533739 -0.285976 -0.990184\n",
        "3 -0.626446  0.664830  0.278803\n",
        "4 -0.183818 -0.013190  0.505786\n",
        "5 -2.063044  2.328388  0.043275\n",
        "6 -1.720170 -0.039871  0.954244\n",
        "7 -0.173751  0.047003 -0.979577\n",
        "8 -0.293044  1.928332 -1.323554\n",
        "9  0.705127  3.711652 -0.535096\n",
        "\n",
        "[10 rows x 3 columns]\n"
       ]
      }
     ],
     "prompt_number": 37
    },
    {
     "cell_type": "markdown",
     "metadata": {},
     "source": [
      "Vale, hemos solventado el anterior problema pero que pasa si, por la raz\u00f3n que sea, nos interesase conservar los \u00edndices originales. Podr\u00edamos usar palabras clave para cada 'cosa' concatenada en el *DataFrame* final. Ejemplo:    "
     ]
    },
    {
     "cell_type": "code",
     "collapsed": false,
     "input": [
      "#datos1 = pd.DataFrame(np.random.randn(5,3))\n",
      "#datos2 = pd.DataFrame(np.random.randn(5,3))\n",
      "#piezas = [datos1, datos2]\n",
      "datos_concatenados_b = pd.concat(piezas, keys = ['datos1', 'datos2'])\n",
      "print('datos1\\n {}'.format(datos1))\n",
      "print('datos2\\n {}'.format(datos2))\n",
      "print('datos_concatenados\\n {}'.format(datos_concatenados_b))"
     ],
     "language": "python",
     "metadata": {},
     "outputs": [
      {
       "output_type": "stream",
       "stream": "stdout",
       "text": [
        "datos1\n",
        "           0         1         2\n",
        "0 -1.691985 -1.181241 -0.714437\n",
        "1  0.955094 -0.238498  1.137918\n",
        "2 -0.533739 -0.285976 -0.990184\n",
        "3 -0.626446  0.664830  0.278803\n",
        "4 -0.183818 -0.013190  0.505786\n",
        "\n",
        "[5 rows x 3 columns]\n",
        "datos2\n",
        "           0         1         2\n",
        "0 -2.063044  2.328388  0.043275\n",
        "1 -1.720170 -0.039871  0.954244\n",
        "2 -0.173751  0.047003 -0.979577\n",
        "3 -0.293044  1.928332 -1.323554\n",
        "4  0.705127  3.711652 -0.535096\n",
        "\n",
        "[5 rows x 3 columns]\n",
        "datos_concatenados\n",
        "                  0         1         2\n",
        "datos1 0 -1.691985 -1.181241 -0.714437\n",
        "       1  0.955094 -0.238498  1.137918\n",
        "       2 -0.533739 -0.285976 -0.990184\n",
        "       3 -0.626446  0.664830  0.278803\n",
        "       4 -0.183818 -0.013190  0.505786\n",
        "datos2 0 -2.063044  2.328388  0.043275\n",
        "       1 -1.720170 -0.039871  0.954244\n",
        "       2 -0.173751  0.047003 -0.979577\n",
        "       3 -0.293044  1.928332 -1.323554\n",
        "       4  0.705127  3.711652 -0.535096\n",
        "\n",
        "[10 rows x 3 columns]\n"
       ]
      }
     ],
     "prompt_number": 38
    },
    {
     "cell_type": "markdown",
     "metadata": {},
     "source": [
      "Vemos que hay \u00edndices repetidos pero est\u00e1n en 'grupos' diferentes. De esta forma, si queremos acceder a la fila con \u00edndice 0 del primer grupo de datos concatenados (datos1) podemos hacer lo siguiente:"
     ]
    },
    {
     "cell_type": "code",
     "collapsed": false,
     "input": [
      "print(datos_concatenados_b.ix['datos1'].ix[0])"
     ],
     "language": "python",
     "metadata": {},
     "outputs": [
      {
       "output_type": "stream",
       "stream": "stdout",
       "text": [
        "0   -1.691985\n",
        "1   -1.181241\n",
        "2   -0.714437\n",
        "Name: 0, dtype: float64\n"
       ]
      }
     ],
     "prompt_number": 39
    },
    {
     "cell_type": "markdown",
     "metadata": {},
     "source": [
      "Estamos viendo filas, pero podemos hacer los mismo para las columnas, por supuesto, usando el nombre de la columna (en el ejemplo siguiente, la columna `0`):"
     ]
    },
    {
     "cell_type": "code",
     "collapsed": false,
     "input": [
      "print(datos_concatenados_b.ix['datos1'][0])"
     ],
     "language": "python",
     "metadata": {},
     "outputs": [
      {
       "output_type": "stream",
       "stream": "stdout",
       "text": [
        "0   -1.691985\n",
        "1    0.955094\n",
        "2   -0.533739\n",
        "3   -0.626446\n",
        "4   -0.183818\n",
        "Name: 0, dtype: float64\n"
       ]
      }
     ],
     "prompt_number": 40
    },
    {
     "cell_type": "markdown",
     "metadata": {},
     "source": [
      "Vemos qu\u00e9 tipo de \u00edndice es este \u00edndice 'compuesto' que hemos creado:"
     ]
    },
    {
     "cell_type": "code",
     "collapsed": false,
     "input": [
      "datos_concatenados_b.index"
     ],
     "language": "python",
     "metadata": {},
     "outputs": [
      {
       "metadata": {},
       "output_type": "pyout",
       "prompt_number": 41,
       "text": [
        "MultiIndex(levels=[['datos1', 'datos2'], [0, 1, 2, 3, 4]],\n",
        "           labels=[[0, 0, 0, 0, 0, 1, 1, 1, 1, 1], [0, 1, 2, 3, 4, 0, 1, 2, 3, 4]])"
       ]
      }
     ],
     "prompt_number": 41
    },
    {
     "cell_type": "markdown",
     "metadata": {},
     "source": [
      "Vemos que es un `MultiIndex`. No vamos a ver mucho m\u00e1s pero os lo dejo anotado para que sep\u00e1is que existen combinaciones de \u00edndices (o de columnas) y se manejan de forma un poco m\u00e1s compleja que un \u00edndice 'simple'. Se conoce como [indexaci\u00f3n jer\u00e1rquica](http://pandas.pydata.org/pandas-docs/stable/indexing.html#hierarchical-indexing-multiindex) y permiten ser un poco m\u00e1s descriptivos (verbose) con nuestros DataFrames aunque conlleva un punto m\u00e1s de complejidad a la hora de trabajar con los datos."
     ]
    },
    {
     "cell_type": "markdown",
     "metadata": {},
     "source": [
      "\u00bfQu\u00e9 pasa cuando una de las columnas no es igual en los grupos de datos que queramos concatenar? El nuevo `DataFrame` tendr\u00e1 en cuenta este aspecto rellenando con `NaNs` donde convenga. Veamos el siguiente c\u00f3digo de ejemplo:"
     ]
    },
    {
     "cell_type": "code",
     "collapsed": false,
     "input": [
      "datos1 = pd.DataFrame(np.random.randn(5,3))\n",
      "datos2 = pd.DataFrame(np.random.randn(5,4))\n",
      "piezas = [datos1, datos2]\n",
      "datos_concatenados_c = pd.concat(piezas, ignore_index = True)\n",
      "print('datos1\\n {}'.format(datos1))\n",
      "print('datos2\\n {}'.format(datos2))\n",
      "print('datos_concatenados\\n {}'.format(datos_concatenados_c))"
     ],
     "language": "python",
     "metadata": {},
     "outputs": [
      {
       "output_type": "stream",
       "stream": "stdout",
       "text": [
        "datos1\n",
        "           0         1         2\n",
        "0 -0.082729 -0.016452 -1.280156\n",
        "1  0.606336 -0.504770 -2.017690\n",
        "2 -2.147009 -0.632275  0.023689\n",
        "3 -0.255461 -0.042007  0.661835\n",
        "4  2.351576  0.735611 -0.187072\n",
        "\n",
        "[5 rows x 3 columns]\n",
        "datos2\n",
        "           0         1         2         3\n",
        "0 -0.223023  0.070622 -0.577119 -1.430177\n",
        "1 -1.661289 -0.214221  0.709818 -0.642611\n",
        "2 -0.098368 -0.489105 -1.373906 -2.104431\n",
        "3  0.880578 -0.601151 -1.450542 -0.289738\n",
        "4 -1.461346 -0.539262  0.327825 -0.944431\n",
        "\n",
        "[5 rows x 4 columns]\n",
        "datos_concatenados\n",
        "           0         1         2         3\n",
        "0 -0.082729 -0.016452 -1.280156       NaN\n",
        "1  0.606336 -0.504770 -2.017690       NaN\n",
        "2 -2.147009 -0.632275  0.023689       NaN\n",
        "3 -0.255461 -0.042007  0.661835       NaN\n",
        "4  2.351576  0.735611 -0.187072       NaN\n",
        "5 -0.223023  0.070622 -0.577119 -1.430177\n",
        "6 -1.661289 -0.214221  0.709818 -0.642611\n",
        "7 -0.098368 -0.489105 -1.373906 -2.104431\n",
        "8  0.880578 -0.601151 -1.450542 -0.289738\n",
        "9 -1.461346 -0.539262  0.327825 -0.944431\n",
        "\n",
        "[10 rows x 4 columns]\n"
       ]
      }
     ],
     "prompt_number": 42
    },
    {
     "cell_type": "markdown",
     "metadata": {},
     "source": [
      "Vemos que el primer grupo de datos, datos1, solo tiene tres columnas mientras que el segundo grupo, datos2, tiene 4 columnas. El resultado final tendr\u00e1 en cuenta esto y rellener\u00e1 la columna 3 que pertenece a los datos del primer grupo de datos, datos1. Cool!\n",
      "\n",
      "Lo visto hasta ahora para concatenar *Series* o *DataFrames* lo podemos hacer tambi\u00e9n usando el m\u00e9todo `append`. Veamos un ejemplo similar a lo anterior:"
     ]
    },
    {
     "cell_type": "code",
     "collapsed": false,
     "input": [
      "datos1 = pd.DataFrame(np.random.randn(5,3))\n",
      "datos2 = pd.DataFrame(np.random.randn(5,4))\n",
      "datos_concatenados_d = datos1.append(datos2, ignore_index = True)\n",
      "print('datos1\\n {}'.format(datos1))\n",
      "print('datos2\\n {}'.format(datos2))\n",
      "print('datos_concatenados\\n {}'.format(datos_concatenados_d))"
     ],
     "language": "python",
     "metadata": {},
     "outputs": [
      {
       "output_type": "stream",
       "stream": "stdout",
       "text": [
        "datos1\n",
        "           0         1         2\n",
        "0 -0.974367  1.732370  0.354479\n",
        "1 -0.021746  2.215287  1.107243\n",
        "2  0.018506  1.301015  1.103651\n",
        "3 -1.857281 -1.181981  0.097104\n",
        "4 -0.595689  0.140885  1.993213\n",
        "\n",
        "[5 rows x 3 columns]\n",
        "datos2\n",
        "           0         1         2         3\n",
        "0 -0.211180 -0.093403  0.215210 -0.154284\n",
        "1  0.206997  1.277379 -0.893895 -0.216731\n",
        "2 -1.138390 -0.067240  1.688928 -2.191215\n",
        "3  0.938069  0.174496 -1.722735 -0.873746\n",
        "4  0.177425  0.823896 -0.595673 -0.426416\n",
        "\n",
        "[5 rows x 4 columns]\n",
        "datos_concatenados\n",
        "           0         1         2         3\n",
        "0 -0.974367  1.732370  0.354479       NaN\n",
        "1 -0.021746  2.215287  1.107243       NaN\n",
        "2  0.018506  1.301015  1.103651       NaN\n",
        "3 -1.857281 -1.181981  0.097104       NaN\n",
        "4 -0.595689  0.140885  1.993213       NaN\n",
        "5 -0.211180 -0.093403  0.215210 -0.154284\n",
        "6  0.206997  1.277379 -0.893895 -0.216731\n",
        "7 -1.138390 -0.067240  1.688928 -2.191215\n",
        "8  0.938069  0.174496 -1.722735 -0.873746\n",
        "9  0.177425  0.823896 -0.595673 -0.426416\n",
        "\n",
        "[10 rows x 4 columns]\n"
       ]
      }
     ],
     "prompt_number": 43
    },
    {
     "cell_type": "heading",
     "level": 2,
     "metadata": {},
     "source": [
      "Unir (merge/join)"
     ]
    },
    {
     "cell_type": "markdown",
     "metadata": {},
     "source": [
      "Pandas dispone de la funci\u00f3n `merge` ([documentaci\u00f3n oficial](http://pandas.pydata.org/pandas-docs/stable/generated/pandas.tools.merge.merge.html#pandas.tools.merge.merge)) que permite 'unir' datos al estilo de como se hace con bases de datos relacionales (usando **SQL**). Tambi\u00e9n se puede acceder al m\u00e9todo `merge` disponible en las instancias a un *Dataframe*.\n",
      "\n",
      "Por su parte, `join` es un m\u00e9todo disponible en un *DataFrame* y sirve para hacer uniones de \u00edndices sobre \u00edndices o de \u00edndices sobre columnas. Las uniones que hace `join` las hace sobre los \u00edndices, en lugar de hacerlo sobre columnas comunes como se hace con `merge`. A ver si viendo los ejemplos queda un poco mejor este \u00faltimo p\u00e1rrafo y las diferencias entre `join` y `merge`.\n",
      "\n",
      "Las uniones pueden ser *uno-a-uno*, *muchos-a-uno* o *muchos-a-muchos*.\n",
      "\n",
      "Una uni\u00f3n *uno-a-uno* ser\u00eda cuando unimos dos tablas (*DataFrames*) con \u00edndices \u00fanicos como hemos hecho en el apartado anterior con las concatenaciones."
     ]
    },
    {
     "cell_type": "code",
     "collapsed": false,
     "input": [
      "datos1 = pd.DataFrame(np.random.randn(10), columns = ['columna1'])\n",
      "datos2 = pd.DataFrame(np.random.randn(14), columns = ['columna2'], index = np.arange(1,15))\n",
      "datos1j = datos1.join(datos2)\n",
      "datos2j = datos2.join(datos1)\n",
      "print('datos1j \\n{}\\n'.format(datos1j))\n",
      "print('datos2j \\n{}'.format(datos2j))"
     ],
     "language": "python",
     "metadata": {},
     "outputs": [
      {
       "output_type": "stream",
       "stream": "stdout",
       "text": [
        "datos1j \n",
        "   columna1  columna2\n",
        "0 -0.209303       NaN\n",
        "1 -0.430892  1.052453\n",
        "2  0.766200 -0.346896\n",
        "3  1.773694 -0.249700\n",
        "4 -2.259187 -0.588739\n",
        "5 -0.930647  0.160590\n",
        "6  0.029990  0.421446\n",
        "7  0.812770 -0.315913\n",
        "8  0.681786  0.256745\n",
        "9 -0.115109  0.524278\n",
        "\n",
        "[10 rows x 2 columns]\n",
        "\n",
        "datos2j \n",
        "    columna2  columna1\n",
        "1   1.052453 -0.430892\n",
        "2  -0.346896  0.766200\n",
        "3  -0.249700  1.773694\n",
        "4  -0.588739 -2.259187\n",
        "5   0.160590 -0.930647\n",
        "6   0.421446  0.029990\n",
        "7  -0.315913  0.812770\n",
        "8   0.256745  0.681786\n",
        "9   0.524278 -0.115109\n",
        "10 -1.707269       NaN\n",
        "11 -1.140342       NaN\n",
        "12 -1.751337       NaN\n",
        "13 -0.481319       NaN\n",
        "14  1.604800       NaN\n",
        "\n",
        "[14 rows x 2 columns]\n"
       ]
      }
     ],
     "prompt_number": 44
    },
    {
     "cell_type": "markdown",
     "metadata": {},
     "source": [
      "En los anteriores ejemplos, `datos1j` es el resultado de unir los datos `datos2` a los datos `datos1` en todos los \u00edndices comunes que tienen ambos teniendo solo en cuenta el rango de \u00edndices definido en `datos1`. Si alg\u00fan dato en `datos2` no tiene un \u00edndice presente en `datos1` se rellenar\u00e1 con un `NaN`. Con `datos2j` sucede lo mismo que con `datos1j` lo que el \u00edndice que tiene relevancia ahora es el perteneciente a `datos2j`. No s\u00e9 si habr\u00e1 quedado m\u00e1s o menos claro.\n",
      "\n",
      "Ahora vamos a unir pero usando la palabra clave `how` que nos permite decir como se van a tener en cuenta los \u00edndices. Normalmente le pasaremos el par\u00e1metro `outer` o `inner`. El primero, `outer`, indica que los \u00edndices de los *DataFrames* se unen como en una uni\u00f3n de conjuntos, el segundo, `inner`, une los \u00edndices como si hici\u00e9ramos una intersecci\u00f3n de conjuntos. Veamos un par de ejemplos para que se vea de forma pr\u00e1ctica, el primero usando `outer` y el segundo usando `inner`:"
     ]
    },
    {
     "cell_type": "code",
     "collapsed": false,
     "input": [
      "datos3j1 = datos1.join(datos2, how = 'outer')\n",
      "datos3j2 = datos2.join(datos1, how = 'outer')\n",
      "print('datos3j1 \\n{}\\n'.format(datos3j1))\n",
      "print('datos3j2 recolocados\\n{}\\n'.format(datos3j2.ix[:, ['columna1','columna2']]))\n",
      "print('datos3j2 \\n{}'.format(datos3j2))"
     ],
     "language": "python",
     "metadata": {},
     "outputs": [
      {
       "output_type": "stream",
       "stream": "stdout",
       "text": [
        "datos3j1 \n",
        "    columna1  columna2\n",
        "0  -0.209303       NaN\n",
        "1  -0.430892  1.052453\n",
        "2   0.766200 -0.346896\n",
        "3   1.773694 -0.249700\n",
        "4  -2.259187 -0.588739\n",
        "5  -0.930647  0.160590\n",
        "6   0.029990  0.421446\n",
        "7   0.812770 -0.315913\n",
        "8   0.681786  0.256745\n",
        "9  -0.115109  0.524278\n",
        "10       NaN -1.707269\n",
        "11       NaN -1.140342\n",
        "12       NaN -1.751337\n",
        "13       NaN -0.481319\n",
        "14       NaN  1.604800\n",
        "\n",
        "[15 rows x 2 columns]\n",
        "\n",
        "datos3j2 recolocados\n",
        "    columna1  columna2\n",
        "0  -0.209303       NaN\n",
        "1  -0.430892  1.052453\n",
        "2   0.766200 -0.346896\n",
        "3   1.773694 -0.249700\n",
        "4  -2.259187 -0.588739\n",
        "5  -0.930647  0.160590\n",
        "6   0.029990  0.421446\n",
        "7   0.812770 -0.315913\n",
        "8   0.681786  0.256745\n",
        "9  -0.115109  0.524278\n",
        "10       NaN -1.707269\n",
        "11       NaN -1.140342\n",
        "12       NaN -1.751337\n",
        "13       NaN -0.481319\n",
        "14       NaN  1.604800\n",
        "\n",
        "[15 rows x 2 columns]\n",
        "\n",
        "datos3j2 \n",
        "    columna2  columna1\n",
        "0        NaN -0.209303\n",
        "1   1.052453 -0.430892\n",
        "2  -0.346896  0.766200\n",
        "3  -0.249700  1.773694\n",
        "4  -0.588739 -2.259187\n",
        "5   0.160590 -0.930647\n",
        "6   0.421446  0.029990\n",
        "7  -0.315913  0.812770\n",
        "8   0.256745  0.681786\n",
        "9   0.524278 -0.115109\n",
        "10 -1.707269       NaN\n",
        "11 -1.140342       NaN\n",
        "12 -1.751337       NaN\n",
        "13 -0.481319       NaN\n",
        "14  1.604800       NaN\n",
        "\n",
        "[15 rows x 2 columns]\n"
       ]
      }
     ],
     "prompt_number": 45
    },
    {
     "cell_type": "code",
     "collapsed": false,
     "input": [
      "datos4j1 = datos1.join(datos2, how = 'inner')\n",
      "datos4j2 = datos2.join(datos1, how = 'inner')\n",
      "print('datos4j1 \\n{}\\n'.format(datos4j1))\n",
      "print('datos4j2 recolocados\\n{}\\n'.format(datos4j2.ix[:, ['columna1','columna2']]))\n",
      "print('datos4j2 \\n{}'.format(datos4j2))"
     ],
     "language": "python",
     "metadata": {},
     "outputs": [
      {
       "output_type": "stream",
       "stream": "stdout",
       "text": [
        "datos4j1 \n",
        "   columna1  columna2\n",
        "1 -0.430892  1.052453\n",
        "2  0.766200 -0.346896\n",
        "3  1.773694 -0.249700\n",
        "4 -2.259187 -0.588739\n",
        "5 -0.930647  0.160590\n",
        "6  0.029990  0.421446\n",
        "7  0.812770 -0.315913\n",
        "8  0.681786  0.256745\n",
        "9 -0.115109  0.524278\n",
        "\n",
        "[9 rows x 2 columns]\n",
        "\n",
        "datos4j2 recolocados\n",
        "   columna1  columna2\n",
        "1 -0.430892  1.052453\n",
        "2  0.766200 -0.346896\n",
        "3  1.773694 -0.249700\n",
        "4 -2.259187 -0.588739\n",
        "5 -0.930647  0.160590\n",
        "6  0.029990  0.421446\n",
        "7  0.812770 -0.315913\n",
        "8  0.681786  0.256745\n",
        "9 -0.115109  0.524278\n",
        "\n",
        "[9 rows x 2 columns]\n",
        "\n",
        "datos4j2 \n",
        "   columna2  columna1\n",
        "1  1.052453 -0.430892\n",
        "2 -0.346896  0.766200\n",
        "3 -0.249700  1.773694\n",
        "4 -0.588739 -2.259187\n",
        "5  0.160590 -0.930647\n",
        "6  0.421446  0.029990\n",
        "7 -0.315913  0.812770\n",
        "8  0.256745  0.681786\n",
        "9  0.524278 -0.115109\n",
        "\n",
        "[9 rows x 2 columns]\n"
       ]
      }
     ],
     "prompt_number": 46
    },
    {
     "cell_type": "markdown",
     "metadata": {},
     "source": [
      "Todo lo anterior se puede hacer tambi\u00e9n usando la funci\u00f3n o m\u00e9todo `merge` pero encuentro que es una forma un poco m\u00e1s rebuscada por lo que no la vamos a mostrar aqu\u00ed ya que a\u00f1ade complejidad. Veremos usos de `merge` m\u00e1s adelante."
     ]
    },
    {
     "cell_type": "markdown",
     "metadata": {},
     "source": [
      "Ahora vamos a mostrar una uni\u00f3n *muchos-a-uno*. Estas uniones se hacen sobre una o m\u00e1s columnas como referencia, no a partir de \u00edndices, por lo que los valores contenidos pueden no ser \u00fanicos. Como siempre, vamos a ver un poco de c\u00f3digo para ver si clarifica un poco m\u00e1s la teor\u00eda:"
     ]
    },
    {
     "cell_type": "code",
     "collapsed": false,
     "input": [
      "datos1 = pd.DataFrame(np.random.randn(10), columns = ['columna1'])\n",
      "datos1['otra_columna'] = ['hola', 'mundo'] * 5\n",
      "datos2 = pd.DataFrame(np.random.randn(2,2), columns = ['col1', 'col2'], index = ['hola', 'mundo'])\n",
      "print('datos1 \\n {} \\n'.format(datos1))\n",
      "print('datos2 \\n {} \\n'.format(datos2))\n",
      "print(u'Uni\u00f3n de datos \\n {} \\n'.format(datos1.join(datos2, on = 'otra_columna')))"
     ],
     "language": "python",
     "metadata": {},
     "outputs": [
      {
       "output_type": "stream",
       "stream": "stdout",
       "text": [
        "datos1 \n",
        "    columna1 otra_columna\n",
        "0 -2.086230         hola\n",
        "1 -1.015736        mundo\n",
        "2 -0.919460         hola\n",
        "3  0.923531        mundo\n",
        "4 -0.445977         hola\n",
        "5  0.719787        mundo\n",
        "6  1.064480         hola\n",
        "7 -0.235803        mundo\n",
        "8  1.395844         hola\n",
        "9  1.492875        mundo\n",
        "\n",
        "[10 rows x 2 columns] \n",
        "\n",
        "datos2 \n",
        "            col1      col2\n",
        "hola   0.400267 -0.678126\n",
        "mundo  0.855735  0.619193\n",
        "\n",
        "[2 rows x 2 columns] \n",
        "\n",
        "Uni\u00f3n de datos \n",
        "    columna1 otra_columna      col1      col2\n",
        "0 -2.086230         hola  0.400267 -0.678126\n",
        "1 -1.015736        mundo  0.855735  0.619193\n",
        "2 -0.919460         hola  0.400267 -0.678126\n",
        "3  0.923531        mundo  0.855735  0.619193\n",
        "4 -0.445977         hola  0.400267 -0.678126\n",
        "5  0.719787        mundo  0.855735  0.619193\n",
        "6  1.064480         hola  0.400267 -0.678126\n",
        "7 -0.235803        mundo  0.855735  0.619193\n",
        "8  1.395844         hola  0.400267 -0.678126\n",
        "9  1.492875        mundo  0.855735  0.619193\n",
        "\n",
        "[10 rows x 4 columns] \n",
        "\n"
       ]
      }
     ],
     "prompt_number": 47
    },
    {
     "cell_type": "markdown",
     "metadata": {},
     "source": [
      "Estamos uniendo sobre los valores de la columna del DataFrame `datos1` que presenta valores presentes en los \u00edndices del DataFrame `datos2`. En el anterior ejemplo hemos unido teniendo en cuenta una \u00fanica columna, si queremos unir teniendo en cuenta varias columnas, el DataFrame que se le pase deber\u00e1 presentar un Multi\u00cdndice con tantos \u00edndices como columnas usemos ([ver documentaci\u00f3n sobre Multi\u00cdndices](http://pandas.pydata.org/pandas-docs/stable/indexing.html#hierarchical-indexing-multiindex) y [sobre uni\u00f3n con ellos](http://pandas.pydata.org/pandas-docs/stable/merging.html#joining-key-columns-on-an-index))."
     ]
    },
    {
     "cell_type": "markdown",
     "metadata": {},
     "source": [
      "Para hacer uniones de *muchos-a-muchos* usaremos `merge` que ofrece mayor libertad para poder hacer uniones de cualquier tipo (tambi\u00e9n las que hemos visto hasta ahora de *uno-a-uno* y de *muchos-a-uno*)."
     ]
    },
    {
     "cell_type": "markdown",
     "metadata": {},
     "source": [
      "En el siguiente ejemplo vamos a hacer una uni\u00f3n de dos DataFrames usando `merge` y luego iremos explicando lo que hemos estado haciendo poco a poco para ver si se entiende un poco mejor."
     ]
    },
    {
     "cell_type": "code",
     "collapsed": false,
     "input": [
      "datos_dcha = pd.DataFrame({'clave': ['foo'] * 3, 'valor_dcha': np.arange(3)})\n",
      "datos_izda = pd.DataFrame({'clave': ['foo'] * 3, 'valor_izda': np.arange(5, 8)})\n",
      "datos_unidos = pd.merge(datos_izda, datos_dcha, on = 'clave')\n",
      "print('datos_dcha \\n {} \\n'.format(datos_dcha))\n",
      "print('datos_izda \\n {} \\n'.format(datos_izda))\n",
      "print('datos_unidos \\n {}'.format(datos_unidos))"
     ],
     "language": "python",
     "metadata": {},
     "outputs": [
      {
       "output_type": "stream",
       "stream": "stdout",
       "text": [
        "datos_dcha \n",
        "   clave  valor_dcha\n",
        "0   foo           0\n",
        "1   foo           1\n",
        "2   foo           2\n",
        "\n",
        "[3 rows x 2 columns] \n",
        "\n",
        "datos_izda \n",
        "   clave  valor_izda\n",
        "0   foo           5\n",
        "1   foo           6\n",
        "2   foo           7\n",
        "\n",
        "[3 rows x 2 columns] \n",
        "\n",
        "datos_unidos \n",
        "   clave  valor_izda  valor_dcha\n",
        "0   foo           5           0\n",
        "1   foo           5           1\n",
        "2   foo           5           2\n",
        "3   foo           6           0\n",
        "4   foo           6           1\n",
        "5   foo           6           2\n",
        "6   foo           7           0\n",
        "7   foo           7           1\n",
        "8   foo           7           2\n",
        "\n",
        "[9 rows x 3 columns]\n"
       ]
      }
     ],
     "prompt_number": 48
    },
    {
     "cell_type": "markdown",
     "metadata": {},
     "source": [
      "Vemos que si hacemos una uni\u00f3n de la anterior forma, a cada valor de `datos_dcha` le 'asocia' cada uno de los valores de `datos_izda` que tengan la misma clave. En la siquiente celda de c\u00f3digo vemos otro ejemplo de lo anterior un poco m\u00e1s completo teniendo en cuenta dos columnas de claves y usando el m\u00e9todo `outer` de 'uni\u00f3n':"
     ]
    },
    {
     "cell_type": "code",
     "collapsed": false,
     "input": [
      "datos_dcha = pd.DataFrame({'clave1': ['foo', 'foo', 'bar', 'bar'],\n",
      "                           'clave2': ['one', 'one', 'one', 'two'],\n",
      "                           'val_dcha': [4, 5, 6, 7]})\n",
      "datos_izda = pd.DataFrame({'clave1': ['foo', 'foo', 'bar'],\n",
      "                           'clave2': ['one', 'two', 'one'],\n",
      "                           'val_izda': [1, 2, 3]})\n",
      "datos_unidos = pd.merge(datos_izda, datos_dcha, how='outer')\n",
      "print('datos_dcha \\n {} \\n'.format(datos_dcha))\n",
      "print('datos_izda \\n {} \\n'.format(datos_izda))\n",
      "print('datos_unidos \\n {}'.format(datos_unidos))"
     ],
     "language": "python",
     "metadata": {},
     "outputs": [
      {
       "output_type": "stream",
       "stream": "stdout",
       "text": [
        "datos_dcha \n",
        "   clave1 clave2  val_dcha\n",
        "0    foo    one         4\n",
        "1    foo    one         5\n",
        "2    bar    one         6\n",
        "3    bar    two         7\n",
        "\n",
        "[4 rows x 3 columns] \n",
        "\n",
        "datos_izda \n",
        "   clave1 clave2  val_izda\n",
        "0    foo    one         1\n",
        "1    foo    two         2\n",
        "2    bar    one         3\n",
        "\n",
        "[3 rows x 3 columns] \n",
        "\n",
        "datos_unidos \n",
        "   clave1 clave2  val_izda  val_dcha\n",
        "0    foo    one         1         4\n",
        "1    foo    one         1         5\n",
        "2    foo    two         2       NaN\n",
        "3    bar    one         3         6\n",
        "4    bar    two       NaN         7\n",
        "\n",
        "[5 rows x 4 columns]\n"
       ]
      }
     ],
     "prompt_number": 49
    },
    {
     "cell_type": "heading",
     "level": 1,
     "metadata": {},
     "source": [
      "Y mucho m\u00e1s"
     ]
    },
    {
     "cell_type": "markdown",
     "metadata": {},
     "source": [
      "Esto solo ha sido un peque\u00f1o vistazo con cosas que considero importantes pero que no tienen que ser las m\u00e1s importantes. Pod\u00e9is echarle un ojo a:\n",
      "\n",
      "* `sort, max, min, head, tail, unique, groupby, apply, transform, stack, unstack, mean, std, isnull, value_counts, notnull, rank, dropna, fillna, describe, cov, corr, duplicated, drop, pivot, pivot_table, drop_duplicates, quantile`,...\n",
      "\n",
      "para seguir viendo cosas \u00fatiles."
     ]
    },
    {
     "cell_type": "markdown",
     "metadata": {},
     "source": [
      "___________________________________________"
     ]
    },
    {
     "cell_type": "heading",
     "level": 1,
     "metadata": {},
     "source": [
      "Analizando datos (si queda tiempo e inter\u00e9s...)"
     ]
    },
    {
     "cell_type": "markdown",
     "metadata": {},
     "source": [
      "Adem\u00e1s de permitirnos indexar, mover, eliminar,..., datos de formas muy diferentes tambi\u00e9n podemos usar Pandas para hacer an\u00e1lisis de datos. En este sentido es como un `numpy` supervitaminado y supermineralizado (si quer\u00e9is hacer an\u00e1lisis est\u00e1distico m\u00e1s complejo le pod\u00e9is echar un vistazo a [statsmodels](http://statsmodels.sourceforge.net/), [scikit-learn](http://scikit-learn.org/stable/),...\n",
      "\n",
      "Vamos a usar unos datos que me he descargado de [la p\u00e1gina del INE](http://www.ine.es/daco/daco42/nombyapel/nombyapel.htm). Los he dejado en formato excel para que veamos como tambi\u00e9n podemos leer datos excel."
     ]
    },
    {
     "cell_type": "code",
     "collapsed": false,
     "input": [
      "nenas = pd.read_excel('nombres_recien_nacidos.xlsx', 'Ni\u00f1as', header = 0, skiprows = 1)\n",
      "nenes = pd.read_excel('nombres_recien_nacidos.xlsx', 'Ni\u00f1os', header = 0, skiprows = 1)"
     ],
     "language": "python",
     "metadata": {},
     "outputs": [],
     "prompt_number": 54
    },
    {
     "cell_type": "code",
     "collapsed": false,
     "input": [
      "nenas.head(5)"
     ],
     "language": "python",
     "metadata": {},
     "outputs": [
      {
       "html": [
        "<div style=\"max-height:1000px;max-width:1500px;overflow:auto;\">\n",
        "<table border=\"1\" class=\"dataframe\">\n",
        "  <thead>\n",
        "    <tr style=\"text-align: right;\">\n",
        "      <th></th>\n",
        "      <th>nombre</th>\n",
        "      <th>numero</th>\n",
        "      <th>nombre.1</th>\n",
        "      <th>numero.1</th>\n",
        "      <th>nombre.2</th>\n",
        "      <th>numero.2</th>\n",
        "      <th>nombre.3</th>\n",
        "      <th>numero.3</th>\n",
        "      <th>nombre.4</th>\n",
        "      <th>numero.4</th>\n",
        "      <th>...</th>\n",
        "      <th>nombre.6</th>\n",
        "      <th>numero.6</th>\n",
        "      <th>nombre.7</th>\n",
        "      <th>numero.7</th>\n",
        "      <th>nombre.8</th>\n",
        "      <th>numero.8</th>\n",
        "      <th>nombre.9</th>\n",
        "      <th>numero.9</th>\n",
        "      <th>nombre.10</th>\n",
        "      <th>numero.10</th>\n",
        "    </tr>\n",
        "  </thead>\n",
        "  <tbody>\n",
        "    <tr>\n",
        "      <th>0</th>\n",
        "      <td>   LUCIA</td>\n",
        "      <td> 6363</td>\n",
        "      <td>   LUCIA</td>\n",
        "      <td> 6143</td>\n",
        "      <td>   LUCIA</td>\n",
        "      <td> 6624</td>\n",
        "      <td>   LUCIA</td>\n",
        "      <td> 6847</td>\n",
        "      <td> LUCIA</td>\n",
        "      <td> 8013</td>\n",
        "      <td>...</td>\n",
        "      <td>   LUCIA</td>\n",
        "      <td> 9454</td>\n",
        "      <td> LUCIA</td>\n",
        "      <td> 10146</td>\n",
        "      <td> LUCIA</td>\n",
        "      <td> 10370</td>\n",
        "      <td> LUCIA</td>\n",
        "      <td> 9035</td>\n",
        "      <td> MARIA</td>\n",
        "      <td> 8838</td>\n",
        "    </tr>\n",
        "    <tr>\n",
        "      <th>1</th>\n",
        "      <td>   MARIA</td>\n",
        "      <td> 5823</td>\n",
        "      <td>   PAULA</td>\n",
        "      <td> 5462</td>\n",
        "      <td>   PAULA</td>\n",
        "      <td> 5859</td>\n",
        "      <td>   PAULA</td>\n",
        "      <td> 6549</td>\n",
        "      <td> MARIA</td>\n",
        "      <td> 6883</td>\n",
        "      <td>...</td>\n",
        "      <td>   MARIA</td>\n",
        "      <td> 7702</td>\n",
        "      <td> MARIA</td>\n",
        "      <td>  7784</td>\n",
        "      <td> MARIA</td>\n",
        "      <td>  7865</td>\n",
        "      <td> MARIA</td>\n",
        "      <td> 8709</td>\n",
        "      <td> LUCIA</td>\n",
        "      <td> 7712</td>\n",
        "    </tr>\n",
        "    <tr>\n",
        "      <th>2</th>\n",
        "      <td>   PAULA</td>\n",
        "      <td> 5375</td>\n",
        "      <td>   MARIA</td>\n",
        "      <td> 5339</td>\n",
        "      <td>   MARIA</td>\n",
        "      <td> 5767</td>\n",
        "      <td>   MARIA</td>\n",
        "      <td> 6113</td>\n",
        "      <td> PAULA</td>\n",
        "      <td> 6806</td>\n",
        "      <td>...</td>\n",
        "      <td>   PAULA</td>\n",
        "      <td> 6516</td>\n",
        "      <td> PAULA</td>\n",
        "      <td>  6684</td>\n",
        "      <td> PAULA</td>\n",
        "      <td>  7147</td>\n",
        "      <td> PAULA</td>\n",
        "      <td> 7003</td>\n",
        "      <td> PAULA</td>\n",
        "      <td> 5956</td>\n",
        "    </tr>\n",
        "    <tr>\n",
        "      <th>3</th>\n",
        "      <td> DANIELA</td>\n",
        "      <td> 4748</td>\n",
        "      <td>    SARA</td>\n",
        "      <td> 4345</td>\n",
        "      <td> DANIELA</td>\n",
        "      <td> 4680</td>\n",
        "      <td>    SARA</td>\n",
        "      <td> 4417</td>\n",
        "      <td>  SARA</td>\n",
        "      <td> 4730</td>\n",
        "      <td>...</td>\n",
        "      <td>   LAURA</td>\n",
        "      <td> 5144</td>\n",
        "      <td> LAURA</td>\n",
        "      <td>  5276</td>\n",
        "      <td> LAURA</td>\n",
        "      <td>  5638</td>\n",
        "      <td> LAURA</td>\n",
        "      <td> 5451</td>\n",
        "      <td> LAURA</td>\n",
        "      <td> 5544</td>\n",
        "    </tr>\n",
        "    <tr>\n",
        "      <th>4</th>\n",
        "      <td>    SARA</td>\n",
        "      <td> 4456</td>\n",
        "      <td> DANIELA</td>\n",
        "      <td> 4270</td>\n",
        "      <td>    SARA</td>\n",
        "      <td> 4662</td>\n",
        "      <td> DANIELA</td>\n",
        "      <td> 4279</td>\n",
        "      <td> CARLA</td>\n",
        "      <td> 4271</td>\n",
        "      <td>...</td>\n",
        "      <td> CLAUDIA</td>\n",
        "      <td> 4756</td>\n",
        "      <td> MARTA</td>\n",
        "      <td>  4592</td>\n",
        "      <td> MARTA</td>\n",
        "      <td>  4583</td>\n",
        "      <td> MARTA</td>\n",
        "      <td> 4608</td>\n",
        "      <td> MARTA</td>\n",
        "      <td> 4644</td>\n",
        "    </tr>\n",
        "  </tbody>\n",
        "</table>\n",
        "<p>5 rows \u00d7 22 columns</p>\n",
        "</div>"
       ],
       "metadata": {},
       "output_type": "pyout",
       "prompt_number": 55,
       "text": [
        "    nombre  numero nombre.1  numero.1 nombre.2  numero.2 nombre.3  numero.3  \\\n",
        "0    LUCIA    6363    LUCIA      6143    LUCIA      6624    LUCIA      6847   \n",
        "1    MARIA    5823    PAULA      5462    PAULA      5859    PAULA      6549   \n",
        "2    PAULA    5375    MARIA      5339    MARIA      5767    MARIA      6113   \n",
        "3  DANIELA    4748     SARA      4345  DANIELA      4680     SARA      4417   \n",
        "4     SARA    4456  DANIELA      4270     SARA      4662  DANIELA      4279   \n",
        "\n",
        "  nombre.4  numero.4    ...    nombre.6  numero.6 nombre.7  numero.7 nombre.8  \\\n",
        "0    LUCIA      8013    ...       LUCIA      9454    LUCIA     10146    LUCIA   \n",
        "1    MARIA      6883    ...       MARIA      7702    MARIA      7784    MARIA   \n",
        "2    PAULA      6806    ...       PAULA      6516    PAULA      6684    PAULA   \n",
        "3     SARA      4730    ...       LAURA      5144    LAURA      5276    LAURA   \n",
        "4    CARLA      4271    ...     CLAUDIA      4756    MARTA      4592    MARTA   \n",
        "\n",
        "   numero.8 nombre.9  numero.9 nombre.10  numero.10  \n",
        "0     10370    LUCIA      9035     MARIA       8838  \n",
        "1      7865    MARIA      8709     LUCIA       7712  \n",
        "2      7147    PAULA      7003     PAULA       5956  \n",
        "3      5638    LAURA      5451     LAURA       5544  \n",
        "4      4583    MARTA      4608     MARTA       4644  \n",
        "\n",
        "[5 rows x 22 columns]"
       ]
      }
     ],
     "prompt_number": 55
    },
    {
     "cell_type": "code",
     "collapsed": false,
     "input": [
      "cols_1 = []\n",
      "for i in range(2012,2001,-1):\n",
      "    cols_1.append((str(i),'nombre'))\n",
      "    cols_1.append((str(i), 'numero'))\n",
      "cols = pd.MultiIndex.from_tuples(cols_1, names=['a\u00f1o','campo'])"
     ],
     "language": "python",
     "metadata": {},
     "outputs": [],
     "prompt_number": 56
    },
    {
     "cell_type": "code",
     "collapsed": false,
     "input": [
      "nenes.columns = cols\n",
      "nenas.columns = cols\n",
      "nenes.index = range(1,101)\n",
      "nenas.index = range(1,101)"
     ],
     "language": "python",
     "metadata": {},
     "outputs": [],
     "prompt_number": 57
    },
    {
     "cell_type": "code",
     "collapsed": false,
     "input": [
      "nenes.tail(5)"
     ],
     "language": "python",
     "metadata": {},
     "outputs": [
      {
       "html": [
        "<div style=\"max-height:1000px;max-width:1500px;overflow:auto;\">\n",
        "<table border=\"1\" class=\"dataframe\">\n",
        "  <thead>\n",
        "    <tr>\n",
        "      <th>a\u00f1o</th>\n",
        "      <th colspan=\"2\" halign=\"left\">2012</th>\n",
        "      <th colspan=\"2\" halign=\"left\">2011</th>\n",
        "      <th colspan=\"2\" halign=\"left\">2010</th>\n",
        "      <th colspan=\"2\" halign=\"left\">2009</th>\n",
        "      <th colspan=\"2\" halign=\"left\">2008</th>\n",
        "      <th>...</th>\n",
        "      <th colspan=\"2\" halign=\"left\">2006</th>\n",
        "      <th colspan=\"2\" halign=\"left\">2005</th>\n",
        "      <th colspan=\"2\" halign=\"left\">2004</th>\n",
        "      <th colspan=\"2\" halign=\"left\">2003</th>\n",
        "      <th colspan=\"2\" halign=\"left\">2002</th>\n",
        "    </tr>\n",
        "    <tr>\n",
        "      <th>campo</th>\n",
        "      <th>nombre</th>\n",
        "      <th>numero</th>\n",
        "      <th>nombre</th>\n",
        "      <th>numero</th>\n",
        "      <th>nombre</th>\n",
        "      <th>numero</th>\n",
        "      <th>nombre</th>\n",
        "      <th>numero</th>\n",
        "      <th>nombre</th>\n",
        "      <th>numero</th>\n",
        "      <th>...</th>\n",
        "      <th>nombre</th>\n",
        "      <th>numero</th>\n",
        "      <th>nombre</th>\n",
        "      <th>numero</th>\n",
        "      <th>nombre</th>\n",
        "      <th>numero</th>\n",
        "      <th>nombre</th>\n",
        "      <th>numero</th>\n",
        "      <th>nombre</th>\n",
        "      <th>numero</th>\n",
        "    </tr>\n",
        "  </thead>\n",
        "  <tbody>\n",
        "    <tr>\n",
        "      <th>96 </th>\n",
        "      <td>   YERAY</td>\n",
        "      <td> 517</td>\n",
        "      <td>     GAEL</td>\n",
        "      <td> 439</td>\n",
        "      <td> JUANJOSE</td>\n",
        "      <td> 442</td>\n",
        "      <td>     YERAY</td>\n",
        "      <td> 458</td>\n",
        "      <td> JUANANTONIO</td>\n",
        "      <td> 467</td>\n",
        "      <td>...</td>\n",
        "      <td>         BRUNO</td>\n",
        "      <td> 478</td>\n",
        "      <td>          ADAM</td>\n",
        "      <td> 427</td>\n",
        "      <td>   MIKEL</td>\n",
        "      <td> 431</td>\n",
        "      <td>    IZAN</td>\n",
        "      <td> 397</td>\n",
        "      <td> JOSEMIGUEL</td>\n",
        "      <td> 389</td>\n",
        "    </tr>\n",
        "    <tr>\n",
        "      <th>97 </th>\n",
        "      <td>    GAEL</td>\n",
        "      <td> 501</td>\n",
        "      <td>    YERAY</td>\n",
        "      <td> 439</td>\n",
        "      <td>      JON</td>\n",
        "      <td> 436</td>\n",
        "      <td> JOSEMARIA</td>\n",
        "      <td> 447</td>\n",
        "      <td>       AIMAR</td>\n",
        "      <td> 464</td>\n",
        "      <td>...</td>\n",
        "      <td>          SAUL</td>\n",
        "      <td> 477</td>\n",
        "      <td>           JON</td>\n",
        "      <td> 419</td>\n",
        "      <td>   MATEO</td>\n",
        "      <td> 428</td>\n",
        "      <td> GUILLEM</td>\n",
        "      <td> 385</td>\n",
        "      <td>      ANDER</td>\n",
        "      <td> 382</td>\n",
        "    </tr>\n",
        "    <tr>\n",
        "      <th>98 </th>\n",
        "      <td>     JON</td>\n",
        "      <td> 493</td>\n",
        "      <td>      JON</td>\n",
        "      <td> 431</td>\n",
        "      <td>      NIL</td>\n",
        "      <td> 425</td>\n",
        "      <td>     SERGI</td>\n",
        "      <td> 447</td>\n",
        "      <td>       ROGER</td>\n",
        "      <td> 457</td>\n",
        "      <td>...</td>\n",
        "      <td>    JUANCARLOS</td>\n",
        "      <td> 472</td>\n",
        "      <td>         MIKEL</td>\n",
        "      <td> 415</td>\n",
        "      <td>   DARIO</td>\n",
        "      <td> 426</td>\n",
        "      <td>    ABEL</td>\n",
        "      <td> 380</td>\n",
        "      <td>      MARCO</td>\n",
        "      <td> 374</td>\n",
        "    </tr>\n",
        "    <tr>\n",
        "      <th>99 </th>\n",
        "      <td>   MIKEL</td>\n",
        "      <td> 485</td>\n",
        "      <td>    ANDER</td>\n",
        "      <td> 419</td>\n",
        "      <td>   ARTURO</td>\n",
        "      <td> 419</td>\n",
        "      <td>     MIKEL</td>\n",
        "      <td> 444</td>\n",
        "      <td>     JOAQUIN</td>\n",
        "      <td> 446</td>\n",
        "      <td>...</td>\n",
        "      <td>         ROGER</td>\n",
        "      <td> 469</td>\n",
        "      <td> FRANCISCOJOSE</td>\n",
        "      <td> 413</td>\n",
        "      <td> ALFONSO</td>\n",
        "      <td> 418</td>\n",
        "      <td>   MARTI</td>\n",
        "      <td> 376</td>\n",
        "      <td>   SALVADOR</td>\n",
        "      <td> 354</td>\n",
        "    </tr>\n",
        "    <tr>\n",
        "      <th>100</th>\n",
        "      <td> GUILLEM</td>\n",
        "      <td> 479</td>\n",
        "      <td> JUANJOSE</td>\n",
        "      <td> 418</td>\n",
        "      <td>  JOAQUIN</td>\n",
        "      <td> 419</td>\n",
        "      <td>     KEVIN</td>\n",
        "      <td> 440</td>\n",
        "      <td>   JOSEMARIA</td>\n",
        "      <td> 446</td>\n",
        "      <td>...</td>\n",
        "      <td> FRANCISCOJOSE</td>\n",
        "      <td> 455</td>\n",
        "      <td>         AIMAR</td>\n",
        "      <td> 402</td>\n",
        "      <td>   ANDER</td>\n",
        "      <td> 416</td>\n",
        "      <td>   MATEO</td>\n",
        "      <td> 373</td>\n",
        "      <td>      MARTI</td>\n",
        "      <td> 344</td>\n",
        "    </tr>\n",
        "  </tbody>\n",
        "</table>\n",
        "<p>5 rows \u00d7 22 columns</p>\n",
        "</div>"
       ],
       "metadata": {},
       "output_type": "pyout",
       "prompt_number": 58,
       "text": [
        "a\u00f1o       2012    2012      2011    2011      2010    2010       2009    2009  \\\n",
        "campo   nombre  numero    nombre  numero    nombre  numero     nombre  numero   \n",
        "96       YERAY     517      GAEL     439  JUANJOSE     442      YERAY     458   \n",
        "97        GAEL     501     YERAY     439       JON     436  JOSEMARIA     447   \n",
        "98         JON     493       JON     431       NIL     425      SERGI     447   \n",
        "99       MIKEL     485     ANDER     419    ARTURO     419      MIKEL     444   \n",
        "100    GUILLEM     479  JUANJOSE     418   JOAQUIN     419      KEVIN     440   \n",
        "\n",
        "a\u00f1o           2008    2008   ...             2006    2006           2005  \\\n",
        "campo       nombre  numero   ...           nombre  numero         nombre   \n",
        "96     JUANANTONIO     467   ...            BRUNO     478           ADAM   \n",
        "97           AIMAR     464   ...             SAUL     477            JON   \n",
        "98           ROGER     457   ...       JUANCARLOS     472          MIKEL   \n",
        "99         JOAQUIN     446   ...            ROGER     469  FRANCISCOJOSE   \n",
        "100      JOSEMARIA     446   ...    FRANCISCOJOSE     455          AIMAR   \n",
        "\n",
        "a\u00f1o      2005     2004    2004     2003    2003        2002    2002  \n",
        "campo  numero   nombre  numero   nombre  numero      nombre  numero  \n",
        "96        427    MIKEL     431     IZAN     397  JOSEMIGUEL     389  \n",
        "97        419    MATEO     428  GUILLEM     385       ANDER     382  \n",
        "98        415    DARIO     426     ABEL     380       MARCO     374  \n",
        "99        413  ALFONSO     418    MARTI     376    SALVADOR     354  \n",
        "100       402    ANDER     416    MATEO     373       MARTI     344  \n",
        "\n",
        "[5 rows x 22 columns]"
       ]
      }
     ],
     "prompt_number": 58
    },
    {
     "cell_type": "code",
     "collapsed": false,
     "input": [
      "nenas.T.xs('nombre', level = 'campo')"
     ],
     "language": "python",
     "metadata": {},
     "outputs": [
      {
       "html": [
        "<div style=\"max-height:1000px;max-width:1500px;overflow:auto;\">\n",
        "<table border=\"1\" class=\"dataframe\">\n",
        "  <thead>\n",
        "    <tr style=\"text-align: right;\">\n",
        "      <th></th>\n",
        "      <th>1</th>\n",
        "      <th>2</th>\n",
        "      <th>3</th>\n",
        "      <th>4</th>\n",
        "      <th>5</th>\n",
        "      <th>6</th>\n",
        "      <th>7</th>\n",
        "      <th>8</th>\n",
        "      <th>9</th>\n",
        "      <th>10</th>\n",
        "      <th>...</th>\n",
        "      <th>91</th>\n",
        "      <th>92</th>\n",
        "      <th>93</th>\n",
        "      <th>94</th>\n",
        "      <th>95</th>\n",
        "      <th>96</th>\n",
        "      <th>97</th>\n",
        "      <th>98</th>\n",
        "      <th>99</th>\n",
        "      <th>100</th>\n",
        "    </tr>\n",
        "    <tr>\n",
        "      <th>a\u00f1o</th>\n",
        "      <th></th>\n",
        "      <th></th>\n",
        "      <th></th>\n",
        "      <th></th>\n",
        "      <th></th>\n",
        "      <th></th>\n",
        "      <th></th>\n",
        "      <th></th>\n",
        "      <th></th>\n",
        "      <th></th>\n",
        "      <th></th>\n",
        "      <th></th>\n",
        "      <th></th>\n",
        "      <th></th>\n",
        "      <th></th>\n",
        "      <th></th>\n",
        "      <th></th>\n",
        "      <th></th>\n",
        "      <th></th>\n",
        "      <th></th>\n",
        "      <th></th>\n",
        "    </tr>\n",
        "  </thead>\n",
        "  <tbody>\n",
        "    <tr>\n",
        "      <th>2012</th>\n",
        "      <td> LUCIA</td>\n",
        "      <td> MARIA</td>\n",
        "      <td> PAULA</td>\n",
        "      <td> DANIELA</td>\n",
        "      <td>    SARA</td>\n",
        "      <td>   CARLA</td>\n",
        "      <td> MARTINA</td>\n",
        "      <td>   SOFIA</td>\n",
        "      <td>   JULIA</td>\n",
        "      <td>    ALBA</td>\n",
        "      <td>...</td>\n",
        "      <td>      IRIS</td>\n",
        "      <td>           JANA</td>\n",
        "      <td>      ANE</td>\n",
        "      <td>  LIDIA</td>\n",
        "      <td>   CHLOE</td>\n",
        "      <td>   ARLET</td>\n",
        "      <td>            ONA</td>\n",
        "      <td>     IRATI</td>\n",
        "      <td>   JUDITH</td>\n",
        "      <td>       LUNA</td>\n",
        "    </tr>\n",
        "    <tr>\n",
        "      <th>2011</th>\n",
        "      <td> LUCIA</td>\n",
        "      <td> PAULA</td>\n",
        "      <td> MARIA</td>\n",
        "      <td>    SARA</td>\n",
        "      <td> DANIELA</td>\n",
        "      <td>   CARLA</td>\n",
        "      <td>   SOFIA</td>\n",
        "      <td>    ALBA</td>\n",
        "      <td> CLAUDIA</td>\n",
        "      <td> MARTINA</td>\n",
        "      <td>...</td>\n",
        "      <td>      MARA</td>\n",
        "      <td>            ANE</td>\n",
        "      <td>   TERESA</td>\n",
        "      <td> FATIMA</td>\n",
        "      <td>   YAIZA</td>\n",
        "      <td>     ZOE</td>\n",
        "      <td>        BEATRIZ</td>\n",
        "      <td>       ONA</td>\n",
        "      <td>    NADIA</td>\n",
        "      <td>       LUNA</td>\n",
        "    </tr>\n",
        "    <tr>\n",
        "      <th>2010</th>\n",
        "      <td> LUCIA</td>\n",
        "      <td> PAULA</td>\n",
        "      <td> MARIA</td>\n",
        "      <td> DANIELA</td>\n",
        "      <td>    SARA</td>\n",
        "      <td>   CARLA</td>\n",
        "      <td> CLAUDIA</td>\n",
        "      <td>   SOFIA</td>\n",
        "      <td>    ALBA</td>\n",
        "      <td>   IRENE</td>\n",
        "      <td>...</td>\n",
        "      <td>   MANUELA</td>\n",
        "      <td>      VALENTINA</td>\n",
        "      <td>     MARA</td>\n",
        "      <td> ALEXIA</td>\n",
        "      <td>  ESTHER</td>\n",
        "      <td>   NADIA</td>\n",
        "      <td>           IRIS</td>\n",
        "      <td> ALEXANDRA</td>\n",
        "      <td> ANAMARIA</td>\n",
        "      <td>     TERESA</td>\n",
        "    </tr>\n",
        "    <tr>\n",
        "      <th>2009</th>\n",
        "      <td> LUCIA</td>\n",
        "      <td> PAULA</td>\n",
        "      <td> MARIA</td>\n",
        "      <td>    SARA</td>\n",
        "      <td> DANIELA</td>\n",
        "      <td>   CARLA</td>\n",
        "      <td> CLAUDIA</td>\n",
        "      <td>   MARTA</td>\n",
        "      <td>   IRENE</td>\n",
        "      <td>   SOFIA</td>\n",
        "      <td>...</td>\n",
        "      <td>   MANUELA</td>\n",
        "      <td>          SARAY</td>\n",
        "      <td> ANAMARIA</td>\n",
        "      <td>   IRIS</td>\n",
        "      <td>    MARA</td>\n",
        "      <td>  MONICA</td>\n",
        "      <td>      VALENTINA</td>\n",
        "      <td>    ESTHER</td>\n",
        "      <td>    NAHIA</td>\n",
        "      <td>  ALEXANDRA</td>\n",
        "    </tr>\n",
        "    <tr>\n",
        "      <th>2008</th>\n",
        "      <td> LUCIA</td>\n",
        "      <td> MARIA</td>\n",
        "      <td> PAULA</td>\n",
        "      <td>    SARA</td>\n",
        "      <td>   CARLA</td>\n",
        "      <td> CLAUDIA</td>\n",
        "      <td>   LAURA</td>\n",
        "      <td>   MARTA</td>\n",
        "      <td>   IRENE</td>\n",
        "      <td>    ALBA</td>\n",
        "      <td>...</td>\n",
        "      <td>     NADIA</td>\n",
        "      <td>          SARAY</td>\n",
        "      <td>    SONIA</td>\n",
        "      <td> ALEXIA</td>\n",
        "      <td>   NAHIA</td>\n",
        "      <td> MANUELA</td>\n",
        "      <td>          NOEMI</td>\n",
        "      <td>      NAIA</td>\n",
        "      <td>   ESTELA</td>\n",
        "      <td>        ANE</td>\n",
        "    </tr>\n",
        "    <tr>\n",
        "      <th>2007</th>\n",
        "      <td> LUCIA</td>\n",
        "      <td> MARIA</td>\n",
        "      <td> PAULA</td>\n",
        "      <td>    SARA</td>\n",
        "      <td>   LAURA</td>\n",
        "      <td> CLAUDIA</td>\n",
        "      <td>   IRENE</td>\n",
        "      <td>   MARTA</td>\n",
        "      <td>    ALBA</td>\n",
        "      <td>   CARLA</td>\n",
        "      <td>...</td>\n",
        "      <td>      IRIA</td>\n",
        "      <td>         FATIMA</td>\n",
        "      <td>    NADIA</td>\n",
        "      <td>   UXUE</td>\n",
        "      <td>   NAHIA</td>\n",
        "      <td>  REBECA</td>\n",
        "      <td>      ALEXANDRA</td>\n",
        "      <td>   MANUELA</td>\n",
        "      <td>      ANE</td>\n",
        "      <td>     ESTELA</td>\n",
        "    </tr>\n",
        "    <tr>\n",
        "      <th>2006</th>\n",
        "      <td> LUCIA</td>\n",
        "      <td> MARIA</td>\n",
        "      <td> PAULA</td>\n",
        "      <td>   LAURA</td>\n",
        "      <td> CLAUDIA</td>\n",
        "      <td>   IRENE</td>\n",
        "      <td>   MARTA</td>\n",
        "      <td>    ALBA</td>\n",
        "      <td>    SARA</td>\n",
        "      <td>   CARLA</td>\n",
        "      <td>...</td>\n",
        "      <td>    TERESA</td>\n",
        "      <td>            AYA</td>\n",
        "      <td>    NADIA</td>\n",
        "      <td>  SONIA</td>\n",
        "      <td>    JANA</td>\n",
        "      <td>  REBECA</td>\n",
        "      <td> MARIADELCARMEN</td>\n",
        "      <td>    SORAYA</td>\n",
        "      <td>    ZAIRA</td>\n",
        "      <td>       GEMA</td>\n",
        "    </tr>\n",
        "    <tr>\n",
        "      <th>2005</th>\n",
        "      <td> LUCIA</td>\n",
        "      <td> MARIA</td>\n",
        "      <td> PAULA</td>\n",
        "      <td>   LAURA</td>\n",
        "      <td>   MARTA</td>\n",
        "      <td>    ALBA</td>\n",
        "      <td> CLAUDIA</td>\n",
        "      <td>   CARLA</td>\n",
        "      <td>  ANDREA</td>\n",
        "      <td>    SARA</td>\n",
        "      <td>...</td>\n",
        "      <td>     SARAY</td>\n",
        "      <td> MARIADELCARMEN</td>\n",
        "      <td>    SONIA</td>\n",
        "      <td> YANIRA</td>\n",
        "      <td>   NOEMI</td>\n",
        "      <td>   NADIA</td>\n",
        "      <td>       VERONICA</td>\n",
        "      <td>      IRIA</td>\n",
        "      <td>    IRATI</td>\n",
        "      <td>     AFRICA</td>\n",
        "    </tr>\n",
        "    <tr>\n",
        "      <th>2004</th>\n",
        "      <td> LUCIA</td>\n",
        "      <td> MARIA</td>\n",
        "      <td> PAULA</td>\n",
        "      <td>   LAURA</td>\n",
        "      <td>   MARTA</td>\n",
        "      <td>    ALBA</td>\n",
        "      <td>  ANDREA</td>\n",
        "      <td> CLAUDIA</td>\n",
        "      <td>    SARA</td>\n",
        "      <td>   NEREA</td>\n",
        "      <td>...</td>\n",
        "      <td>     ABRIL</td>\n",
        "      <td>          LEYRE</td>\n",
        "      <td>   ESTELA</td>\n",
        "      <td>  NOEMI</td>\n",
        "      <td>    IRIA</td>\n",
        "      <td>    GEMA</td>\n",
        "      <td>            ANE</td>\n",
        "      <td>     NADIA</td>\n",
        "      <td>    IRATI</td>\n",
        "      <td>       LUNA</td>\n",
        "    </tr>\n",
        "    <tr>\n",
        "      <th>2003</th>\n",
        "      <td> LUCIA</td>\n",
        "      <td> MARIA</td>\n",
        "      <td> PAULA</td>\n",
        "      <td>   LAURA</td>\n",
        "      <td>   MARTA</td>\n",
        "      <td>  ANDREA</td>\n",
        "      <td>    ALBA</td>\n",
        "      <td>    SARA</td>\n",
        "      <td> CLAUDIA</td>\n",
        "      <td>     ANA</td>\n",
        "      <td>...</td>\n",
        "      <td>     TANIA</td>\n",
        "      <td>          ELISA</td>\n",
        "      <td>    IRATI</td>\n",
        "      <td>  NADIA</td>\n",
        "      <td>   DIANA</td>\n",
        "      <td>    GEMA</td>\n",
        "      <td>         SUSANA</td>\n",
        "      <td>     SARAY</td>\n",
        "      <td>   ALEXIA</td>\n",
        "      <td>   GABRIELA</td>\n",
        "    </tr>\n",
        "    <tr>\n",
        "      <th>2002</th>\n",
        "      <td> MARIA</td>\n",
        "      <td> LUCIA</td>\n",
        "      <td> PAULA</td>\n",
        "      <td>   LAURA</td>\n",
        "      <td>   MARTA</td>\n",
        "      <td>    ALBA</td>\n",
        "      <td>  ANDREA</td>\n",
        "      <td>    SARA</td>\n",
        "      <td>     ANA</td>\n",
        "      <td>   NEREA</td>\n",
        "      <td>...</td>\n",
        "      <td> ALBAMARIA</td>\n",
        "      <td>          SALMA</td>\n",
        "      <td>  CANDELA</td>\n",
        "      <td>  PILAR</td>\n",
        "      <td> VALERIA</td>\n",
        "      <td>   NADIA</td>\n",
        "      <td>         ESTELA</td>\n",
        "      <td>  JENNIFER</td>\n",
        "      <td>    IRATI</td>\n",
        "      <td> INMACULADA</td>\n",
        "    </tr>\n",
        "  </tbody>\n",
        "</table>\n",
        "<p>11 rows \u00d7 100 columns</p>\n",
        "</div>"
       ],
       "metadata": {},
       "output_type": "pyout",
       "prompt_number": 59,
       "text": [
        "        1      2      3        4        5        6        7        8    \\\n",
        "a\u00f1o                                                                      \n",
        "2012  LUCIA  MARIA  PAULA  DANIELA     SARA    CARLA  MARTINA    SOFIA   \n",
        "2011  LUCIA  PAULA  MARIA     SARA  DANIELA    CARLA    SOFIA     ALBA   \n",
        "2010  LUCIA  PAULA  MARIA  DANIELA     SARA    CARLA  CLAUDIA    SOFIA   \n",
        "2009  LUCIA  PAULA  MARIA     SARA  DANIELA    CARLA  CLAUDIA    MARTA   \n",
        "2008  LUCIA  MARIA  PAULA     SARA    CARLA  CLAUDIA    LAURA    MARTA   \n",
        "2007  LUCIA  MARIA  PAULA     SARA    LAURA  CLAUDIA    IRENE    MARTA   \n",
        "2006  LUCIA  MARIA  PAULA    LAURA  CLAUDIA    IRENE    MARTA     ALBA   \n",
        "2005  LUCIA  MARIA  PAULA    LAURA    MARTA     ALBA  CLAUDIA    CARLA   \n",
        "2004  LUCIA  MARIA  PAULA    LAURA    MARTA     ALBA   ANDREA  CLAUDIA   \n",
        "2003  LUCIA  MARIA  PAULA    LAURA    MARTA   ANDREA     ALBA     SARA   \n",
        "2002  MARIA  LUCIA  PAULA    LAURA    MARTA     ALBA   ANDREA     SARA   \n",
        "\n",
        "          9        10    ...           91              92        93      94   \\\n",
        "a\u00f1o                      ...                                                   \n",
        "2012    JULIA     ALBA   ...          IRIS            JANA       ANE   LIDIA   \n",
        "2011  CLAUDIA  MARTINA   ...          MARA             ANE    TERESA  FATIMA   \n",
        "2010     ALBA    IRENE   ...       MANUELA       VALENTINA      MARA  ALEXIA   \n",
        "2009    IRENE    SOFIA   ...       MANUELA           SARAY  ANAMARIA    IRIS   \n",
        "2008    IRENE     ALBA   ...         NADIA           SARAY     SONIA  ALEXIA   \n",
        "2007     ALBA    CARLA   ...          IRIA          FATIMA     NADIA    UXUE   \n",
        "2006     SARA    CARLA   ...        TERESA             AYA     NADIA   SONIA   \n",
        "2005   ANDREA     SARA   ...         SARAY  MARIADELCARMEN     SONIA  YANIRA   \n",
        "2004     SARA    NEREA   ...         ABRIL           LEYRE    ESTELA   NOEMI   \n",
        "2003  CLAUDIA      ANA   ...         TANIA           ELISA     IRATI   NADIA   \n",
        "2002      ANA    NEREA   ...     ALBAMARIA           SALMA   CANDELA   PILAR   \n",
        "\n",
        "          95       96              97         98        99          100  \n",
        "a\u00f1o                                                                      \n",
        "2012    CHLOE    ARLET             ONA      IRATI    JUDITH        LUNA  \n",
        "2011    YAIZA      ZOE         BEATRIZ        ONA     NADIA        LUNA  \n",
        "2010   ESTHER    NADIA            IRIS  ALEXANDRA  ANAMARIA      TERESA  \n",
        "2009     MARA   MONICA       VALENTINA     ESTHER     NAHIA   ALEXANDRA  \n",
        "2008    NAHIA  MANUELA           NOEMI       NAIA    ESTELA         ANE  \n",
        "2007    NAHIA   REBECA       ALEXANDRA    MANUELA       ANE      ESTELA  \n",
        "2006     JANA   REBECA  MARIADELCARMEN     SORAYA     ZAIRA        GEMA  \n",
        "2005    NOEMI    NADIA        VERONICA       IRIA     IRATI      AFRICA  \n",
        "2004     IRIA     GEMA             ANE      NADIA     IRATI        LUNA  \n",
        "2003    DIANA     GEMA          SUSANA      SARAY    ALEXIA    GABRIELA  \n",
        "2002  VALERIA    NADIA          ESTELA   JENNIFER     IRATI  INMACULADA  \n",
        "\n",
        "[11 rows x 100 columns]"
       ]
      }
     ],
     "prompt_number": 59
    },
    {
     "cell_type": "code",
     "collapsed": false,
     "input": [
      "indices = nenas.T.xs('nombre', level = 'campo') == 'LUCIA'"
     ],
     "language": "python",
     "metadata": {},
     "outputs": [],
     "prompt_number": 71
    },
    {
     "cell_type": "code",
     "collapsed": false,
     "input": [
      "plt.figure(figsize = (20,6))\n",
      "nenas.T.xs('numero',level = 'campo')[indices].sum().plot(kind='bar')\n",
      "print(nenas.T.xs('numero',level = 'campo')[indices].sum().sum())"
     ],
     "language": "python",
     "metadata": {},
     "outputs": [
      {
       "output_type": "stream",
       "stream": "stdout",
       "text": [
        "88899.0\n"
       ]
      },
      {
       "metadata": {},
       "output_type": "display_data",
       "png": "[encoded data removed]",
       "text": [
        "<matplotlib.figure.Figure at 0x8d722b0>"
       ]
      }
     ],
     "prompt_number": 72
    },
    {
     "cell_type": "code",
     "collapsed": false,
     "input": [
      "plt.figure(figsize = (20,6))\n",
      "indices = nenas.T.xs('nombre', level = 'campo') == 'LUCIA'\n",
      "#nenas.T.xs('numero',level = 'campo')[indices].sum(axis = 1).plot(kind = 'bar', color = 'k')\n",
      "nenas.T.xs('numero',level = 'campo')[indices].sum(axis = 1).plot(color = 'k')\n",
      "print(nenas.T.xs('numero',level = 'campo')[indices].sum().sum())\n",
      "indices = nenas.T.xs('nombre', level = 'campo') == 'MARIA'\n",
      "#nenas.T.xs('numero',level = 'campo')[indices].sum(axis = 1).plot(kind = 'bar', color = 'y', alpha = 0.75)\n",
      "nenas.T.xs('numero',level = 'campo')[indices].sum(axis = 1).plot(color = 'y')\n",
      "print(nenas.T.xs('numero',level = 'campo')[indices].sum().sum())\n",
      "indices = nenas.T.xs('nombre', level = 'campo') == 'PAULA'\n",
      "#nenas.T.xs('numero',level = 'campo')[indices].sum(axis = 1).plot(kind = 'bar', color = 'y', alpha = 0.75)\n",
      "nenas.T.xs('numero',level = 'campo')[indices].sum(axis = 1).plot(color = 'b')\n",
      "print(nenas.T.xs('numero',level = 'campo')[indices].sum().sum())"
     ],
     "language": "python",
     "metadata": {},
     "outputs": [
      {
       "output_type": "stream",
       "stream": "stdout",
       "text": [
        "88899.0\n",
        "77750.0\n",
        "69759.0\n"
       ]
      },
      {
       "metadata": {},
       "output_type": "display_data",
       "png": "[encoded data removed]",
       "text": [
        "<matplotlib.figure.Figure at 0x70d8330>"
       ]
      }
     ],
     "prompt_number": 62
    },
    {
     "cell_type": "code",
     "collapsed": false,
     "input": [
      "nenes.T.xs('nombre', level = 'campo')"
     ],
     "language": "python",
     "metadata": {},
     "outputs": [
      {
       "html": [
        "<div style=\"max-height:1000px;max-width:1500px;overflow:auto;\">\n",
        "<table border=\"1\" class=\"dataframe\">\n",
        "  <thead>\n",
        "    <tr style=\"text-align: right;\">\n",
        "      <th></th>\n",
        "      <th>1</th>\n",
        "      <th>2</th>\n",
        "      <th>3</th>\n",
        "      <th>4</th>\n",
        "      <th>5</th>\n",
        "      <th>6</th>\n",
        "      <th>7</th>\n",
        "      <th>8</th>\n",
        "      <th>9</th>\n",
        "      <th>10</th>\n",
        "      <th>...</th>\n",
        "      <th>91</th>\n",
        "      <th>92</th>\n",
        "      <th>93</th>\n",
        "      <th>94</th>\n",
        "      <th>95</th>\n",
        "      <th>96</th>\n",
        "      <th>97</th>\n",
        "      <th>98</th>\n",
        "      <th>99</th>\n",
        "      <th>100</th>\n",
        "    </tr>\n",
        "    <tr>\n",
        "      <th>a\u00f1o</th>\n",
        "      <th></th>\n",
        "      <th></th>\n",
        "      <th></th>\n",
        "      <th></th>\n",
        "      <th></th>\n",
        "      <th></th>\n",
        "      <th></th>\n",
        "      <th></th>\n",
        "      <th></th>\n",
        "      <th></th>\n",
        "      <th></th>\n",
        "      <th></th>\n",
        "      <th></th>\n",
        "      <th></th>\n",
        "      <th></th>\n",
        "      <th></th>\n",
        "      <th></th>\n",
        "      <th></th>\n",
        "      <th></th>\n",
        "      <th></th>\n",
        "      <th></th>\n",
        "    </tr>\n",
        "  </thead>\n",
        "  <tbody>\n",
        "    <tr>\n",
        "      <th>2012</th>\n",
        "      <td>    DANIEL</td>\n",
        "      <td>      HUGO</td>\n",
        "      <td> ALEJANDRO</td>\n",
        "      <td> PABLO</td>\n",
        "      <td> ALVARO</td>\n",
        "      <td> ADRIAN</td>\n",
        "      <td>  DAVID</td>\n",
        "      <td>  DIEGO</td>\n",
        "      <td>  MARIO</td>\n",
        "      <td> JAVIER</td>\n",
        "      <td>...</td>\n",
        "      <td> FRANCISCOJAVIER</td>\n",
        "      <td>      YAGO</td>\n",
        "      <td>       CESAR</td>\n",
        "      <td>   ADRIA</td>\n",
        "      <td>     OMAR</td>\n",
        "      <td>       YERAY</td>\n",
        "      <td>      GAEL</td>\n",
        "      <td>        JON</td>\n",
        "      <td>         MIKEL</td>\n",
        "      <td>       GUILLEM</td>\n",
        "    </tr>\n",
        "    <tr>\n",
        "      <th>2011</th>\n",
        "      <td> ALEJANDRO</td>\n",
        "      <td>    DANIEL</td>\n",
        "      <td>     PABLO</td>\n",
        "      <td>  HUGO</td>\n",
        "      <td> ALVARO</td>\n",
        "      <td> ADRIAN</td>\n",
        "      <td>  DAVID</td>\n",
        "      <td>  DIEGO</td>\n",
        "      <td> JAVIER</td>\n",
        "      <td>  MARIO</td>\n",
        "      <td>...</td>\n",
        "      <td>           JORDI</td>\n",
        "      <td>       IAN</td>\n",
        "      <td>        OMAR</td>\n",
        "      <td> GUILLEM</td>\n",
        "      <td>    CESAR</td>\n",
        "      <td>        GAEL</td>\n",
        "      <td>     YERAY</td>\n",
        "      <td>        JON</td>\n",
        "      <td>         ANDER</td>\n",
        "      <td>      JUANJOSE</td>\n",
        "    </tr>\n",
        "    <tr>\n",
        "      <th>2010</th>\n",
        "      <td>    DANIEL</td>\n",
        "      <td> ALEJANDRO</td>\n",
        "      <td>     PABLO</td>\n",
        "      <td>  HUGO</td>\n",
        "      <td> ALVARO</td>\n",
        "      <td> ADRIAN</td>\n",
        "      <td>  DAVID</td>\n",
        "      <td> JAVIER</td>\n",
        "      <td>  DIEGO</td>\n",
        "      <td>  MARIO</td>\n",
        "      <td>...</td>\n",
        "      <td>         GUILLEM</td>\n",
        "      <td>       IAN</td>\n",
        "      <td>       CESAR</td>\n",
        "      <td>   YERAY</td>\n",
        "      <td>    MIKEL</td>\n",
        "      <td>    JUANJOSE</td>\n",
        "      <td>       JON</td>\n",
        "      <td>        NIL</td>\n",
        "      <td>        ARTURO</td>\n",
        "      <td>       JOAQUIN</td>\n",
        "    </tr>\n",
        "    <tr>\n",
        "      <th>2009</th>\n",
        "      <td>    DANIEL</td>\n",
        "      <td> ALEJANDRO</td>\n",
        "      <td>     PABLO</td>\n",
        "      <td>  HUGO</td>\n",
        "      <td> ALVARO</td>\n",
        "      <td> ADRIAN</td>\n",
        "      <td>  DAVID</td>\n",
        "      <td> JAVIER</td>\n",
        "      <td> SERGIO</td>\n",
        "      <td>  DIEGO</td>\n",
        "      <td>...</td>\n",
        "      <td>      JUANMANUEL</td>\n",
        "      <td>     ALEIX</td>\n",
        "      <td>       CESAR</td>\n",
        "      <td>   ROGER</td>\n",
        "      <td> JOSELUIS</td>\n",
        "      <td>       YERAY</td>\n",
        "      <td> JOSEMARIA</td>\n",
        "      <td>      SERGI</td>\n",
        "      <td>         MIKEL</td>\n",
        "      <td>         KEVIN</td>\n",
        "    </tr>\n",
        "    <tr>\n",
        "      <th>2008</th>\n",
        "      <td>    DANIEL</td>\n",
        "      <td> ALEJANDRO</td>\n",
        "      <td>     PABLO</td>\n",
        "      <td> DAVID</td>\n",
        "      <td> ADRIAN</td>\n",
        "      <td>   HUGO</td>\n",
        "      <td> ALVARO</td>\n",
        "      <td> JAVIER</td>\n",
        "      <td>  DIEGO</td>\n",
        "      <td> SERGIO</td>\n",
        "      <td>...</td>\n",
        "      <td>          GERARD</td>\n",
        "      <td>     SERGI</td>\n",
        "      <td>       ALEIX</td>\n",
        "      <td>   ENEKO</td>\n",
        "      <td>    CESAR</td>\n",
        "      <td> JUANANTONIO</td>\n",
        "      <td>     AIMAR</td>\n",
        "      <td>      ROGER</td>\n",
        "      <td>       JOAQUIN</td>\n",
        "      <td>     JOSEMARIA</td>\n",
        "    </tr>\n",
        "    <tr>\n",
        "      <th>2007</th>\n",
        "      <td>    DANIEL</td>\n",
        "      <td> ALEJANDRO</td>\n",
        "      <td>     PABLO</td>\n",
        "      <td> DAVID</td>\n",
        "      <td> ADRIAN</td>\n",
        "      <td> ALVARO</td>\n",
        "      <td>   HUGO</td>\n",
        "      <td> JAVIER</td>\n",
        "      <td>  DIEGO</td>\n",
        "      <td> SERGIO</td>\n",
        "      <td>...</td>\n",
        "      <td>      JUANMANUEL</td>\n",
        "      <td> JOSEMARIA</td>\n",
        "      <td>   CHRISTIAN</td>\n",
        "      <td>   ALEIX</td>\n",
        "      <td>    ISAAC</td>\n",
        "      <td> JUANANTONIO</td>\n",
        "      <td>     CESAR</td>\n",
        "      <td>      AIMAR</td>\n",
        "      <td>         ANDER</td>\n",
        "      <td>        XAVIER</td>\n",
        "    </tr>\n",
        "    <tr>\n",
        "      <th>2006</th>\n",
        "      <td> ALEJANDRO</td>\n",
        "      <td>    DANIEL</td>\n",
        "      <td>     PABLO</td>\n",
        "      <td> DAVID</td>\n",
        "      <td> ADRIAN</td>\n",
        "      <td> ALVARO</td>\n",
        "      <td> JAVIER</td>\n",
        "      <td> SERGIO</td>\n",
        "      <td>   HUGO</td>\n",
        "      <td>  DIEGO</td>\n",
        "      <td>...</td>\n",
        "      <td>           YERAY</td>\n",
        "      <td>     AIMAR</td>\n",
        "      <td> JUANANTONIO</td>\n",
        "      <td>    ERIK</td>\n",
        "      <td>  JOAQUIN</td>\n",
        "      <td>       BRUNO</td>\n",
        "      <td>      SAUL</td>\n",
        "      <td> JUANCARLOS</td>\n",
        "      <td>         ROGER</td>\n",
        "      <td> FRANCISCOJOSE</td>\n",
        "    </tr>\n",
        "    <tr>\n",
        "      <th>2005</th>\n",
        "      <td> ALEJANDRO</td>\n",
        "      <td>    DANIEL</td>\n",
        "      <td>     PABLO</td>\n",
        "      <td> DAVID</td>\n",
        "      <td> ADRIAN</td>\n",
        "      <td> JAVIER</td>\n",
        "      <td> ALVARO</td>\n",
        "      <td> SERGIO</td>\n",
        "      <td> CARLOS</td>\n",
        "      <td> MARCOS</td>\n",
        "      <td>...</td>\n",
        "      <td>           ISAAC</td>\n",
        "      <td>   JOAQUIN</td>\n",
        "      <td>       ALEIX</td>\n",
        "      <td>   ANDER</td>\n",
        "      <td>    BRUNO</td>\n",
        "      <td>        ADAM</td>\n",
        "      <td>       JON</td>\n",
        "      <td>      MIKEL</td>\n",
        "      <td> FRANCISCOJOSE</td>\n",
        "      <td>         AIMAR</td>\n",
        "    </tr>\n",
        "    <tr>\n",
        "      <th>2004</th>\n",
        "      <td> ALEJANDRO</td>\n",
        "      <td>     DAVID</td>\n",
        "      <td>    DANIEL</td>\n",
        "      <td> PABLO</td>\n",
        "      <td> ADRIAN</td>\n",
        "      <td> ALVARO</td>\n",
        "      <td> JAVIER</td>\n",
        "      <td> SERGIO</td>\n",
        "      <td> CARLOS</td>\n",
        "      <td> MARCOS</td>\n",
        "      <td>...</td>\n",
        "      <td>           CESAR</td>\n",
        "      <td>   GUILLEM</td>\n",
        "      <td>       MARTI</td>\n",
        "      <td>  ALBERT</td>\n",
        "      <td> JONATHAN</td>\n",
        "      <td>       MIKEL</td>\n",
        "      <td>     MATEO</td>\n",
        "      <td>      DARIO</td>\n",
        "      <td>       ALFONSO</td>\n",
        "      <td>         ANDER</td>\n",
        "    </tr>\n",
        "    <tr>\n",
        "      <th>2003</th>\n",
        "      <td> ALEJANDRO</td>\n",
        "      <td>    DANIEL</td>\n",
        "      <td>     PABLO</td>\n",
        "      <td> DAVID</td>\n",
        "      <td> JAVIER</td>\n",
        "      <td> ADRIAN</td>\n",
        "      <td> ALVARO</td>\n",
        "      <td> SERGIO</td>\n",
        "      <td> CARLOS</td>\n",
        "      <td>   HUGO</td>\n",
        "      <td>...</td>\n",
        "      <td>         RICARDO</td>\n",
        "      <td>     MARCO</td>\n",
        "      <td>       ISAAC</td>\n",
        "      <td>   CESAR</td>\n",
        "      <td>    ANDER</td>\n",
        "      <td>        IZAN</td>\n",
        "      <td>   GUILLEM</td>\n",
        "      <td>       ABEL</td>\n",
        "      <td>         MARTI</td>\n",
        "      <td>         MATEO</td>\n",
        "    </tr>\n",
        "    <tr>\n",
        "      <th>2002</th>\n",
        "      <td> ALEJANDRO</td>\n",
        "      <td>     PABLO</td>\n",
        "      <td>    DANIEL</td>\n",
        "      <td> DAVID</td>\n",
        "      <td> ADRIAN</td>\n",
        "      <td> JAVIER</td>\n",
        "      <td> ALVARO</td>\n",
        "      <td> SERGIO</td>\n",
        "      <td> CARLOS</td>\n",
        "      <td>  MARIO</td>\n",
        "      <td>...</td>\n",
        "      <td>         GUILLEM</td>\n",
        "      <td>   RICARDO</td>\n",
        "      <td>       CESAR</td>\n",
        "      <td>   ISAAC</td>\n",
        "      <td>    RAMON</td>\n",
        "      <td>  JOSEMIGUEL</td>\n",
        "      <td>     ANDER</td>\n",
        "      <td>      MARCO</td>\n",
        "      <td>      SALVADOR</td>\n",
        "      <td>         MARTI</td>\n",
        "    </tr>\n",
        "  </tbody>\n",
        "</table>\n",
        "<p>11 rows \u00d7 100 columns</p>\n",
        "</div>"
       ],
       "metadata": {},
       "output_type": "pyout",
       "prompt_number": 63,
       "text": [
        "            1          2          3      4       5       6       7       8    \\\n",
        "a\u00f1o                                                                            \n",
        "2012     DANIEL       HUGO  ALEJANDRO  PABLO  ALVARO  ADRIAN   DAVID   DIEGO   \n",
        "2011  ALEJANDRO     DANIEL      PABLO   HUGO  ALVARO  ADRIAN   DAVID   DIEGO   \n",
        "2010     DANIEL  ALEJANDRO      PABLO   HUGO  ALVARO  ADRIAN   DAVID  JAVIER   \n",
        "2009     DANIEL  ALEJANDRO      PABLO   HUGO  ALVARO  ADRIAN   DAVID  JAVIER   \n",
        "2008     DANIEL  ALEJANDRO      PABLO  DAVID  ADRIAN    HUGO  ALVARO  JAVIER   \n",
        "2007     DANIEL  ALEJANDRO      PABLO  DAVID  ADRIAN  ALVARO    HUGO  JAVIER   \n",
        "2006  ALEJANDRO     DANIEL      PABLO  DAVID  ADRIAN  ALVARO  JAVIER  SERGIO   \n",
        "2005  ALEJANDRO     DANIEL      PABLO  DAVID  ADRIAN  JAVIER  ALVARO  SERGIO   \n",
        "2004  ALEJANDRO      DAVID     DANIEL  PABLO  ADRIAN  ALVARO  JAVIER  SERGIO   \n",
        "2003  ALEJANDRO     DANIEL      PABLO  DAVID  JAVIER  ADRIAN  ALVARO  SERGIO   \n",
        "2002  ALEJANDRO      PABLO     DANIEL  DAVID  ADRIAN  JAVIER  ALVARO  SERGIO   \n",
        "\n",
        "         9       10    ...                91         92           93   \\\n",
        "a\u00f1o                    ...                                              \n",
        "2012   MARIO  JAVIER   ...    FRANCISCOJAVIER       YAGO        CESAR   \n",
        "2011  JAVIER   MARIO   ...              JORDI        IAN         OMAR   \n",
        "2010   DIEGO   MARIO   ...            GUILLEM        IAN        CESAR   \n",
        "2009  SERGIO   DIEGO   ...         JUANMANUEL      ALEIX        CESAR   \n",
        "2008   DIEGO  SERGIO   ...             GERARD      SERGI        ALEIX   \n",
        "2007   DIEGO  SERGIO   ...         JUANMANUEL  JOSEMARIA    CHRISTIAN   \n",
        "2006    HUGO   DIEGO   ...              YERAY      AIMAR  JUANANTONIO   \n",
        "2005  CARLOS  MARCOS   ...              ISAAC    JOAQUIN        ALEIX   \n",
        "2004  CARLOS  MARCOS   ...              CESAR    GUILLEM        MARTI   \n",
        "2003  CARLOS    HUGO   ...            RICARDO      MARCO        ISAAC   \n",
        "2002  CARLOS   MARIO   ...            GUILLEM    RICARDO        CESAR   \n",
        "\n",
        "          94        95           96         97          98             99   \\\n",
        "a\u00f1o                                                                          \n",
        "2012    ADRIA      OMAR        YERAY       GAEL         JON          MIKEL   \n",
        "2011  GUILLEM     CESAR         GAEL      YERAY         JON          ANDER   \n",
        "2010    YERAY     MIKEL     JUANJOSE        JON         NIL         ARTURO   \n",
        "2009    ROGER  JOSELUIS        YERAY  JOSEMARIA       SERGI          MIKEL   \n",
        "2008    ENEKO     CESAR  JUANANTONIO      AIMAR       ROGER        JOAQUIN   \n",
        "2007    ALEIX     ISAAC  JUANANTONIO      CESAR       AIMAR          ANDER   \n",
        "2006     ERIK   JOAQUIN        BRUNO       SAUL  JUANCARLOS          ROGER   \n",
        "2005    ANDER     BRUNO         ADAM        JON       MIKEL  FRANCISCOJOSE   \n",
        "2004   ALBERT  JONATHAN        MIKEL      MATEO       DARIO        ALFONSO   \n",
        "2003    CESAR     ANDER         IZAN    GUILLEM        ABEL          MARTI   \n",
        "2002    ISAAC     RAMON   JOSEMIGUEL      ANDER       MARCO       SALVADOR   \n",
        "\n",
        "                100  \n",
        "a\u00f1o                  \n",
        "2012        GUILLEM  \n",
        "2011       JUANJOSE  \n",
        "2010        JOAQUIN  \n",
        "2009          KEVIN  \n",
        "2008      JOSEMARIA  \n",
        "2007         XAVIER  \n",
        "2006  FRANCISCOJOSE  \n",
        "2005          AIMAR  \n",
        "2004          ANDER  \n",
        "2003          MATEO  \n",
        "2002          MARTI  \n",
        "\n",
        "[11 rows x 100 columns]"
       ]
      }
     ],
     "prompt_number": 63
    },
    {
     "cell_type": "code",
     "collapsed": false,
     "input": [
      "plt.figure(figsize = (20,6))\n",
      "indices = nenes.T.xs('nombre', level = 'campo') == 'DANIEL'\n",
      "nenes.T.xs('numero',level = 'campo')[indices].sum(axis = 1).plot(color = 'k')\n",
      "print(nenes.T.xs('numero',level = 'campo')[indices].sum().sum())\n",
      "indices = nenes.T.xs('nombre', level = 'campo') == 'ALEJANDRO'\n",
      "nenes.T.xs('numero',level = 'campo')[indices].sum(axis = 1).plot(color = 'y', alpha = 0.5)\n",
      "print(nenes.T.xs('numero',level = 'campo')[indices].sum().sum())\n",
      "indices = nenes.T.xs('nombre', level = 'campo') == 'PABLO'\n",
      "nenes.T.xs('numero',level = 'campo')[indices].sum(axis = 1).plot(color = 'b', alpha = 0.5)\n",
      "print(nenes.T.xs('numero',level = 'campo')[indices].sum().sum())\n",
      "indices = nenes.T.xs('nombre', level = 'campo') == 'HUGO'\n",
      "nenes.T.xs('numero',level = 'campo')[indices].sum(axis = 1).plot(color = 'g', alpha = 0.5)\n",
      "print(nenes.T.xs('numero',level = 'campo')[indices].sum().sum())"
     ],
     "language": "python",
     "metadata": {},
     "outputs": [
      {
       "output_type": "stream",
       "stream": "stdout",
       "text": [
        "68603.0\n",
        "74439.0\n",
        "63519.0\n",
        "20094.0\n"
       ]
      },
      {
       "metadata": {},
       "output_type": "display_data",
       "png": "[encoded data removed]",
       "text": [
        "<matplotlib.figure.Figure at 0x8a0c3d0>"
       ]
      }
     ],
     "prompt_number": 66
    },
    {
     "cell_type": "code",
     "collapsed": true,
     "input": [],
     "language": "python",
     "metadata": {},
     "outputs": []
    }
   ],
   "metadata": {}
  }
 ]
}