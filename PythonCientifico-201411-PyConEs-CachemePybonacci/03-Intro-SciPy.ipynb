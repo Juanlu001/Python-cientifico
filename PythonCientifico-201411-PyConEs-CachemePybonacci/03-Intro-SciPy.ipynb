{
 "metadata": {
  "name": "",
  "signature": "sha256:7cf591a9240964e4db513cade5897e7fba9b3c501b92ece91b4edf5a704c6970"
 },
 "nbformat": 3,
 "nbformat_minor": 0,
 "worksheets": [
  {
   "cells": [
    {
     "cell_type": "markdown",
     "metadata": {},
     "source": [
      "# Taller Python Cient\u00edfico - PyConES 2014\n",
      "## Parte III: SciPy\n",
      "\n",
      "#### Juan Luis Cano, Kiko Correoso y \u00c1lex S\u00e1ez ([@Pybonacci](https://twitter.com/Pybonacci))\n",
      "#### Fran Navarro, Zuria Bauer y Daniel Domene ([@CAChemEorg](http://twitter.com/CAChemE))"
     ]
    },
    {
     "cell_type": "markdown",
     "metadata": {},
     "source": [
      "<a rel=\"license\" href=\"http://creativecommons.org/licenses/by/4.0/deed.es\"><img alt=\"Licencia Creative Commons\" style=\"border-width:0\" src=\"http://i.creativecommons.org/l/by/4.0/88x31.png\" /></a><br /><span xmlns:dct=\"http://purl.org/dc/terms/\" property=\"dct:title\">Taller de </span> por <span xmlns:cc=\"http://creativecommons.org/ns#\" property=\"cc:attributionName\">Pybonacci y CAChemE</span> se distribuye bajo una <a rel=\"license\" href=\"http://creativecommons.org/licenses/by/4.0/deed.es\">Licencia Creative Commons Atribuci\u00f3n 4.0 Internacional</a>."
     ]
    },
    {
     "cell_type": "heading",
     "level": 1,
     "metadata": {},
     "source": [
      "\u00bfQu\u00e9 es SciPy?"
     ]
    },
    {
     "cell_type": "markdown",
     "metadata": {},
     "source": [
      "[SciPy](http://www.scipy.org/) es un conjunto de paquetes open-source para computaci\u00f3n cient\u00edfica general (mat\u00e9maticas, ciencia e ingenier\u00eda). La mayor\u00eda hacen uso NumPy (biblioteca de Python para matrices multidimensionales), otros ofrecen interfaces a programas muy conocidos y utilizados escritos en Fortran, o C++. SciPy ofrece as\u00ed un gran n\u00famero de algoritmos cient\u00edficos de alto nivel, algunos de los temas cubiertos son:\n",
      "\n",
      "* Funciones especiales ([scipy.special](http://docs.scipy.org/doc/scipy/reference/special.html))\n",
      "* Integraci\u00f3n ([scipy.integrate](http://docs.scipy.org/doc/scipy/reference/integrate.html))\n",
      "* Estad\u00edstica ([scipy.stats](http://docs.scipy.org/doc/scipy/reference/stats.html))\n",
      "* Algebra lineal ([scipy.linalg](http://docs.scipy.org/doc/scipy/reference/linalg.html))\n",
      "* Optimizaci\u00f3n ([scipy.optimize](http://docs.scipy.org/doc/scipy/reference/optimize.html))\n",
      "* Interpolaci\u00f3n ([scipy.interpolate](http://docs.scipy.org/doc/scipy/reference/interpolate.html))\n",
      "* Transformadas de Fourier ([scipy.fftpack](http://docs.scipy.org/doc/scipy/reference/fftpack.html))\n",
      "* Procesamiento de se\u00f1ales ([scipy.signal](http://docs.scipy.org/doc/scipy/reference/signal.html))\n",
      "* Matrices dispersas ([scipy.sparse](http://docs.scipy.org/doc/scipy/reference/sparse.html))\n",
      "* Tratamiento de im\u00e1genes multi-dimensionales ([scipy.ndimage](http://docs.scipy.org/doc/scipy/reference/ndimage.html))\n",
      "* Lectura/escritura de archivos (en ingl\u00e9s, I/O) ([scipy.io](http://docs.scipy.org/doc/scipy/reference/io.html))"
     ]
    },
    {
     "cell_type": "markdown",
     "metadata": {},
     "source": [
      "Antes de ponernos a programar, vale la pena comprobar si la funcionalidad que deseamos utilizar no est\u00e1 ya implementada en SciPy. Como programadores no profesionales, los cient\u00edficos a menudo tendemos a reinventar la rueda, lo que conduce a errores, c\u00f3digo no optimizado, dif\u00edcil de compartir e imposible de mantener. Por el contrario, los programas de SciPy est\u00e1n optimizados y probados, y por lo tanto deben ser utilizados cuando sea posible.\n",
      "\n",
      "Como siempre, para hacer el uso de estas funciones, __importaremos__ lo paquetes que vayamos a necesitar:"
     ]
    },
    {
     "cell_type": "markdown",
     "metadata": {},
     "source": [
      "    import scipy as ...\n",
      "\n",
      "\n",
      "Bueno, en realidad `SciPy` nos ofrece muchas funciones y rara vez querremos usarlo todo en una misma sesi\u00f3n. __T\u00edpicamente usaremos:__\n",
      "\n",
      "    from scipy import ..."
     ]
    },
    {
     "cell_type": "markdown",
     "metadata": {},
     "source": [
      "Debido a limitaci\u00f3n de tiempo en este taller, vamos a centrarnos solo en el paquete de integraci\u00f3n. Si quieres, puedes darle un vistazo r\u00e1pido a [Scientific Lectures: SciPy, high-level scientific computing](https://scipy-lectures.github.io/intro/scipy.html) donde puedes encontrar ejemplos m\u00e1s variados."
     ]
    },
    {
     "cell_type": "heading",
     "level": 1,
     "metadata": {},
     "source": [
      "Integraci\u00f3n mediante m\u00e9todos num\u00e9ricos con SciPy/Python"
     ]
    },
    {
     "cell_type": "markdown",
     "metadata": {},
     "source": [
      "SciPy proporciona el paquete `integrate` que proporciona algunas __t\u00e9cnicas de integraci\u00f3n tanto de funciones como de ecuaciones diferenciales__. En primer lugar import\u00e9mos el paquete y el resto de librer\u00edas que vayamos a necesitar. "
     ]
    },
    {
     "cell_type": "code",
     "collapsed": false,
     "input": [
      "import numpy as np\n",
      "import matplotlib.pyplot as plt\n",
      "\n",
      "%matplotlib inline"
     ],
     "language": "python",
     "metadata": {},
     "outputs": [],
     "prompt_number": 1
    },
    {
     "cell_type": "code",
     "collapsed": false,
     "input": [
      "from scipy import integrate"
     ],
     "language": "python",
     "metadata": {},
     "outputs": [],
     "prompt_number": 2
    },
    {
     "cell_type": "heading",
     "level": 2,
     "metadata": {},
     "source": [
      "Cuadratura de Gauss"
     ]
    },
    {
     "cell_type": "markdown",
     "metadata": {},
     "source": [
      "Como se puede ver en la [ayuda](http://docs.scipy.org/doc/scipy/reference/tutorial/integrate.html), si queremos realizar una _integraci\u00f3n num\u00e9rica_ de una funci\u00f3n de una variable, podemos utilizar el [m\u00e9todo de cuadratura de Gauss](http://es.wikipedia.org/wiki/Cuadratura_de_Gauss) [`quad`](http://docs.scipy.org/doc/scipy-0.14.0/reference/generated/scipy.integrate.quad.html) (aunque tambi\u00e9n podemos usar `trapz`, `simps`...). La forma de acceder a ella tal y como hemos importado el paquete ser\u00eda ejecutando `integrate.quad`. Sin embargo, es m\u00e1s com\u00fan importarla del siguiete modo:"
     ]
    },
    {
     "cell_type": "code",
     "collapsed": false,
     "input": [
      "from scipy.integrate import quad"
     ],
     "language": "python",
     "metadata": {},
     "outputs": [],
     "prompt_number": 3
    },
    {
     "cell_type": "markdown",
     "metadata": {},
     "source": [
      "\u00bfQu\u00e9 es lo primero que necesitamos hacer para integrar una funci\u00f3n? Pues s\u00ed, la funci\u00f3n... definamos una:\n",
      "\n",
      "$$f(x) = x sin(x)$$"
     ]
    },
    {
     "cell_type": "code",
     "collapsed": false,
     "input": [
      "def fun(x):\n",
      "    return x * np.sin(x)"
     ],
     "language": "python",
     "metadata": {},
     "outputs": [],
     "prompt_number": 4
    },
    {
     "cell_type": "markdown",
     "metadata": {},
     "source": [
      "Integraremos la funci\u00f3n en el intervalo $[2, 9]$:\n",
      "$$ \\int_{2}^{9} x sin(x) dx$$"
     ]
    },
    {
     "cell_type": "code",
     "collapsed": false,
     "input": [
      "x_inferior = 2\n",
      "x_superior = 9\n",
      "\n",
      "value, err = quad(fun, x_inferior, x_superior)\n",
      "\n",
      "print('El resultado es: %f con un error de %e' %(value, err))"
     ],
     "language": "python",
     "metadata": {},
     "outputs": [
      {
       "output_type": "stream",
       "stream": "stdout",
       "text": [
        "El resultado es: 6.870700 con un error de 2.864870e-13\n"
       ]
      }
     ],
     "prompt_number": 5
    },
    {
     "cell_type": "markdown",
     "metadata": {},
     "source": [
      "Si lo deseamos, podemos hacer uso de lo que acabamos de aprender en la secci\u00f3n previa de este taller y representar la funci\u00f3n e intervalo de integraci\u00f3n que hemos tomado. F\u00edjate en como hemos hecho uso de $\\LaTeX$ en el t\u00edtulo del gr\u00e1fico."
     ]
    },
    {
     "cell_type": "code",
     "collapsed": false,
     "input": [
      "# Vector con valores de la variable independiente\n",
      "x = np.linspace(0,10,100)\n",
      "\n",
      "# Hacemos uso de la funci\u00f3n para obtener los valores\n",
      "# de la variable dependiente\n",
      "y = fun(x)\n",
      "\n",
      "# Representamos la figura\n",
      "plt.plot(x,y, linewidth = 2)\n",
      "\n",
      "# A\u00f1adimos un t\u00edtulo\n",
      "plt.title(u'$y = x sin(x)$', fontsize = 25)\n",
      "\n",
      "# Creamos el intervalo para sombrear el \u00e1rea de integraci\u00f3n\n",
      "x_fill = np.linspace(2,9,100)\n",
      "# Obtenemos los puntos sobre la curva\n",
      "y_fill = fun(x_fill)\n",
      "\n",
      "# Dibujamos el \u00e1rea sombreada\n",
      "plt.fill_between(x_fill,y_fill, color = 'gray', alpha = 0.5)\n",
      "\n",
      "# Representamos los resultados con una gradilla\n",
      "plt.grid()"
     ],
     "language": "python",
     "metadata": {},
     "outputs": [
      {
       "metadata": {},
       "output_type": "display_data",
       "png": "[encoded data removed]",
       "text": [
        "<matplotlib.figure.Figure at 0x7fb6f60>"
       ]
      }
     ],
     "prompt_number": 6
    },
    {
     "cell_type": "markdown",
     "metadata": {},
     "source": [
      "De forma similar, SciPy dispone de funciones de integraci\u00f3n num\u00e9rica para integrales dobles y triples ([`dblquad`](http://docs.scipy.org/doc/scipy-0.14.0/reference/generated/scipy.integrate.dblquad.html#scipy.integrate.dblquad) y [`tplquad`](http://docs.scipy.org/doc/scipy-0.14.0/reference/generated/scipy.integrate.tplquad.html#scipy.integrate.tplquad) , respectivamente)."
     ]
    },
    {
     "cell_type": "heading",
     "level": 2,
     "metadata": {},
     "source": [
      "Ecuaciones diferenciales ordinarias"
     ]
    },
    {
     "cell_type": "markdown",
     "metadata": {},
     "source": [
      "Para integrar EDOs vamos a usar la funci\u00f3n `odeint` del paquete `integrate`, que permite integrar sistemas del tipo:\n",
      "\n",
      "$$ \\frac{d\\mathbf{y}}{dt}=\\mathbf{f}\\left(\\mathbf{y},t\\right)$$\n",
      "\n",
      "con condiciones iniciales $\\mathbf{y}(\\mathbf{0}) = \\mathbf{y_0}$."
     ]
    },
    {
     "cell_type": "markdown",
     "metadata": {},
     "source": [
      "SciPy ofrece dos maneras diferentes para resolver EDOs: Una API basada en la funci\u00f3n `odeint` y otra orientada a objetos basados en la clase `ode`. Por lo general, `odeint` es m\u00e1s sencilla de utilizar, por lo que la usaremos en este taller, pero la clase `ode` ofrece un cierto nivel de control m\u00e1s preciso. \n",
      "\n",
      "Para poder utilizar `odeint`, debemos de importarlo desde el m\u00f3dulo `scipy.integrate` y definir la funci\u00f3n diferencial a integrar:"
     ]
    },
    {
     "cell_type": "code",
     "collapsed": false,
     "input": [
      "from scipy.integrate import odeint"
     ],
     "language": "python",
     "metadata": {},
     "outputs": [],
     "prompt_number": 7
    },
    {
     "cell_type": "markdown",
     "metadata": {},
     "source": [
      "$$\\frac{dy}{dt} + y = 0$$\n",
      "\n",
      "$$\\frac{dy}{dt} = -y$$"
     ]
    },
    {
     "cell_type": "code",
     "collapsed": false,
     "input": [
      "def f(y, t):\n",
      "    return -y"
     ],
     "language": "python",
     "metadata": {},
     "outputs": [],
     "prompt_number": 8
    },
    {
     "cell_type": "markdown",
     "metadata": {},
     "source": [
      "<div class=\"alert alert-error\">**\u00a1Importante!**: F\u00edjate que la funci\u00f3n del sistema recibe como primer argumento $\\mathbf{y}$ (un array) y como segundo argumento el instante $t$ (un escalar). Esta convenci\u00f3n va exactamente al rev\u00e9s que en MATLAB y nos equivocamos obtendremos errores o, lo que es peor, resultados incorrectos.</div>"
     ]
    },
    {
     "cell_type": "markdown",
     "metadata": {},
     "source": [
      "Condiciones iniciales:"
     ]
    },
    {
     "cell_type": "code",
     "collapsed": false,
     "input": [
      "y0 = 1"
     ],
     "language": "python",
     "metadata": {},
     "outputs": [],
     "prompt_number": 9
    },
    {
     "cell_type": "markdown",
     "metadata": {},
     "source": [
      "Vector de tiempos donde realizamos la integraci\u00f3n:"
     ]
    },
    {
     "cell_type": "code",
     "collapsed": false,
     "input": [
      "t = np.linspace(0, 3)"
     ],
     "language": "python",
     "metadata": {},
     "outputs": [],
     "prompt_number": 10
    },
    {
     "cell_type": "markdown",
     "metadata": {},
     "source": [
      "Integramos y representamos la soluci\u00f3n:"
     ]
    },
    {
     "cell_type": "code",
     "collapsed": false,
     "input": [
      "sol = odeint(f, y0, t)\n",
      "plt.plot(t, sol)"
     ],
     "language": "python",
     "metadata": {},
     "outputs": [
      {
       "metadata": {},
       "output_type": "pyout",
       "prompt_number": 11,
       "text": [
        "[<matplotlib.lines.Line2D at 0x7ff5e10>]"
       ]
      },
      {
       "metadata": {},
       "output_type": "display_data",
       "png": "[encoded data removed]",
       "text": [
        "<matplotlib.figure.Figure at 0x85af9e8>"
       ]
      }
     ],
     "prompt_number": 11
    },
    {
     "cell_type": "markdown",
     "metadata": {},
     "source": [
      "Tal y como pod\u00edamos esperar,  la resoluci\u00f3n de esta ecuaci\u00f3n diferencial devuelve una exponencial negativa.\n",
      "\n",
      "En el siguiente notebook, veremos un ejemplo aplicado de la resoluci\u00f3n de un sistema de EDOs para modelar el comportamiento de una epidemia. "
     ]
    },
    {
     "cell_type": "markdown",
     "metadata": {},
     "source": [
      "## Referencias\n",
      "\n",
      "* https://github.com/jrjohansson/scientific-python-lectures\n",
      "* https://scipy-lectures.github.io/\n",
      "* https://github.com/AeroPython/Curso_AeroPython\n",
      "* http://cacheme.org/curso-online-python-cientifico-ingenieros/"
     ]
    }
   ],
   "metadata": {}
  }
 ]
}